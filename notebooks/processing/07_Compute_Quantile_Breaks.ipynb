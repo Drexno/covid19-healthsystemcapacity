{
 "cells": [
  {
   "cell_type": "code",
   "execution_count": null,
   "metadata": {},
   "outputs": [],
   "source": [
    "import json\n",
    "from collections import defaultdict\n",
    "\n",
    "import numpy as np\n",
    "\n",
    "from covidcaremap.constants import *\n",
    "from covidcaremap.data import published_data_path, processed_data_path"
   ]
  },
  {
   "cell_type": "markdown",
   "metadata": {},
   "source": [
    "## Compute Quantile Breaks\n",
    "\n",
    "**Note:** This is a work in progress. Currently it just computes the min and max values."
   ]
  },
  {
   "cell_type": "code",
   "execution_count": null,
   "metadata": {},
   "outputs": [],
   "source": [
    "with open(published_data_path('us_healthcare_capacity-county-CovidCareMap.geojson')) as f:\n",
    "    by_county = json.loads(f.read())\n",
    "    \n",
    "with open(published_data_path('us_healthcare_capacity-state-CovidCareMap.geojson')) as f:\n",
    "    by_state = json.loads(f.read())\n",
    "    \n",
    "with open(published_data_path('us_healthcare_capacity-hrr-CovidCareMap.geojson')) as f:\n",
    "    by_hrr = json.loads(f.read())\n",
    "    \n",
    "with open(published_data_path('us_healthcare_capacity-facility-CovidCareMap.geojson')) as f:\n",
    "    by_facility = json.loads(f.read())"
   ]
  },
  {
   "cell_type": "code",
   "execution_count": null,
   "metadata": {},
   "outputs": [],
   "source": [
    "def get_prop_values(features, columns):\n",
    "    values = defaultdict(list)\n",
    "    for feat in features:\n",
    "        for prop in columns:\n",
    "            v = feat['properties'][prop]\n",
    "            if v is not None and not np.isnan(v):\n",
    "                # If this is an occupancy value, then it should not \n",
    "                # be greater than 1.\n",
    "                if 'Occupancy' in prop and v > 1.0:\n",
    "                    v = 1.0\n",
    "                    \n",
    "                values[prop].append(v)\n",
    "                \n",
    "    return dict(values)\n",
    "\n",
    "def compute_breaks(features, columns):\n",
    "    prop_values = get_prop_values(features, columns)\n",
    "    for k in prop_values:\n",
    "        prop_values[k] = np.quantile(prop_values[k], [0, 0.25, 0.5, 0.75, 1], axis = 0).tolist()\n",
    "    return prop_values"
   ]
  },
  {
   "cell_type": "code",
   "execution_count": null,
   "metadata": {},
   "outputs": [],
   "source": [
    "facility_breaks = compute_breaks(by_facility['features'], columns=(\n",
    "    CCM_FACILITY_COUNT_COLUMNS + \n",
    "    list(CCM_FACILITY_OCCUPANCY_COLUMNS.keys())\n",
    "))\n",
    "\n",
    "with open(processed_data_path('ccm_facility_breaks.json'), 'w') as f:\n",
    "          f.write(json.dumps(facility_breaks, indent=4))"
   ]
  },
  {
   "cell_type": "code",
   "execution_count": null,
   "metadata": {},
   "outputs": [],
   "source": [
    "county_breaks = compute_breaks(by_county['features'], columns=(\n",
    "    CCM_FACILITY_COUNT_COLUMNS + \n",
    "    list(CCM_FACILITY_OCCUPANCY_COLUMNS.keys()) +\n",
    "    CCM_PER_CAPITA_COLUMNS\n",
    "))\n",
    "\n",
    "with open(processed_data_path('ccm_county_breaks.json'), 'w') as f:\n",
    "          f.write(json.dumps(county_breaks, indent=4))"
   ]
  },
  {
   "cell_type": "code",
   "execution_count": null,
   "metadata": {},
   "outputs": [],
   "source": [
    "state_breaks = compute_breaks(by_state['features'], columns=(\n",
    "    CCM_FACILITY_COUNT_COLUMNS + \n",
    "    list(CCM_FACILITY_OCCUPANCY_COLUMNS.keys()) +\n",
    "    CCM_PER_CAPITA_COLUMNS\n",
    "))\n",
    "\n",
    "with open(processed_data_path('ccm_state_breaks.json'), 'w') as f:\n",
    "          f.write(json.dumps(state_breaks, indent=4))"
   ]
  },
  {
   "cell_type": "code",
   "execution_count": null,
   "metadata": {},
   "outputs": [],
   "source": [
    "hrr_breaks = compute_breaks(by_hrr['features'], columns=(\n",
    "    CCM_FACILITY_COUNT_COLUMNS + \n",
    "    list(CCM_FACILITY_OCCUPANCY_COLUMNS.keys()) +\n",
    "    CCM_PER_CAPITA_COLUMNS\n",
    "))\n",
    "\n",
    "with open(processed_data_path('ccm_hrr_breaks.json'), 'w') as f:\n",
    "          f.write(json.dumps(hrr_breaks, indent=4))"
   ]
  },
  {
   "cell_type": "code",
   "execution_count": null,
   "metadata": {},
   "outputs": [],
   "source": []
  }
 ],
 "metadata": {
  "kernelspec": {
   "display_name": "Python 3",
   "language": "python",
   "name": "python3"
  },
  "language_info": {
   "codemirror_mode": {
    "name": "ipython",
    "version": 3
   },
   "file_extension": ".py",
   "mimetype": "text/x-python",
   "name": "python",
   "nbconvert_exporter": "python",
   "pygments_lexer": "ipython3",
   "version": "3.8.2"
  }
 },
 "nbformat": 4,
 "nbformat_minor": 4
}
