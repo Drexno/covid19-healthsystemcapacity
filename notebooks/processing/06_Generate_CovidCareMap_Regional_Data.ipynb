{
 "cells": [
  {
   "cell_type": "markdown",
   "metadata": {},
   "source": [
    "# Generate CovidCareMap Regional Data\n",
    "\n",
    "This rolls up count values from the facility data based on three regions: county, state, and Hospital Referral Region (HRR).\n",
    "\n",
    "Most of the work is done in the `covidcaremap.geo` package, in the `sum_per_region` method. See that code for specifics.\n",
    "\n",
    "## Methods\n",
    "\n",
    "- Take the facility data, spatially join to regional data, and sum count properties for each region. See note about the calculation of occupancy rates.\n",
    "- Based on population counts, create \"per 1000\" versions of each column for each of total population, adult population, and elderly population.\n",
    "- Save the three aggregated files as GeoJSONs and CSVs.\n",
    "\n",
    "### Notes on aggregation of occupancy rates\n",
    "\n",
    "Occupancy rates are a weighted average based on the the number of beds (or icu beds for ICU Occupancy) contributing to the total amount of beds for that aggregation.\n",
    "\n",
    "If the occupancy rate is NaN, then no beds are contributed to the amount of beds used to weight the aggregation for that facility.\n",
    "\n",
    "So the occupancy rate $O$ is calculated as \n",
    "$$O=\\frac{\\sum_{f\\in F}b_{f}o_{f}}{\\sum_{f\\in F}b_{f}}$$\n",
    "where $F$ is the set of facilities that have a non-NaN value for occupancy, $o_{f}$ is the occupancy rate for facility $f$, and $b_{f}$ is the bed count for facility $f$.\n",
    "\n",
    "In some cases HCRIS data reports an occupancy rate that is greater than 1. This is left in the facility-level data as source data error. Any occupancy rate greater than 1 is considered 1 for this calculation."
   ]
  },
  {
   "cell_type": "code",
   "execution_count": null,
   "metadata": {},
   "outputs": [],
   "source": [
    "import geopandas as gpd\n",
    "import pandas as pd\n",
    "\n",
    "from covidcaremap.data import (read_facility_gdf, \n",
    "                               read_us_hrr_gdf,\n",
    "                               read_us_states_gdf,\n",
    "                               read_us_counties_gdf,\n",
    "                               external_data_path,\n",
    "                               published_data_path)\n",
    "from covidcaremap.geo import sum_per_region"
   ]
  },
  {
   "cell_type": "code",
   "execution_count": null,
   "metadata": {},
   "outputs": [],
   "source": [
    "facility_gdf = read_facility_gdf()"
   ]
  },
  {
   "cell_type": "markdown",
   "metadata": {},
   "source": [
    "## By HRR"
   ]
  },
  {
   "cell_type": "code",
   "execution_count": null,
   "metadata": {},
   "outputs": [],
   "source": [
    "hrr_fname = 'us_healthcare_capacity-hrr-CovidCareMap'\n",
    "hrr_geojson_path = published_data_path('{}.geojson'.format(hrr_fname))\n",
    "hrr_csv_path = published_data_path('{}.csv'.format(hrr_fname))\n",
    "\n",
    "hrr_gdf = read_us_hrr_gdf()\n",
    "hrr_gdf = hrr_gdf.drop(columns=['HRR_BDRY_I', 'HRRNUM'])\n",
    "\n",
    "hosp_hrr_gdf = sum_per_region(facility_gdf,\n",
    "                          hrr_gdf,\n",
    "                          groupby_columns=['HRRCITY'],\n",
    "                          region_id_column='HRRCITY')\n",
    "\n",
    "hosp_hrr_gdf.to_file(hrr_geojson_path, driver='GeoJSON')\n",
    "\n",
    "hosp_hrr_df = hosp_hrr_gdf.drop(columns=['geometry']).sort_values(by='HRRCITY')\n",
    "hosp_hrr_df.to_csv(hrr_csv_path, index=False)"
   ]
  },
  {
   "cell_type": "markdown",
   "metadata": {},
   "source": [
    "## By County"
   ]
  },
  {
   "cell_type": "code",
   "execution_count": null,
   "metadata": {},
   "outputs": [],
   "source": [
    "county_fname = 'us_healthcare_capacity-county-CovidCareMap'\n",
    "county_geojson_path = published_data_path('{}.geojson'.format(county_fname))\n",
    "county_csv_path = published_data_path('{}.csv'.format(county_fname))\n",
    "\n",
    "county_gdf = read_us_counties_gdf().rename(columns={ 'COUNTY_FIPS': 'fips_code'})\n",
    "filtered_county_gdf = county_gdf[['GEO_ID', \n",
    "                                  'geometry',\n",
    "                                  'Population',\n",
    "                                  'Population (20+)',\n",
    "                                  'Population (65+)']]\n",
    "\n",
    "hosp_county_gdf = sum_per_region(facility_gdf,\n",
    "                          filtered_county_gdf,\n",
    "                          groupby_columns=['GEO_ID'],\n",
    "                          region_id_column='GEO_ID')\n",
    "\n",
    "merged_county_gdf = county_gdf[['GEO_ID', 'fips_code', 'State', 'County Name']] \\\n",
    "    .merge(hosp_county_gdf, on='GEO_ID') \\\n",
    "    .drop(columns=['GEO_ID'])\n",
    "\n",
    "hosp_county_gdf = gpd.GeoDataFrame(merged_county_gdf, crs='EPSG:4326')\n",
    "\n",
    "hosp_county_gdf.to_file(county_geojson_path, driver='GeoJSON')\n",
    "\n",
    "hosp_county_df = hosp_county_gdf.drop(columns=['geometry']).sort_values(by=['State',\n",
    "                                                                            'County Name'])\n",
    "hosp_county_df.to_csv(county_csv_path, index=False)"
   ]
  },
  {
   "cell_type": "markdown",
   "metadata": {},
   "source": [
    "## By State"
   ]
  },
  {
   "cell_type": "code",
   "execution_count": null,
   "metadata": {},
   "outputs": [],
   "source": [
    "state_fname = 'us_healthcare_capacity-state-CovidCareMap'\n",
    "state_geojson_path = published_data_path('{}.geojson'.format(state_fname))\n",
    "state_csv_path = published_data_path('{}.csv'.format(state_fname))\n",
    "\n",
    "state_gdf = read_us_states_gdf()\n",
    "filtered_state_gdf = state_gdf[['State', \n",
    "                                'geometry',\n",
    "                                'Population',\n",
    "                                'Population (20+)',\n",
    "                                'Population (65+)']]\n",
    "\n",
    "facility_without_state_gdf = facility_gdf.drop(columns=['State'])\n",
    "\n",
    "hosp_state_gdf = sum_per_region(facility_without_state_gdf,\n",
    "                          filtered_state_gdf,\n",
    "                          groupby_columns=['State'],\n",
    "                          region_id_column='State')\n",
    "\n",
    "hosp_state_gdf = gpd.GeoDataFrame(\n",
    "    state_gdf[['State', 'State Name']].merge(hosp_state_gdf, on='State'),\n",
    "    crs='EPSG:4326'\n",
    ")"
   ]
  },
  {
   "cell_type": "markdown",
   "metadata": {},
   "source": [
    "### Merge ventilator data into state data"
   ]
  },
  {
   "cell_type": "code",
   "execution_count": null,
   "metadata": {},
   "outputs": [],
   "source": [
    "vents_path = external_data_path('ventilators_by_state.csv')\n",
    "vents_df = pd.read_csv(vents_path, encoding='utf-8')\n",
    "vents_df = vents_df.drop(columns=['Location']).rename(columns={'State Abbrv': 'State'})\n",
    "\n",
    "# Rename columns to be explicit that this is older estimate data.\n",
    "vent_renames = {\n",
    "    'Estimated No. Full-Featured Mechanical Ventilators': (\n",
    "        'Estimated No. Full-Featured Mechanical Ventilators (2010 study estimate)'        \n",
    "    ),\n",
    "    'Estimated No. Full-Featured Mechanical Ventilators per 100,000 Population': (\n",
    "        'Estimated No. Full-Featured Mechanical Ventilators per 100,000 Population (2010 study estimate)'\n",
    "    ),\n",
    "    'Estimated No. Pediatrics-Capable Full-Feature Mechanical Ventilators': (\n",
    "        'Estimated No. Pediatrics-Capable Full-Feature Mechanical Ventilators (2010 study estimate)'\n",
    "    ),\n",
    "    'Estimated No. Full-Feature Mechanical Ventilators, Pediatrics Capable per 100,000 Population <14 y': (\n",
    "        'Estimated No. Full-Feature Mechanical Ventilators, Pediatrics Capable per 100,000 Population <14 y (2010 study estimate)'\n",
    "    )\n",
    "}\n",
    "\n",
    "for column in vent_renames:\n",
    "    assert column in vents_df\n",
    "\n",
    "vents_df = vents_df.rename(columns=vent_renames)"
   ]
  },
  {
   "cell_type": "code",
   "execution_count": null,
   "metadata": {},
   "outputs": [],
   "source": [
    "hosp_state_gdf = hosp_state_gdf.merge(vents_df, on='State')"
   ]
  },
  {
   "cell_type": "code",
   "execution_count": null,
   "metadata": {},
   "outputs": [],
   "source": [
    "hosp_state_gdf.to_file(state_geojson_path, driver='GeoJSON')\n",
    "\n",
    "hosp_state_df = hosp_state_gdf.drop(columns=['geometry']).sort_values(by='State')\n",
    "hosp_state_df.to_csv(state_csv_path, index=False)"
   ]
  },
  {
   "cell_type": "code",
   "execution_count": null,
   "metadata": {},
   "outputs": [],
   "source": []
  }
 ],
 "metadata": {
  "kernelspec": {
   "display_name": "Python 3",
   "language": "python",
   "name": "python3"
  },
  "language_info": {
   "codemirror_mode": {
    "name": "ipython",
    "version": 3
   },
   "file_extension": ".py",
   "mimetype": "text/x-python",
   "name": "python",
   "nbconvert_exporter": "python",
   "pygments_lexer": "ipython3",
   "version": "3.8.2"
  }
 },
 "nbformat": 4,
 "nbformat_minor": 4
}
