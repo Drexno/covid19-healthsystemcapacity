{
 "cells": [
  {
   "cell_type": "code",
   "execution_count": null,
   "metadata": {},
   "outputs": [],
   "source": [
    "import geopandas as gpd\n",
    "import pandas as pd\n",
    "import numpy as np\n",
    "\n",
    "from covidcaremap.constants import state_name_to_abbreviation\n",
    "from covidcaremap.geo import sum_per_county, sum_per_state, sum_per_hrr\n",
    "from covidcaremap.data import (external_data_path,\n",
    "                               processed_data_path,\n",
    "                               read_census_data_df)"
   ]
  },
  {
   "cell_type": "markdown",
   "metadata": {},
   "source": [
    "# Merge Region and Census Data\n",
    "\n",
    "This notebook utilizes US Census data at the county and state level to merge population data into the county, state, and HRR region data.\n",
    "\n",
    "Most logic taken from [usa_beds_capacity_analysis_20200313_v2](https://github.com/daveluo/covid19-healthsystemcapacity/blob/9a45c424a23e7a15559527893ebeb28703f26422/nbs/usa_beds_capacity_analysis_20200313_v2.ipynb)"
   ]
  },
  {
   "cell_type": "code",
   "execution_count": null,
   "metadata": {},
   "outputs": [],
   "source": [
    "county_census_df = pd.read_csv(external_data_path('us-census-cc-est2018-alldata.csv'), \n",
    "                               encoding='unicode_escape')"
   ]
  },
  {
   "cell_type": "code",
   "execution_count": null,
   "metadata": {},
   "outputs": [],
   "source": [
    "puerto_rico_census_df = pd.read_csv(external_data_path('PEP_2018_PEPAGESEX_with_ann.csv'), \n",
    "                               encoding='unicode_escape')\n",
    "\n",
    "# Filter dataset to Puerto Rico and format it to join\n",
    "puerto_rico_census_df = puerto_rico_census_df[puerto_rico_census_df['GEO.display-label'] == 'Puerto Rico']\n",
    "puerto_rico_census_df = puerto_rico_census_df.rename(columns={'GEO.display-label': 'STNAME'})"
   ]
  },
  {
   "cell_type": "markdown",
   "metadata": {},
   "source": [
    "#### Format FIPS code as to be joined with county geo data"
   ]
  },
  {
   "cell_type": "code",
   "execution_count": null,
   "metadata": {},
   "outputs": [],
   "source": [
    "county_census_df['fips_code'] = county_census_df['STATE'].apply(lambda x: str(x).zfill(2)) + \\\n",
    "                                  county_census_df['COUNTY'].apply(lambda x: str(x).zfill(3))"
   ]
  },
  {
   "cell_type": "markdown",
   "metadata": {},
   "source": [
    "#### Filter to 7/1/2018 population estimate"
   ]
  },
  {
   "cell_type": "code",
   "execution_count": null,
   "metadata": {},
   "outputs": [],
   "source": [
    "county_census2018_df = county_census_df[county_census_df['YEAR'] == 11]"
   ]
  },
  {
   "cell_type": "markdown",
   "metadata": {},
   "source": [
    "#### Filter by age groups\n",
    "\n",
    "We will be looking at total population, adult population (20+ years old), \n",
    "and elderly population (65+ years old). These age groups match up with the\n",
    "CDC groupings here: https://www.cdc.gov/mmwr/volumes/69/wr/mm6912e2.htm?s_cid=mm6912e2_w\n",
    "\n",
    "From https://www2.census.gov/programs-surveys/popest/technical-documentation/file-layouts/2010-2018/cc-est2018-alldata.pdf, the key for AGEGRP is as follows:\n",
    "- 0 = Total\n",
    "- 1 = Age 0 to 4 years\n",
    "- 2 = Age 5 to 9 years\n",
    "- 3 = Age 10 to 14 years\n",
    "- 4 = Age 15 to 19 years\n",
    "- 5 = Age 20 to 24 years\n",
    "- 6 = Age 25 to 29 years\n",
    "- 7 = Age 30 to 34 years\n",
    "- 8 = Age 35 to 39 years\n",
    "- 9 = Age 40 to 44 years\n",
    "- 10 = Age 45 to 49 years\n",
    "- 11 = Age 50 to 54 years\n",
    "- 12 = Age 55 to 59 years\n",
    "- 13 = Age 60 to 64 years\n",
    "- 14 = Age 65 to 69 years\n",
    "- 15 = Age 70 to 74 years\n",
    "- 16 = Age 75 to 79 years\n",
    "- 17 = Age 80 to 84 years\n",
    "- 18 = Age 85 years or older"
   ]
  },
  {
   "cell_type": "code",
   "execution_count": null,
   "metadata": {},
   "outputs": [],
   "source": [
    "county_pop_all = county_census2018_df[county_census2018_df['AGEGRP']==0].groupby(\n",
    "    ['fips_code'])['TOT_POP'].sum()\n",
    "county_pop_adult = county_census2018_df[county_census2018_df['AGEGRP']>=5].groupby(\n",
    "    ['fips_code'])['TOT_POP'].sum()\n",
    "county_pop_elderly = county_census2018_df[county_census2018_df['AGEGRP']>=14].groupby(\n",
    "    ['fips_code'])['TOT_POP'].sum()"
   ]
  },
  {
   "cell_type": "code",
   "execution_count": null,
   "metadata": {},
   "outputs": [],
   "source": [
    "county_pop_all.sum(), county_pop_adult.sum(), county_pop_elderly.sum()"
   ]
  },
  {
   "cell_type": "code",
   "execution_count": null,
   "metadata": {},
   "outputs": [],
   "source": [
    "state_pop_all = county_census2018_df[county_census2018_df['AGEGRP']==0].groupby(\n",
    "    ['STNAME'])['TOT_POP'].sum()\n",
    "state_pop_adult = county_census2018_df[county_census2018_df['AGEGRP']>=5].groupby(\n",
    "    ['STNAME'])['TOT_POP'].sum()\n",
    "state_pop_elderly = county_census2018_df[county_census2018_df['AGEGRP']>=14].groupby(\n",
    "    ['STNAME'])['TOT_POP'].sum()"
   ]
  },
  {
   "cell_type": "code",
   "execution_count": null,
   "metadata": {},
   "outputs": [],
   "source": [
    "# Calculate populations for Puerto Rico\n",
    "pr_pop_all_columns = ['est72018sex0_age999']\n",
    "pr_pop_adult_columns = [\n",
    "    'est72018sex0_age{}to{}'.format(x, x+4)\n",
    "    for x in range(20,60, 5)\n",
    "] + ['est72018sex0_age65plus']\n",
    "pr_pop_edlerly_columns = ['est72018sex0_age65plus']\n",
    "\n",
    "puerto_rico_census_df = puerto_rico_census_df.astype(dtype=dict(\n",
    "    (n, int) for n in pr_pop_all_columns + pr_pop_adult_columns))\n",
    "\n",
    "def get_pr_pop(columns):\n",
    "    result = puerto_rico_census_df.transpose().reset_index()\n",
    "    result = result[result['index'].isin(columns)].sum()\n",
    "    result = pd.DataFrame(data={'STNAME': ['Puerto Rico'], 'TOT_POP': [result.iloc[1]]}) \\\n",
    "        .set_index('STNAME').groupby(\n",
    "            ['STNAME'])['TOT_POP'].sum()\n",
    "    return result\n",
    "\n",
    "state_pop_all_with_pr = pd.concat([state_pop_all, get_pr_pop(pr_pop_all_columns)])\n",
    "state_pop_adult_with_pr = pd.concat([state_pop_adult, get_pr_pop(pr_pop_adult_columns)])\n",
    "state_pop_elderly_with_pr = pd.concat([state_pop_elderly, get_pr_pop(pr_pop_edlerly_columns)])\n",
    "get_pr_pop(pr_pop_all_columns)"
   ]
  },
  {
   "cell_type": "code",
   "execution_count": null,
   "metadata": {},
   "outputs": [],
   "source": [
    "state_pop_all_with_pr"
   ]
  },
  {
   "cell_type": "code",
   "execution_count": null,
   "metadata": {},
   "outputs": [],
   "source": [
    "state_pop_all_with_pr.sum(), state_pop_adult_with_pr.sum(), state_pop_elderly_with_pr.sum()"
   ]
  },
  {
   "cell_type": "code",
   "execution_count": null,
   "metadata": {},
   "outputs": [],
   "source": [
    "county_pops = {\n",
    "    'Population': county_pop_all,\n",
    "    'Population (20+)': county_pop_adult,\n",
    "    'Population (65+)': county_pop_elderly\n",
    "}\n",
    "\n",
    "state_pops = {\n",
    "    'Population': state_pop_all_with_pr,\n",
    "    'Population (20+)': state_pop_adult_with_pr,\n",
    "    'Population (65+)': state_pop_elderly_with_pr\n",
    "}"
   ]
  },
  {
   "cell_type": "code",
   "execution_count": null,
   "metadata": {},
   "outputs": [],
   "source": [
    "def set_population_field(target_df, pop_df, column_name, join_on):\n",
    "    result = target_df.join(pop_df, how='left', on=join_on)\n",
    "    result = result.rename({'TOT_POP': column_name}, axis=1)\n",
    "    result = result.fillna(value={column_name: 0})\n",
    "    return result"
   ]
  },
  {
   "cell_type": "markdown",
   "metadata": {},
   "source": [
    "### Merge census data into states"
   ]
  },
  {
   "cell_type": "code",
   "execution_count": null,
   "metadata": {},
   "outputs": [],
   "source": [
    "state_gdf = gpd.read_file(external_data_path('us_states.geojson'), encoding='utf-8')"
   ]
  },
  {
   "cell_type": "code",
   "execution_count": null,
   "metadata": {},
   "outputs": [],
   "source": [
    "enriched_state_df = state_gdf.set_index('NAME')\n",
    "for column_name, pop_df in state_pops.items():\n",
    "    pop_df = pop_df.rename({'STNAME': 'State Name'}, axis=1)\n",
    "    enriched_state_df = set_population_field(enriched_state_df,\n",
    "                                              pop_df, \n",
    "                                              column_name, \n",
    "                                              join_on='NAME')\n",
    "enriched_state_df = enriched_state_df.reset_index()\n",
    "enriched_state_df = enriched_state_df.rename(columns={'STATE': 'STATE_FIPS',\n",
    "                                                      'NAME': 'State Name'})\n",
    "enriched_state_df['State'] = enriched_state_df['State Name'].apply(\n",
    "    lambda x: state_name_to_abbreviation[x])\n"
   ]
  },
  {
   "cell_type": "code",
   "execution_count": null,
   "metadata": {},
   "outputs": [],
   "source": [
    "enriched_state_df.to_file(processed_data_path('us_states_with_pop.geojson'), driver='GeoJSON')"
   ]
  },
  {
   "cell_type": "markdown",
   "metadata": {},
   "source": [
    "### Merge census data into counties"
   ]
  },
  {
   "cell_type": "code",
   "execution_count": null,
   "metadata": {},
   "outputs": [],
   "source": [
    "county_gdf = gpd.read_file(external_data_path('us_counties.geojson'), encoding='utf-8')\n"
   ]
  },
  {
   "cell_type": "code",
   "execution_count": null,
   "metadata": {},
   "outputs": [],
   "source": [
    "county_gdf = county_gdf.rename(columns={'STATE': 'STATE_FIPS',\n",
    "                                        'NAME': 'County Name'})"
   ]
  },
  {
   "cell_type": "code",
   "execution_count": null,
   "metadata": {},
   "outputs": [],
   "source": [
    "county_gdf = county_gdf.merge(enriched_state_df[['STATE_FIPS', 'State']], on='STATE_FIPS')"
   ]
  },
  {
   "cell_type": "code",
   "execution_count": null,
   "metadata": {},
   "outputs": [],
   "source": [
    "#  FIPS code is last 5 digits of GEO_ID\n",
    "county_gdf['COUNTY_FIPS'] = county_gdf['GEO_ID'].apply(lambda x: x[-5:])\n",
    "county_gdf = county_gdf.drop(columns=['COUNTY'])"
   ]
  },
  {
   "cell_type": "code",
   "execution_count": null,
   "metadata": {},
   "outputs": [],
   "source": [
    "enriched_county_df = county_gdf\n",
    "for column_name, pop_df in county_pops.items():\n",
    "    enriched_county_df = set_population_field(enriched_county_df,\n",
    "                                              pop_df, \n",
    "                                              column_name, \n",
    "                                              join_on='COUNTY_FIPS')"
   ]
  },
  {
   "cell_type": "code",
   "execution_count": null,
   "metadata": {},
   "outputs": [],
   "source": [
    "enriched_county_df.to_file(processed_data_path('us_counties_with_pop.geojson'), driver='GeoJSON')"
   ]
  },
  {
   "cell_type": "markdown",
   "metadata": {},
   "source": [
    "## Generate population data for HRRs\n",
    "\n",
    "Spatially join HRRs with counties. For each intersecting county, take the ratio of the area of intersection with the HRR and the area of the county as the ratio of population for that county to be assigned to that HRR."
   ]
  },
  {
   "cell_type": "code",
   "execution_count": null,
   "metadata": {},
   "outputs": [],
   "source": [
    "hrr_gdf = gpd.read_file(external_data_path('us_hrr.geojson'), encoding='utf-8')\n",
    "hrr_gdf = hrr_gdf.to_crs('EPSG:5070')\n",
    "hrr_gdf['hrr_geom'] = hrr_gdf['geometry']"
   ]
  },
  {
   "cell_type": "code",
   "execution_count": null,
   "metadata": {},
   "outputs": [],
   "source": [
    "county_pop_gdf = enriched_county_df\n",
    "county_pop_gdf = county_pop_gdf.to_crs('EPSG:5070')\n",
    "county_pop_gdf['county_geom'] = county_pop_gdf['geometry']"
   ]
  },
  {
   "cell_type": "code",
   "execution_count": null,
   "metadata": {},
   "outputs": [],
   "source": [
    "hrr_counties_joined_gpd = gpd.sjoin(county_pop_gdf, hrr_gdf, how='left', op='intersects')\n"
   ]
  },
  {
   "cell_type": "code",
   "execution_count": null,
   "metadata": {},
   "outputs": [],
   "source": [
    "def calculate_ratio(row):\n",
    "    if row['hrr_geom'] is None:\n",
    "        return 0.0\n",
    "    i = row['hrr_geom'].buffer(0).intersection(row['geometry'].buffer(0))\n",
    "    return i.area / row['geometry'].area\n",
    "\n",
    "hrr_counties_joined_gpd['ratio'] = hrr_counties_joined_gpd.apply(calculate_ratio, axis=1)\n"
   ]
  },
  {
   "cell_type": "code",
   "execution_count": null,
   "metadata": {},
   "outputs": [],
   "source": [
    "for column in county_pops.keys():    \n",
    "    hrr_counties_joined_gpd[column] = \\\n",
    "        (hrr_counties_joined_gpd[column] * hrr_counties_joined_gpd['ratio']).round()\n"
   ]
  },
  {
   "cell_type": "code",
   "execution_count": null,
   "metadata": {},
   "outputs": [],
   "source": [
    "hrr_pops = hrr_counties_joined_gpd.groupby('HRR_BDRY_I')[list(county_pops.keys())].sum()\n",
    "hrr_pops"
   ]
  },
  {
   "cell_type": "code",
   "execution_count": null,
   "metadata": {},
   "outputs": [],
   "source": [
    "enriched_hrr_gdf = hrr_gdf.join(hrr_pops, on='HRR_BDRY_I').fillna(value=0)\n",
    "enriched_hrr_gdf = enriched_hrr_gdf.drop('hrr_geom', axis=1).to_crs('EPSG:4326')"
   ]
  },
  {
   "cell_type": "code",
   "execution_count": null,
   "metadata": {},
   "outputs": [],
   "source": [
    "enriched_hrr_gdf"
   ]
  },
  {
   "cell_type": "code",
   "execution_count": null,
   "metadata": {},
   "outputs": [],
   "source": [
    "enriched_hrr_gdf.to_file(processed_data_path('us_hrr_with_pop.geojson'), driver='GeoJSON')"
   ]
  },
  {
   "cell_type": "code",
   "execution_count": null,
   "metadata": {},
   "outputs": [],
   "source": []
  },
  {
   "cell_type": "code",
   "execution_count": null,
   "metadata": {},
   "outputs": [],
   "source": []
  }
 ],
 "metadata": {
  "kernelspec": {
   "display_name": "Python 3",
   "language": "python",
   "name": "python3"
  },
  "language_info": {
   "codemirror_mode": {
    "name": "ipython",
    "version": 3
   },
   "file_extension": ".py",
   "mimetype": "text/x-python",
   "name": "python",
   "nbconvert_exporter": "python",
   "pygments_lexer": "ipython3",
   "version": "3.8.2"
  }
 },
 "nbformat": 4,
 "nbformat_minor": 4
}
