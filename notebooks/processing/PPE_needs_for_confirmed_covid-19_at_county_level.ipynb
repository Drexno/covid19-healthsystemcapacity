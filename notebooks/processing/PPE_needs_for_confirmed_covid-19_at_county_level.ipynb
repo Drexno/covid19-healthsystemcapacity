{
 "cells": [
  {
   "cell_type": "markdown",
   "metadata": {},
   "source": [
    "# PPE needs estimation from confirmed cases at the county level\n",
    "\n",
    "\n",
    "\n",
    "As the number of covid cases in the states continues to grow, U.S. hospitals are already reporting shortages of key equipment needed to care for critically ill patients, including ventilators and personal protective equipment (PPE) for medical staff. \n",
    "\n",
    "![Screen Shot 2020-03-29 at 6 22 41 PM](https://user-images.githubusercontent.com/14057932/77913636-9c212200-7262-11ea-89ef-5d46e0db4b1b.png)\n",
    "\n",
    "*Fig 1* PPE needs through confirmed convid19 case. \n",
    "\n",
    "\n",
    "### PPEs in this case include:\n",
    "\n",
    "- Droplet mask/surgical mask;\n",
    "- N95 mask\n",
    "- Gloves\n",
    "- Gown\n",
    "- Googles\n",
    "- BP cuff, stethoscope, pulse Ox, Ambu bug\n",
    "- Sani-wipers\n",
    "\n",
    "Besides PPE mentioned above we also include testkits and ventilators in the model. \n",
    "\n",
    "\n",
    "\n",
    "## Input\n",
    "\n",
    "**The input data is the confirmed covid19 cases at county level** (Data from [USAFacts](https://usafacts.org/visualizations/coronavirus-covid-19-spread-map/). We load this data when the notebook runs from [this url](https://usafactsstatic.blob.core.windows.net/public/data/covid-19/covid_confirmed_usafacts.csv) using `covidcaremap.cases.get_usafacts_cases_by_county`. Note that running this notebook on different days will produce different results as it will use the latest data. We took in the newly added case daily for the PPE needs estimation. \n",
    "\n",
    "The PPEs are consumed through the covid19 patient flow that has shown in the above diagram. \n",
    "\n",
    "In order to make the estimation, we assumed:\n",
    "\n",
    "- 14% test cases are tested as positive. This can change from county to county. \n",
    "- 80% of the confirmed positive cases will have very mild symptoms and only need home care; while\n",
    "- 20% of the confirmed cases will end up in in-patient care; \n",
    "- 40% of patients from in-patient care may need critical care. \n",
    "\n",
    "- A patient may have about ten-room visits from doctors and nurses per day in in-patient care; but \n",
    "- A patient in critical care may need a room visit every 20 - 30 mins from doctors, nurses, other room visits may come from therapists, ventilator technicians. We assume 40 room visits per day for a critical care patient.\n",
    "\n",
    "- Each patient need a ventilator in critical care;\n",
    "\n",
    "- A patient may spend seven days in in-patient care;\n",
    "- A patient may spend an average of 10 days at critical care. \n",
    "\n",
    "\n",
    "\n",
    "## Output\n",
    "\n",
    "**County-level total PPE needs estimation from the current confirmed case from Jan 22nd to March 29th, 2020**"
   ]
  },
  {
   "cell_type": "code",
   "execution_count": null,
   "metadata": {},
   "outputs": [],
   "source": [
    "\n",
    "import numpy as np\n",
    "import pandas as pd\n",
    "import geopandas as gpd\n",
    "\n",
    "from covidcaremap.cases import get_usafacts_cases_by_county"
   ]
  },
  {
   "cell_type": "code",
   "execution_count": null,
   "metadata": {},
   "outputs": [],
   "source": [
    "#only to use this geojson file because it has the county level geo-polygon\n",
    "pop_geo = \"../../data/processed/us_counties_with_pop.geojson\""
   ]
  },
  {
   "cell_type": "code",
   "execution_count": null,
   "metadata": {},
   "outputs": [],
   "source": [
    "# setting at one, so we can read in confirmed case daily from multiple sources\n",
    "# in this workthough, we used data from https://usafacts.org/visualizations/coronavirus-covid-19-spread-map/\n",
    "\n",
    "confirmed_case = 1\n",
    "\n",
    "# one health provider testing 10 patient perday\n",
    "testing_ratio = 6\n",
    "\n",
    "positive_rate = 0.2\n",
    "\n",
    "inpatient_rate = 0.2\n",
    "home_care_rate = 1 - inpatient_rate\n",
    "\n",
    "homecare_rate = 1- inpatient_rate\n",
    "test_cases = round(confirmed_case / positive_rate)\n",
    "\n",
    "# 25% of in patient cases are going directly to ICU\n",
    "# 75% of in patient cases will only need home care\n",
    "dir_critical_rate = 0.25\n",
    "support_care_rate = 0.75 \n",
    "\n",
    "inpatient_care_days = 7\n",
    "critical_care_days = 17\n",
    "\n",
    "## patient to lab technician and healthcare workers\n",
    "patient_tech_ratio = 170\n",
    "\n",
    "\n",
    "# PPE use per patients per day from in patient to critical care\n",
    "# room_entries: times / day\n",
    "nurse_re = 6 \n",
    "doc_re = 1.2\n",
    "evs_re = 1\n",
    "clinic_doc_re = 1\n",
    "phle_re = 1.5\n",
    "\n",
    "shift_per_day = 2\n",
    "\n",
    "# patients to health provider ratio\n",
    "p2nurse = 2\n",
    "p2doc = 10\n",
    "p2evs = 20\n",
    "p2clinic = 10\n",
    "p2phle = 10 \n",
    "\n",
    "#ppe use by technician (ever 170 patiens)\n",
    "ppe_use_tech = 6 \n",
    "\n",
    "# means differently through the covid19 patient flow\n",
    "double = 2\n"
   ]
  },
  {
   "cell_type": "code",
   "execution_count": null,
   "metadata": {},
   "outputs": [],
   "source": [
    "def ppes_ed_OB(patients, testing_ratio):\n",
    "    \"\"\"compute PPEs include (N95, gloves, gown, testkit, google, testkit and ventilator) \n",
    "    base on patients and healthcareworkers’ cosupution in ED or community testing \n",
    "    \n",
    "    Args:\n",
    "        patients (int): number of comfirmed cases\n",
    "\n",
    "    Returns:\n",
    "        total_ppes_ed_comm (dictionary): PPE needs for ED presentation or community testing\n",
    "    \"\"\"\n",
    "    test_cases = round(patients / positive_rate)\n",
    "    \n",
    "    # every 30 patients were taked care by 5 healthe providers, see above diagram\n",
    "    healthcareworkers = test_cases/testing_ratio\n",
    "    droplet_masks = healthcareworkers \n",
    "    n95_needs =  healthcareworkers *double # double means two per day\n",
    "    gloves = healthcareworkers *double # double means left and right hands\n",
    "    testkits =  test_cases\n",
    "    gowns =  healthcareworkers\n",
    "    total_ppes_ed_comm = dict(N95s= n95_needs, Droplet_masks = droplet_masks, \n",
    "                              Gloves =gloves, Testkits = testkits, Gowns=gowns)\n",
    "    \n",
    "    return total_ppes_ed_comm\n",
    "\n",
    "\n",
    "def ppes_lab_processing(patients, positive_rate): \n",
    "    \"\"\"to compute the ppe burn during the lab processing\n",
    "    Args:\n",
    "        patients (int): number of total comfirmed cases from community test and ED presentation;\n",
    "        \n",
    "    Returns:\n",
    "        total_ppes_lab (dictionary): PPE needs for lab processing\n",
    "    \"\"\"\n",
    "    test_cases = round(patients / positive_rate)\n",
    "     # each technician can run 170 test per day.\n",
    "    technicians = test_cases/patient_tech_ratio \n",
    "    evs = test_cases/patient_tech_ratio\n",
    "\n",
    "    droplet_masks = (technicians * ppe_use_tech +  evs ) \n",
    "    gloves =  (technicians * ppe_use_tech +  evs )  * double\n",
    "    gowns =  technicians +  evs  \n",
    "\n",
    "\n",
    "    total_ppes_lab = dict(Droplet_masks= droplet_masks,\n",
    "                          Gloves= gloves, Gowns=gowns)\n",
    "\n",
    "    return total_ppes_lab\n",
    "\n",
    "\n",
    "\n",
    "def ppes_in_patient_care(patients, inpatient_care_days,inpatient_rate, support_care_rate):\n",
    "    \"\"\"to compute ppe needs during in patient care\n",
    "    Args:\n",
    "        patients (int): number of total patients from community test and ED presentation;\n",
    "        in_patients_days(int): number of days each person will need to be in Patient Care\n",
    "        \n",
    "    Returns:\n",
    "        total_ppes_in_patient (dictionary): PPE needs for in patient care\n",
    "    \"\"\"\n",
    "\n",
    "    # 20% endup being positive and 20% of these in patient care\n",
    "    in_patient_patients = patients * inpatient_rate * support_care_rate\n",
    "    \n",
    "    # number of health providers each day\n",
    "    # can't use this to represent the health providers, cause we multiply the room entries\n",
    "    nurses = in_patient_patients/p2nurse * shift_per_day * nurse_re\n",
    "    docs = in_patient_patients/p2doc * shift_per_day * doc_re\n",
    "    evss = in_patient_patients/p2evs * evs_re\n",
    "    clinicians = in_patient_patients/p2doc * shift_per_day * clinic_doc_re\n",
    "    phles = in_patient_patients/ p2phle * shift_per_day * phle_re\n",
    "    \n",
    "    #total health provider\n",
    "    hps = sum([nurses, docs, clinicians, phles])\n",
    "    \n",
    "    \n",
    "    gloves = (hps *double + evss * double ) * inpatient_care_days \n",
    "    droplet_masks = (hps  +  evss * double )* inpatient_care_days\n",
    "    gowns = (hps +  evss * double )* inpatient_care_days \n",
    "    \n",
    "    # goggle can be reused\n",
    "    goggles = (hps +  evss * double )*double  \n",
    "    \n",
    "    bp_cuff = in_patient_patients # bp cuff, ambu bag can be reused\n",
    "    wipers = in_patient_patients * inpatient_care_days \n",
    "\n",
    "    total_ppes_in_patient = dict(Gloves= gloves, Gowns=gowns, Droplet_masks= droplet_masks,\n",
    "                                Goggles = goggles, BP_cuff = bp_cuff, Wiper = wipers)\n",
    "\n",
    "    return total_ppes_in_patient\n",
    "\n",
    "\n",
    "def ppes_critical_care(patients, critical_care_days, inpatient_rate, dir_critical_rate):\n",
    "    \"\"\"compute the ventilators and ppe needs based on the critical care patients\n",
    "    Args:\n",
    "        patients (int): number of total patients from community test and ED presentation;\n",
    "        in_patients_days(int): number of days each person will need to be in Critical Care\n",
    "        \n",
    "    Returns:\n",
    "        total_ppes_criticalcare (dictionary): PPE needs for in critical care\n",
    "    \"\"\"\n",
    "\n",
    "    # 40% of in patient patients end up in critical care\n",
    "    critical_care_patients = patients * inpatient_rate * dir_critical_rate\n",
    "    \n",
    "    ventilators = critical_care_patients\n",
    "    \n",
    "    # twice room entrences compares to in-patient care\n",
    "    nurses = critical_care_patients/p2nurse * shift_per_day * nurse_re * double\n",
    "    docs = critical_care_patients/p2doc * shift_per_day * doc_re  * double\n",
    "    evss = critical_care_patients/p2evs * evs_re  * double\n",
    "    clinicians = critical_care_patients/p2doc * shift_per_day * clinic_doc_re  * double\n",
    "    phles = critical_care_patients/ p2phle * shift_per_day * phle_re * double\n",
    "    \n",
    "    hps = sum([nurses, docs, clinicians, phles])\n",
    "   \n",
    "    \n",
    "    gloves = (hps + evss * double) * double *critical_care_days \n",
    "    droplet_masks = (hps +  evss * double )* critical_care_days \n",
    "    gowns = (hps +  evss * double) * critical_care_days \n",
    "    n95_needs = (hps +  evss * double )*double * critical_care_days\n",
    "    \n",
    "    # goggle can be reused\n",
    "    goggles = (hps +  evss * double )*double \n",
    "    \n",
    "    bp_cuff = critical_care_patients # bp cuff, ambu bag can be reused\n",
    "    wipers = critical_care_patients * critical_care_days \n",
    "\n",
    "    total_ppes_criticalcare = dict(N95s = n95_needs, Gloves= gloves, Gowns=gowns, \n",
    "                                  Droplet_masks= droplet_masks, Goggles = goggles, \n",
    "                                  BP_cuff = bp_cuff, Wiper = wipers,\n",
    "                                  Ventilators = ventilators)\n",
    "    \n",
    "    return total_ppes_criticalcare\n",
    "\n"
   ]
  },
  {
   "cell_type": "code",
   "execution_count": null,
   "metadata": {},
   "outputs": [],
   "source": [
    "# for every confirmed convid19 case\n",
    "total_ppes_ed = ppes_ed_OB(confirmed_case, testing_ratio)\n",
    "total_ppes_ed"
   ]
  },
  {
   "cell_type": "code",
   "execution_count": null,
   "metadata": {},
   "outputs": [],
   "source": [
    "# for every confirmed convid19 case\n",
    "total_ppes_lab = ppes_lab_processing(confirmed_case,  positive_rate)\n",
    "total_ppes_lab"
   ]
  },
  {
   "cell_type": "code",
   "execution_count": null,
   "metadata": {},
   "outputs": [],
   "source": [
    "# for every confirmed convid19 case\n",
    "total_ppes_in_patient = ppes_in_patient_care(confirmed_case, inpatient_care_days, inpatient_rate, support_care_rate)\n",
    "total_ppes_in_patient"
   ]
  },
  {
   "cell_type": "code",
   "execution_count": null,
   "metadata": {},
   "outputs": [],
   "source": [
    "# for every confirmed convid19 case\n",
    "total_ppes_criticalcare = ppes_critical_care(confirmed_case, critical_care_days, inpatient_rate, dir_critical_rate)\n",
    "total_ppes_criticalcare"
   ]
  },
  {
   "cell_type": "code",
   "execution_count": null,
   "metadata": {},
   "outputs": [],
   "source": [
    "# for every confirmed convid19 case from home in patient and critical cares \n",
    "testkits = total_ppes_ed['Testkits']\n",
    "droplet_masks =  total_ppes_ed['Droplet_masks'] + total_ppes_lab['Droplet_masks'] + total_ppes_in_patient['Droplet_masks'] + total_ppes_criticalcare['Droplet_masks']\n",
    "n95s = total_ppes_ed['N95s'] + total_ppes_criticalcare['N95s'] \n",
    "gloves = total_ppes_ed['Gloves']+ total_ppes_lab['Gloves'] + total_ppes_in_patient['Gloves'] + total_ppes_criticalcare['Gloves']  \n",
    "gowns = total_ppes_ed['Gowns']+ total_ppes_lab['Gowns'] + total_ppes_in_patient['Gowns'] + total_ppes_criticalcare['Gowns'] \n",
    "goggles = total_ppes_in_patient['Goggles'] + total_ppes_criticalcare['Goggles']\n",
    "bp_cuffs = total_ppes_in_patient['BP_cuff'] + total_ppes_criticalcare['BP_cuff']\n",
    "wipers = total_ppes_in_patient['Wiper'] + total_ppes_criticalcare['Wiper']\n",
    "ventilators = total_ppes_criticalcare['Ventilators']"
   ]
  },
  {
   "cell_type": "code",
   "execution_count": null,
   "metadata": {},
   "outputs": [],
   "source": [
    "total_ppes = round(sum([n95s, gloves, gowns,droplet_masks, goggles, bp_cuffs, wipers]))"
   ]
  },
  {
   "cell_type": "code",
   "execution_count": null,
   "metadata": {},
   "outputs": [],
   "source": [
    "# every confirm case may end up using 74 ppes, including n95 masks, gowns, faceshieldd, droplet_masks, googles, bp_cuff, wipers, ventilators\n",
    "total_ppes"
   ]
  },
  {
   "cell_type": "code",
   "execution_count": null,
   "metadata": {},
   "outputs": [],
   "source": [
    "confirmed_cases = get_usafacts_cases_by_county()\n",
    "confirmed_cases.head(4)"
   ]
  },
  {
   "cell_type": "code",
   "execution_count": null,
   "metadata": {},
   "outputs": [],
   "source": [
    "confirmed_cases.keys()"
   ]
  },
  {
   "cell_type": "code",
   "execution_count": null,
   "metadata": {},
   "outputs": [],
   "source": [
    "len(confirmed_cases.keys())"
   ]
  },
  {
   "cell_type": "code",
   "execution_count": null,
   "metadata": {},
   "outputs": [],
   "source": [
    "def daily_cases_growth(df, opp_col):\n",
    "    \"\"\" compute daily growth cases from the accumulated cases at county level\n",
    "    Args:\n",
    "        df (Pandas dataframe): the accumulated cases from USAFacts;\n",
    "        opp_col (int):the column where cofirmed case starts to be recorded\n",
    "    Returns:\n",
    "        df(Pandas dataframe): dataframe that has daily growth confirmed cases\n",
    "    \"\"\"\n",
    "    col_len = len(df.keys())\n",
    "    cat_len = opp_col + 1\n",
    "    # compute the daily growth instead of accumulated cases by county\n",
    "    df.iloc[:, cat_len:]  = df.iloc[:, -(col_len-cat_len):] - df.shift(axis=1, fill_value=0).iloc[:, -(col_len-cat_len):]\n",
    "    return df"
   ]
  },
  {
   "cell_type": "code",
   "execution_count": null,
   "metadata": {},
   "outputs": [],
   "source": [
    "def multiple_ppe(ppe_item_total, df_daily, opp_col, item_name):\n",
    "    \"\"\"to compute totoal ppes from given dates\n",
    "    \n",
    "    Args:\n",
    "        ppe_item_total (int): the total ppe item from confirm covid19 cases;\n",
    "        df (Pandas dataframe): data frame that records daily growning confirm cases \n",
    "        opp_col (int): the column where cofirmed case starts to be recorded\n",
    "        \n",
    "    Returns:\n",
    "        ppes_df(Pandas dataframe): dataframe has the total sum of the ppe items\n",
    "    \"\"\"\n",
    "    df_n = df_daily.apply(lambda x: x[opp_col:] * ppe_item_total, axis = 1) \n",
    "    total_g_ppes = df_n.apply(np.sum, axis =1)\n",
    "    ppes_df = df_daily.iloc[:,:opp_col]\n",
    "    # keep the nagative daily convid growth for ventilator compuation \n",
    "    if ppe_item_total == ventilators:\n",
    "        total_g_ppes = np.floor(total_g_ppes)\n",
    "    # take nagative daily gowth to be 0 for other ppe calculation\n",
    "    else: \n",
    "        df_n= df_n.clip(lower = 0)\n",
    "        total_g_ppes = df_n.apply(np.sum, axis =1)\n",
    "    \n",
    "    #if we see patient in the critical care, we assume at least 1 ventilator is needed\n",
    "    ppes_df['total_cases'] = df_daily.iloc[:, opp_col:].sum(axis=1)\n",
    "    ppes_df[item_name] = round(total_g_ppes)\n",
    "    \n",
    "    return ppes_df\n",
    "    "
   ]
  },
  {
   "cell_type": "code",
   "execution_count": null,
   "metadata": {},
   "outputs": [],
   "source": [
    "df_daily_county = daily_cases_growth(confirmed_cases, 4)"
   ]
  },
  {
   "cell_type": "code",
   "execution_count": null,
   "metadata": {},
   "outputs": [],
   "source": [
    "df_daily_county.head()"
   ]
  },
  {
   "cell_type": "code",
   "execution_count": null,
   "metadata": {},
   "outputs": [],
   "source": [
    "total_ppes_df = multiple_ppe(total_ppes, df_daily_county, 4, \"total_ppes\")\n",
    "total_ppes_df.head()"
   ]
  },
  {
   "cell_type": "code",
   "execution_count": null,
   "metadata": {},
   "outputs": [],
   "source": [
    "total_testkits = multiple_ppe(testkits, df_daily_county, 4, \"testkits\")\n",
    "total_testkits.head()"
   ]
  },
  {
   "cell_type": "code",
   "execution_count": null,
   "metadata": {},
   "outputs": [],
   "source": [
    "total_testkits = multiple_ppe(testkits, confirmed_cases, 4, \"testkits\")\n",
    "total_testkits.head()"
   ]
  },
  {
   "cell_type": "code",
   "execution_count": null,
   "metadata": {},
   "outputs": [],
   "source": [
    "total_droplet_masks = multiple_ppe(droplet_masks, df_daily_county, 4, \"total_droplet_masks\") \n",
    "total_droplet_masks.head()"
   ]
  },
  {
   "cell_type": "code",
   "execution_count": null,
   "metadata": {},
   "outputs": [],
   "source": [
    "total_n95s = multiple_ppe(n95s, df_daily_county, 4, \"total_n95s\") \n",
    "total_n95s.head()"
   ]
  },
  {
   "cell_type": "code",
   "execution_count": null,
   "metadata": {},
   "outputs": [],
   "source": [
    "total_gloves = multiple_ppe(gloves, df_daily_county, 4, \"total_gloves\") \n",
    "total_gloves.head()"
   ]
  },
  {
   "cell_type": "code",
   "execution_count": null,
   "metadata": {},
   "outputs": [],
   "source": [
    "total_gowns = multiple_ppe(gowns, df_daily_county, 4, \"total_gowns\") \n",
    "total_gowns.head()"
   ]
  },
  {
   "cell_type": "code",
   "execution_count": null,
   "metadata": {},
   "outputs": [],
   "source": [
    "total_goggles = multiple_ppe(goggles, df_daily_county, 4, \"total_goggles\") \n",
    "total_goggles.head()"
   ]
  },
  {
   "cell_type": "code",
   "execution_count": null,
   "metadata": {},
   "outputs": [],
   "source": [
    "total_bp_cuffs = multiple_ppe(bp_cuffs, confirmed_cases, 4, \"total_bp_cuffs\") \n",
    "total_bp_cuffs.head()"
   ]
  },
  {
   "cell_type": "code",
   "execution_count": null,
   "metadata": {},
   "outputs": [],
   "source": [
    "total_wipers = multiple_ppe(wipers, confirmed_cases, 4, \"total_wipers\") \n",
    "total_wipers.head()"
   ]
  },
  {
   "cell_type": "code",
   "execution_count": null,
   "metadata": {},
   "outputs": [],
   "source": [
    "total_ventilators = multiple_ppe(ventilators, confirmed_cases, 4, \"total_ventilators\") \n",
    "total_ventilators.head()"
   ]
  },
  {
   "cell_type": "code",
   "execution_count": null,
   "metadata": {},
   "outputs": [],
   "source": [
    "total_ppes_df['total_cases'] =total_testkits['total_cases']\n",
    "total_ppes_df['testkits'] =total_testkits['testkits']\n",
    "total_ppes_df['total_droplet_masks'] = total_droplet_masks['total_droplet_masks']\n",
    "total_ppes_df['total_n95s'] = total_n95s['total_n95s']\n",
    "total_ppes_df['total_gowns'] = total_gowns['total_gowns']\n",
    "total_ppes_df['total_goggles'] = total_goggles['total_goggles']\n",
    "total_ppes_df['total_bp_cuffs'] = total_bp_cuffs['total_bp_cuffs']\n",
    "total_ppes_df['total_wipers'] = total_wipers['total_wipers']\n",
    "total_ppes_df['total_ventilators'] = total_ventilators['total_ventilators']"
   ]
  },
  {
   "cell_type": "code",
   "execution_count": null,
   "metadata": {},
   "outputs": [],
   "source": [
    "total_ppes_df = total_ppes_df.rename(columns={'countyFIPS': 'COUNTY_FIPS'})\n",
    "total_ppes_df.head()"
   ]
  },
  {
   "cell_type": "code",
   "execution_count": null,
   "metadata": {},
   "outputs": [],
   "source": [
    "sum(total_ppes_df['total_cases']), sum(total_ppes_df['testkits']), sum(total_ppes_df['total_n95s']), sum(total_ppes_df['total_ppes']), sum(total_ppes_df['total_ventilators'])"
   ]
  },
  {
   "cell_type": "code",
   "execution_count": null,
   "metadata": {},
   "outputs": [],
   "source": [
    "gpd_df = gpd.read_file(pop_geo)\n",
    "gpd_df.head()"
   ]
  },
  {
   "cell_type": "code",
   "execution_count": null,
   "metadata": {},
   "outputs": [],
   "source": [
    "len(gpd_df), len(total_ventilators)"
   ]
  },
  {
   "cell_type": "code",
   "execution_count": null,
   "metadata": {},
   "outputs": [],
   "source": [
    "gpd_df['COUNTY_FIPS'].dtype, total_ppes_df['COUNTY_FIPS'].dtype"
   ]
  },
  {
   "cell_type": "code",
   "execution_count": null,
   "metadata": {},
   "outputs": [],
   "source": [
    "gpd_df['COUNTY_FIPS'] =gpd_df['COUNTY_FIPS'].astype('int64')"
   ]
  },
  {
   "cell_type": "code",
   "execution_count": null,
   "metadata": {},
   "outputs": [],
   "source": [
    "gpd_df_new = gpd_df"
   ]
  },
  {
   "cell_type": "code",
   "execution_count": null,
   "metadata": {},
   "outputs": [],
   "source": [
    "gpd_df_new = gpd_df_new.drop(columns = ['LSAD', 'CENSUSAREA', 'Population'])\n",
    "gpd_df_new.head()"
   ]
  },
  {
   "cell_type": "code",
   "execution_count": null,
   "metadata": {},
   "outputs": [],
   "source": [
    "total_ppes_geo = gpd_df_new.merge(total_ppes_df, on='COUNTY_FIPS', how='left')"
   ]
  },
  {
   "cell_type": "code",
   "execution_count": null,
   "metadata": {},
   "outputs": [],
   "source": [
    "total_ppes_geo = total_ppes_geo.drop(columns=['County Name_y', 'State_y', 'stateFIPS'])\n",
    "total_ppes_geo = total_ppes_geo.rename(columns={'County Name_x': 'County Name',\n",
    "                                               'State_x': 'State'})\n",
    "total_ppes_geo.head()"
   ]
  },
  {
   "cell_type": "code",
   "execution_count": null,
   "metadata": {},
   "outputs": [],
   "source": [
    "total_ppes_geo.to_file(\"../../data/processed/ppe_needs_county_level.geojson\", driver='GeoJSON')"
   ]
  },
  {
   "cell_type": "code",
   "execution_count": null,
   "metadata": {},
   "outputs": [],
   "source": []
  }
 ],
 "metadata": {
  "kernelspec": {
   "display_name": "Python 3",
   "language": "python",
   "name": "python3"
  },
  "language_info": {
   "codemirror_mode": {
    "name": "ipython",
    "version": 3
   },
   "file_extension": ".py",
   "mimetype": "text/x-python",
   "name": "python",
   "nbconvert_exporter": "python",
   "pygments_lexer": "ipython3",
   "version": "3.8.2"
  }
 },
 "nbformat": 4,
 "nbformat_minor": 4
}
