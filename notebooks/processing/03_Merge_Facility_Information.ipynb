{
 "cells": [
  {
   "cell_type": "markdown",
   "metadata": {},
   "source": [
    "# Merge facility information\n",
    "\n",
    "Merge facility data from HCRIS (Healthcare Cost Reporting Information System) andDH (Definitive Healthcare) datasets."
   ]
  },
  {
   "cell_type": "code",
   "execution_count": 1,
   "metadata": {},
   "outputs": [],
   "source": [
    "%load_ext autoreload\n",
    "%autoreload 2"
   ]
  },
  {
   "cell_type": "code",
   "execution_count": 2,
   "metadata": {},
   "outputs": [],
   "source": [
    "import os\n",
    "import pandas as pd\n",
    "import geopandas as gpd\n",
    "import numpy as np\n",
    "from os.path import join, isdir\n",
    "\n",
    "from covidcaremap.geo import spatial_join_facilities\n",
    "from covidcaremap.data import processed_data_path\n",
    "\n",
    "from covidcaremap.mapping import HospMap\n",
    "from covidcaremap.merge import Matcher"
   ]
  },
  {
   "cell_type": "code",
   "execution_count": 3,
   "metadata": {},
   "outputs": [],
   "source": [
    "hcris = gpd.read_file(processed_data_path('usa_facilities_hcris_geocoded.geojson'), encoding='utf-8')\n",
    "dh = gpd.read_file(processed_data_path('dh_geocoded_v1_0326202.geojson'), encoding='utf-8')"
   ]
  },
  {
   "cell_type": "code",
   "execution_count": 4,
   "metadata": {},
   "outputs": [],
   "source": [
    "hcris.rename(columns={\n",
    "    'ST_ABBR': 'STATE_NAME',\n",
    "    'Zip_Code': 'ZIP_CODE'\n",
    "}, inplace=True)\n",
    "\n",
    "dh['STATE_NAME'] = dh['ST_ABBR']"
   ]
  },
  {
   "cell_type": "code",
   "execution_count": 5,
   "metadata": {},
   "outputs": [],
   "source": [
    "hcris_info = (hcris, 'HCRIS', 'Provider Number')\n",
    "dh_info = (dh, 'DH', 'OBJECTID')"
   ]
  },
  {
   "cell_type": "code",
   "execution_count": 12,
   "metadata": {},
   "outputs": [],
   "source": [
    "all_states = hcris['STATE_NAME'].unique()"
   ]
  },
  {
   "cell_type": "code",
   "execution_count": 13,
   "metadata": {},
   "outputs": [],
   "source": [
    "def match_by_state(d1, d2, map_dir=None, str_match_method='name'):\n",
    "    d1, name1, uid1 = d1\n",
    "    d2, name2, uid2 = d2\n",
    "    \n",
    "    if not os.path.isdir(processed_data_path(map_dir)):\n",
    "        os.mkdir(processed_data_path(map_dir))\n",
    "    \n",
    "    state_matches = {}\n",
    "    for state in all_states:\n",
    "        print('Matching facilities in {}'.format(state))\n",
    "        if state not in state_matches.keys():\n",
    "            d1_s = d1[d1['STATE_NAME'] == state].reset_index().copy()\n",
    "            d2_s = d2[d2['STATE_NAME'] == state].reset_index().copy()\n",
    "            m = Matcher(d1_s, d2_s, uid1, uid2)\n",
    "            m.match_point_set((100, 500), 10, str_match_method=str_match_method)\n",
    "            if map_dir:\n",
    "                all_map = m.map_all((uid1, uid2), ['match source', 'dist_apart'])\n",
    "                all_map.add_layer_selector()\n",
    "                all_map.save(join(processed_data_path('{}'.format(map_dir)), '{}.html'.format(state)))\n",
    "            state_matches[state] = m\n",
    "    \n",
    "    ds = {\n",
    "        f'{name1}_matched': [],\n",
    "        f'{name2}_matched': [],\n",
    "        f'{name1}_unmatched': [],\n",
    "        f'{name2}_unmatched': [],\n",
    "        'matching_dfs': []\n",
    "    }\n",
    "    \n",
    "    for _, v in state_matches.items():\n",
    "        ds[f'{name1}_matched'].append(v.d1_matched)\n",
    "        ds[f'{name2}_matched'].append(v.d2_matched)\n",
    "        ds[f'{name1}_unmatched'].append(v.d1_unmatched)\n",
    "        ds[f'{name2}_unmatched'].append(v.d2_unmatched)\n",
    "        ds['matching_dfs'].append(v.matching_key_df())\n",
    "    \n",
    "    for k, v in ds.items():\n",
    "        ds[k] = pd.concat(v)\n",
    "        if isinstance(ds[k], gpd.GeoDataFrame):\n",
    "            ds[k] = ds[k].to_crs('epsg:4326')\n",
    "    \n",
    "    print('------------')\n",
    "    n_matched = len(ds['matching_dfs'])\n",
    "    n_unmatched = len(ds[f'{name1}_unmatched'])\n",
    "    n_total = n_matched + n_unmatched\n",
    "    pct_matched = round((n_matched / n_total) * 100, 1)\n",
    "    print(f'{name1} to {name2} matches: {pct_matched}% ({n_matched} of {n_total})')\n",
    "    \n",
    "    return state_matches, ds"
   ]
  },
  {
   "cell_type": "code",
   "execution_count": 14,
   "metadata": {},
   "outputs": [
    {
     "name": "stdout",
     "output_type": "stream",
     "text": [
      "Matching facilities in AL\n",
      "Completed matching and deduping facilities, matched 109 of 136\n",
      "Matching facilities in AK\n",
      "Completed matching and deduping facilities, matched 23 of 26\n",
      "Matching facilities in AZ\n",
      "Completed matching and deduping facilities, matched 104 of 125\n",
      "Matching facilities in AR\n",
      "Completed matching and deduping facilities, matched 95 of 109\n",
      "Matching facilities in CA\n",
      "Completed [250] of 445 facilities, prelim matched 230\n",
      "Completed matching and deduping facilities, matched 401 of 445\n",
      "Matching facilities in CO\n",
      "Completed matching and deduping facilities, matched 101 of 110\n",
      "Matching facilities in CT\n",
      "Completed matching and deduping facilities, matched 40 of 43\n",
      "Matching facilities in DE\n",
      "Completed matching and deduping facilities, matched 14 of 16\n",
      "Matching facilities in DC\n",
      "Completed matching and deduping facilities, matched 11 of 13\n",
      "Matching facilities in FL\n",
      "Completed [250] of 273 facilities, prelim matched 236\n",
      "Completed matching and deduping facilities, matched 246 of 273\n",
      "Matching facilities in GA\n",
      "Completed matching and deduping facilities, matched 160 of 187\n",
      "Matching facilities in HI\n",
      "Completed matching and deduping facilities, matched 26 of 28\n",
      "Matching facilities in ID\n",
      "Completed matching and deduping facilities, matched 47 of 55\n",
      "Matching facilities in IL\n",
      "Completed matching and deduping facilities, matched 198 of 213\n",
      "Matching facilities in IN\n",
      "Completed matching and deduping facilities, matched 158 of 185\n",
      "Matching facilities in IA\n",
      "Completed matching and deduping facilities, matched 120 of 125\n",
      "Matching facilities in KS\n",
      "Completed matching and deduping facilities, matched 143 of 162\n",
      "Matching facilities in KY\n",
      "Completed matching and deduping facilities, matched 106 of 121\n",
      "Matching facilities in LA\n",
      "Completed matching and deduping facilities, matched 188 of 241\n",
      "Matching facilities in ME\n",
      "Completed matching and deduping facilities, matched 38 of 42\n",
      "Matching facilities in MD\n",
      "Completed matching and deduping facilities, matched 55 of 65\n",
      "Matching facilities in MA\n",
      "Completed matching and deduping facilities, matched 94 of 113\n",
      "Matching facilities in MI\n",
      "Completed matching and deduping facilities, matched 151 of 177\n",
      "Matching facilities in MN\n",
      "Completed matching and deduping facilities, matched 135 of 148\n",
      "Matching facilities in MS\n",
      "Completed matching and deduping facilities, matched 103 of 121\n",
      "Matching facilities in MO\n",
      "Completed matching and deduping facilities, matched 129 of 161\n",
      "Matching facilities in MT\n",
      "Completed matching and deduping facilities, matched 65 of 65\n",
      "Matching facilities in NE\n",
      "Completed matching and deduping facilities, matched 94 of 102\n",
      "Matching facilities in NV\n",
      "Completed matching and deduping facilities, matched 56 of 61\n",
      "Matching facilities in NH\n",
      "Completed matching and deduping facilities, matched 30 of 30\n",
      "Matching facilities in NJ\n",
      "Completed matching and deduping facilities, matched 89 of 99\n",
      "Matching facilities in NM\n",
      "Completed matching and deduping facilities, matched 52 of 57\n",
      "Matching facilities in NY\n",
      "Completed matching and deduping facilities, matched 197 of 230\n",
      "Matching facilities in NC\n",
      "Completed matching and deduping facilities, matched 125 of 146\n",
      "Matching facilities in ND\n",
      "Completed matching and deduping facilities, matched 49 of 49\n",
      "Matching facilities in OH\n",
      "Completed [250] of 257 facilities, prelim matched 222\n",
      "Completed matching and deduping facilities, matched 215 of 257\n",
      "Matching facilities in OK\n",
      "Completed matching and deduping facilities, matched 140 of 166\n",
      "Matching facilities in OR\n",
      "Completed matching and deduping facilities, matched 61 of 64\n",
      "Matching facilities in PA\n",
      "Completed matching and deduping facilities, matched 211 of 248\n",
      "Matching facilities in PR\n",
      "Completed matching and deduping facilities, matched 28 of 65\n",
      "Matching facilities in RI\n",
      "Completed matching and deduping facilities, matched 13 of 15\n",
      "Matching facilities in SC\n",
      "Completed matching and deduping facilities, matched 77 of 90\n",
      "Matching facilities in SD\n",
      "Completed matching and deduping facilities, matched 57 of 64\n",
      "Matching facilities in TN\n",
      "Completed matching and deduping facilities, matched 135 of 166\n",
      "Matching facilities in TX\n",
      "Completed [250] of 687 facilities, prelim matched 220\n",
      "Completed [500] of 687 facilities, prelim matched 441\n",
      "Completed matching and deduping facilities, matched 531 of 687\n",
      "Matching facilities in UT\n",
      "Completed matching and deduping facilities, matched 58 of 63\n",
      "Matching facilities in VT\n",
      "Completed matching and deduping facilities, matched 16 of 16\n",
      "Matching facilities in VI\n",
      "Completed matching and deduping facilities, matched 1 of 2\n",
      "Matching facilities in VA\n",
      "Completed matching and deduping facilities, matched 101 of 123\n",
      "Matching facilities in WA\n",
      "Completed matching and deduping facilities, matched 99 of 107\n",
      "Matching facilities in WV\n",
      "Completed matching and deduping facilities, matched 57 of 66\n",
      "Matching facilities in WI\n",
      "Completed matching and deduping facilities, matched 141 of 149\n",
      "Matching facilities in WY\n",
      "Completed matching and deduping facilities, matched 30 of 32\n",
      "Matching facilities in GU\n",
      "Completed matching and deduping facilities, matched 2 of 2\n",
      "Matching facilities in MP\n",
      "Completed matching and deduping facilities, matched 1 of 1\n",
      "------------\n",
      "HCRIS to DH matches: 86.0% (5726 of 6662)\n"
     ]
    }
   ],
   "source": [
    "hcris_to_dh_matches, hcris_to_dh_data = match_by_state(\n",
    "    hcris_info, \n",
    "    dh_info, \n",
    "    'state_validation_maps_03-31-20_hcris-to-dh')\n",
    "\n",
    "HtoD_matches = hcris_to_dh_data['matching_dfs']\n",
    "HtoD_matches.to_csv(processed_data_path('HCRIS_to_DH_matching_key.csv'), index=False)"
   ]
  },
  {
   "cell_type": "code",
   "execution_count": 15,
   "metadata": {},
   "outputs": [
    {
     "name": "stdout",
     "output_type": "stream",
     "text": [
      "Matching facilities in AL\n",
      "Completed matching and deduping facilities, matched 109 of 120\n",
      "Matching facilities in AK\n",
      "Completed matching and deduping facilities, matched 23 of 28\n",
      "Matching facilities in AZ\n",
      "Completed matching and deduping facilities, matched 104 of 126\n",
      "Matching facilities in AR\n",
      "Completed matching and deduping facilities, matched 93 of 106\n",
      "Matching facilities in CA\n",
      "Completed [250] of 466 facilities, prelim matched 239\n",
      "Completed matching and deduping facilities, matched 398 of 466\n",
      "Matching facilities in CO\n",
      "Completed matching and deduping facilities, matched 101 of 113\n",
      "Matching facilities in CT\n",
      "Completed matching and deduping facilities, matched 40 of 46\n",
      "Matching facilities in DE\n",
      "Completed matching and deduping facilities, matched 14 of 16\n",
      "Matching facilities in DC\n",
      "Completed matching and deduping facilities, matched 13 of 14\n",
      "Matching facilities in FL\n",
      "Completed [250] of 276 facilities, prelim matched 232\n",
      "Completed matching and deduping facilities, matched 247 of 276\n",
      "Matching facilities in GA\n",
      "Completed matching and deduping facilities, matched 159 of 180\n",
      "Matching facilities in HI\n",
      "Completed matching and deduping facilities, matched 26 of 29\n",
      "Matching facilities in ID\n",
      "Completed matching and deduping facilities, matched 48 of 53\n",
      "Matching facilities in IL\n",
      "Completed matching and deduping facilities, matched 199 of 214\n",
      "Matching facilities in IN\n",
      "Completed matching and deduping facilities, matched 157 of 177\n",
      "Matching facilities in IA\n",
      "Completed matching and deduping facilities, matched 121 of 124\n",
      "Matching facilities in KS\n",
      "Completed matching and deduping facilities, matched 142 of 165\n",
      "Matching facilities in KY\n",
      "Completed matching and deduping facilities, matched 106 of 120\n",
      "Matching facilities in LA\n",
      "Completed matching and deduping facilities, matched 187 of 221\n",
      "Matching facilities in ME\n",
      "Completed matching and deduping facilities, matched 38 of 39\n",
      "Matching facilities in MD\n",
      "Completed matching and deduping facilities, matched 55 of 66\n",
      "Matching facilities in MA\n",
      "Completed matching and deduping facilities, matched 93 of 110\n",
      "Matching facilities in MI\n",
      "Completed matching and deduping facilities, matched 152 of 171\n",
      "Matching facilities in MN\n",
      "Completed matching and deduping facilities, matched 136 of 148\n",
      "Matching facilities in MS\n",
      "Completed matching and deduping facilities, matched 104 of 114\n",
      "Matching facilities in MO\n",
      "Completed matching and deduping facilities, matched 130 of 151\n",
      "Matching facilities in MT\n",
      "Completed matching and deduping facilities, matched 65 of 67\n",
      "Matching facilities in NE\n",
      "Completed matching and deduping facilities, matched 95 of 101\n",
      "Matching facilities in NV\n",
      "Completed matching and deduping facilities, matched 56 of 67\n",
      "Matching facilities in NH\n",
      "Completed matching and deduping facilities, matched 30 of 34\n",
      "Matching facilities in NJ\n",
      "Completed matching and deduping facilities, matched 88 of 101\n",
      "Matching facilities in NM\n",
      "Completed matching and deduping facilities, matched 52 of 57\n",
      "Matching facilities in NY\n",
      "Completed matching and deduping facilities, matched 197 of 230\n",
      "Matching facilities in NC\n",
      "Completed matching and deduping facilities, matched 125 of 145\n",
      "Matching facilities in ND\n",
      "Completed matching and deduping facilities, matched 49 of 54\n",
      "Matching facilities in OH\n",
      "Completed [250] of 251 facilities, prelim matched 224\n",
      "Completed matching and deduping facilities, matched 215 of 251\n",
      "Matching facilities in OK\n",
      "Completed matching and deduping facilities, matched 140 of 157\n",
      "Matching facilities in OR\n",
      "Completed matching and deduping facilities, matched 61 of 69\n",
      "Matching facilities in PA\n",
      "Completed matching and deduping facilities, matched 213 of 245\n",
      "Matching facilities in PR\n",
      "Completed matching and deduping facilities, matched 27 of 67\n",
      "Matching facilities in RI\n",
      "Completed matching and deduping facilities, matched 13 of 15\n",
      "Matching facilities in SC\n",
      "Completed matching and deduping facilities, matched 77 of 93\n",
      "Matching facilities in SD\n",
      "Completed matching and deduping facilities, matched 58 of 66\n",
      "Matching facilities in TN\n",
      "Completed matching and deduping facilities, matched 135 of 149\n",
      "Matching facilities in TX\n",
      "Completed [250] of 641 facilities, prelim matched 242\n",
      "Completed [500] of 641 facilities, prelim matched 444\n",
      "Completed matching and deduping facilities, matched 526 of 641\n",
      "Matching facilities in UT\n",
      "Completed matching and deduping facilities, matched 57 of 62\n",
      "Matching facilities in VT\n",
      "Completed matching and deduping facilities, matched 16 of 17\n",
      "Matching facilities in VI\n",
      "Completed matching and deduping facilities, matched 1 of 2\n",
      "Matching facilities in VA\n",
      "Completed matching and deduping facilities, matched 101 of 124\n",
      "Matching facilities in WA\n",
      "Completed matching and deduping facilities, matched 100 of 116\n",
      "Matching facilities in WV\n",
      "Completed matching and deduping facilities, matched 56 of 68\n",
      "Matching facilities in WI\n",
      "Completed matching and deduping facilities, matched 143 of 151\n",
      "Matching facilities in WY\n",
      "Completed matching and deduping facilities, matched 30 of 33\n",
      "Matching facilities in GU\n",
      "Completed matching and deduping facilities, matched 2 of 3\n",
      "Matching facilities in MP\n",
      "Completed matching and deduping facilities, matched 1 of 1\n",
      "------------\n",
      "DH to HCRIS matches: 87.0% (5724 of 6579)\n"
     ]
    }
   ],
   "source": [
    "dh_to_hcris_matches, dh_to_hcris_data = match_by_state(\n",
    "    dh_info, \n",
    "    hcris_info, \n",
    "    'state_validation_maps_03-31-20_dh-to-hcris')\n",
    "\n",
    "DtoH_matches = dh_to_hcris_data['matching_dfs']\n",
    "DtoH_matches.to_csv(processed_data_path('DH_to_HCRIS_matching_key.csv'), index=False)"
   ]
  },
  {
   "cell_type": "code",
   "execution_count": null,
   "metadata": {},
   "outputs": [],
   "source": []
  },
  {
   "cell_type": "code",
   "execution_count": null,
   "metadata": {},
   "outputs": [],
   "source": []
  },
  {
   "cell_type": "markdown",
   "metadata": {},
   "source": [
    "#### Filter facilities with unusable data.\n"
   ]
  },
  {
   "cell_type": "code",
   "execution_count": null,
   "metadata": {},
   "outputs": [],
   "source": [
    "dh_gdf = dh_gdf[~dh_gdf['geometry'].isna()]\n",
    "dh_gdf = dh_gdf[~dh_gdf['NUM_LICENS'].isnull()]\n",
    "hcris_gdf = hcris_gdf[hcris_gdf['Total Staffed Beds'] > 0.0]"
   ]
  },
  {
   "cell_type": "markdown",
   "metadata": {},
   "source": [
    "Perform the matching on facilities based on a spatial join and similarity score between address and name columns."
   ]
  },
  {
   "cell_type": "code",
   "execution_count": null,
   "metadata": {},
   "outputs": [],
   "source": [
    "id_columns = {\n",
    "    'HCRIS': 'Provider Number',\n",
    "    'DH': 'OBJECTID'\n",
    "}\n",
    "\n",
    "similarity_columns = {\n",
    "    'HCRIS': ['HOSP10_Name', 'Street_Addr'],\n",
    "    'DH': ['HOSPITAL_N', 'HQ_ADDRESS']\n",
    "}"
   ]
  },
  {
   "cell_type": "code",
   "execution_count": null,
   "metadata": {},
   "outputs": [],
   "source": [
    "hcris_filtered_gdf = hcris_gdf[['geometry', id_columns['HCRIS']] + similarity_columns['HCRIS']]\n",
    "dh_filtered_gdf = dh_gdf[['geometry', id_columns['DH']] + similarity_columns['DH']]"
   ]
  },
  {
   "cell_type": "code",
   "execution_count": null,
   "metadata": {},
   "outputs": [],
   "source": [
    "joined_dh_hcris = spatial_join_facilities(left=dh_filtered_gdf,\n",
    "                        right=hcris_filtered_gdf,\n",
    "                        lid_property = id_columns['DH'],\n",
    "                        rid_property = id_columns['HCRIS'],\n",
    "                        lsimilarity_properties = similarity_columns['DH'],\n",
    "                        rsimilarity_properties = similarity_columns['HCRIS'],\n",
    "                        similarity_weights=[0.6, 0.4],                                                       \n",
    "                        distance=1000,\n",
    "                        merge_unmatched=False)"
   ]
  },
  {
   "cell_type": "markdown",
   "metadata": {},
   "source": [
    "#### Save off unmatched HCRIS data to be inspected "
   ]
  },
  {
   "cell_type": "code",
   "execution_count": null,
   "metadata": {},
   "outputs": [],
   "source": [
    "matched_hcris = set(set(joined_dh_hcris[~joined_dh_hcris['Provider Number'].isnull()]['Provider Number']))\n",
    "total_hcris = set(hcris_gdf['Provider Number'])\n",
    "unmatched_hcris = hcris_gdf[hcris_gdf['Provider Number'].isin(total_hcris - matched_hcris)]"
   ]
  },
  {
   "cell_type": "code",
   "execution_count": null,
   "metadata": {},
   "outputs": [],
   "source": [
    "unmatched_hcris.to_csv(processed_data_path('hcris-unmatched-to-dh.csv'))"
   ]
  },
  {
   "cell_type": "markdown",
   "metadata": {},
   "source": [
    "#### Save merged facility data"
   ]
  },
  {
   "cell_type": "code",
   "execution_count": null,
   "metadata": {},
   "outputs": [],
   "source": [
    "full_df = joined_dh_hcris.merge(dh_gdf, on='OBJECTID').merge(hcris_gdf, how='left', on='Provider Number')\n",
    "full_df = full_df.drop(columns=['geometry_y'])\n",
    "full_df = full_df.rename({'geometry_x': 'geometry'}, axis=1)\n",
    "full_df = gpd.GeoDataFrame(full_df, crs=4326)"
   ]
  },
  {
   "cell_type": "code",
   "execution_count": null,
   "metadata": {},
   "outputs": [],
   "source": [
    "full_df.to_file(processed_data_path('dh_hcris_merged_facility_data.geojson'), \n",
    "                encoding='utf-8', \n",
    "                driver='GeoJSON')"
   ]
  }
 ],
 "metadata": {
  "kernelspec": {
   "display_name": "Python 3",
   "language": "python",
   "name": "python3"
  },
  "language_info": {
   "codemirror_mode": {
    "name": "ipython",
    "version": 3
   },
   "file_extension": ".py",
   "mimetype": "text/x-python",
   "name": "python",
   "nbconvert_exporter": "python",
   "pygments_lexer": "ipython3",
   "version": "3.8.2"
  }
 },
 "nbformat": 4,
 "nbformat_minor": 4
}
