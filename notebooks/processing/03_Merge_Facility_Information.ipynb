{
 "cells": [
  {
   "cell_type": "markdown",
   "metadata": {},
   "source": [
    "# Merge facility information\n",
    "\n",
    "Merge facility data from HCRIS (Healthcare Cost Reporting Information System) andDH (Definitive Healthcare) datasets."
   ]
  },
  {
   "cell_type": "code",
   "execution_count": null,
   "metadata": {},
   "outputs": [],
   "source": [
    "%load_ext autoreload\n",
    "%autoreload 2"
   ]
  },
  {
   "cell_type": "code",
   "execution_count": null,
   "metadata": {},
   "outputs": [],
   "source": [
    "import pandas as pd\n",
    "import geopandas as gpd\n",
    "import numpy as np\n",
    "from os.path import join\n",
    "\n",
    "from covidcaremap.geo import spatial_join_facilities\n",
    "from covidcaremap.data import processed_data_path\n",
    "\n",
    "from covidcaremap.mapping import HospMap\n",
    "from covidcaremap.merge import Matcher"
   ]
  },
  {
   "cell_type": "code",
   "execution_count": null,
   "metadata": {},
   "outputs": [],
   "source": [
    "hcris = gpd.read_file(processed_data_path('usa_facilities_hcris_geocoded.geojson'), encoding='utf-8')\n",
    "dh = gpd.read_file(processed_data_path('dh_geocoded_v1_0326202.geojson'), encoding='utf-8')"
   ]
  },
  {
   "cell_type": "code",
   "execution_count": null,
   "metadata": {},
   "outputs": [],
   "source": [
    "hcris.rename(columns={\n",
    "    'ST_ABBR': 'STATE_NAME',\n",
    "    'Zip_Code': 'ZIP_CODE'\n",
    "}, inplace=True)\n",
    "\n",
    "dh['STATE_NAME'] = dh['ST_ABBR']"
   ]
  },
  {
   "cell_type": "code",
   "execution_count": null,
   "metadata": {},
   "outputs": [],
   "source": [
    "all_states = hcris['STATE_NAME'].unique()"
   ]
  },
  {
   "cell_type": "code",
   "execution_count": null,
   "metadata": {},
   "outputs": [],
   "source": [
    "def match_by_state(d1, d2, uid1, uid2, str_match_method, map_dir=None):\n",
    "    state_matches = {}\n",
    "    for state in all_states:\n",
    "        print('Matching facilities in {}'.format(state))\n",
    "        if state not in state_matches.keys():\n",
    "            d1_s = d1[d1['STATE_NAME'] == state].reset_index().copy()\n",
    "            d2_s = d2[d2['STATE_NAME'] == state].reset_index().copy()\n",
    "            m = Matcher(d1_s, d2_s, uid1, uid2)\n",
    "            m.match_point_set((100, 500), 10, str_match_method=str_match_method)\n",
    "            if map_dir:\n",
    "                all_map = m.map_all((uid1, uid2), ['match source', 'dist_apart'])\n",
    "                all_map.add_layer_selector()\n",
    "                all_map.save(join(processed_data_path('{}'.format(map_dir)), '{}.html'.format(state)))\n",
    "            state_matches[state] = m\n",
    "    \n",
    "    ds = {\n",
    "        'd1_matched': [],\n",
    "        'd2_matched': [],\n",
    "        'd1_unmatched': [],\n",
    "        'd2_unmatched': [],\n",
    "        'matching_dfs': []\n",
    "    }\n",
    "    \n",
    "    for _, v in state_matches.items():\n",
    "        ds['d1_matched'].append(v.d1_matched)\n",
    "        ds['d2_matched'].append(v.d2_matched)\n",
    "        ds['d1_unmatched'].append(v.d1_unmatched)\n",
    "        ds['d2_unmatched'].append(v.d2_unmatched)\n",
    "        ds['matching_dfs'].append(v.matching_key_df())\n",
    "    \n",
    "    ds = {k: pd.concat(v).to_crs('epsg:4326') for k, v in ds.items()}\n",
    "    \n",
    "    return (state_matches, ds)"
   ]
  },
  {
   "cell_type": "code",
   "execution_count": null,
   "metadata": {},
   "outputs": [],
   "source": [
    "hcris_to_dh_state_matches, hcris_to_dh_data = match_by_state(\n",
    "    hcris, dh, 'Provider Number', 'OBJECTID',\n",
    "    'name', 'state_validation_maps_03-31-20_hcris-to-dh')\n",
    "\n",
    "matches = hcris_to_dh_data['matching_dfs']\n",
    "matched.to_csv(processed_data_path('HCRIS_to_DH_matching_key.cvs'), index=False)\n",
    "\n",
    "print('HCRIS to DH matches: {}'.format(len(matched)))\n",
    "print('HCRIS to DH matches: {}'.format(len(hcris_to_dh_data['d1_unmatched'])))"
   ]
  },
  {
   "cell_type": "code",
   "execution_count": null,
   "metadata": {},
   "outputs": [],
   "source": [
    "dh_to_hcris_state_matches, dh_to_hcris_data = match_by_state(\n",
    "    dh, hcris, 'OBJECTID', 'Provider Number', \n",
    "    'name', 'state_validation_maps_03-31-20_dh-to-hcris')"
   ]
  },
  {
   "cell_type": "markdown",
   "metadata": {},
   "source": [
    "#### Filter facilities with unusable data.\n"
   ]
  },
  {
   "cell_type": "code",
   "execution_count": null,
   "metadata": {},
   "outputs": [],
   "source": [
    "dh_gdf = dh_gdf[~dh_gdf['geometry'].isna()]\n",
    "dh_gdf = dh_gdf[~dh_gdf['NUM_LICENS'].isnull()]\n",
    "hcris_gdf = hcris_gdf[hcris_gdf['Total Staffed Beds'] > 0.0]"
   ]
  },
  {
   "cell_type": "markdown",
   "metadata": {},
   "source": [
    "Perform the matching on facilities based on a spatial join and similarity score between address and name columns."
   ]
  },
  {
   "cell_type": "code",
   "execution_count": null,
   "metadata": {},
   "outputs": [],
   "source": [
    "id_columns = {\n",
    "    'HCRIS': 'Provider Number',\n",
    "    'DH': 'OBJECTID'\n",
    "}\n",
    "\n",
    "similarity_columns = {\n",
    "    'HCRIS': ['HOSP10_Name', 'Street_Addr'],\n",
    "    'DH': ['HOSPITAL_N', 'HQ_ADDRESS']\n",
    "}"
   ]
  },
  {
   "cell_type": "code",
   "execution_count": null,
   "metadata": {},
   "outputs": [],
   "source": [
    "hcris_filtered_gdf = hcris_gdf[['geometry', id_columns['HCRIS']] + similarity_columns['HCRIS']]\n",
    "dh_filtered_gdf = dh_gdf[['geometry', id_columns['DH']] + similarity_columns['DH']]"
   ]
  },
  {
   "cell_type": "code",
   "execution_count": null,
   "metadata": {},
   "outputs": [],
   "source": [
    "joined_dh_hcris = spatial_join_facilities(left=dh_filtered_gdf,\n",
    "                        right=hcris_filtered_gdf,\n",
    "                        lid_property = id_columns['DH'],\n",
    "                        rid_property = id_columns['HCRIS'],\n",
    "                        lsimilarity_properties = similarity_columns['DH'],\n",
    "                        rsimilarity_properties = similarity_columns['HCRIS'],\n",
    "                        similarity_weights=[0.6, 0.4],                                                       \n",
    "                        distance=1000,\n",
    "                        merge_unmatched=False)"
   ]
  },
  {
   "cell_type": "markdown",
   "metadata": {},
   "source": [
    "#### Save off unmatched HCRIS data to be inspected "
   ]
  },
  {
   "cell_type": "code",
   "execution_count": null,
   "metadata": {},
   "outputs": [],
   "source": [
    "matched_hcris = set(set(joined_dh_hcris[~joined_dh_hcris['Provider Number'].isnull()]['Provider Number']))\n",
    "total_hcris = set(hcris_gdf['Provider Number'])\n",
    "unmatched_hcris = hcris_gdf[hcris_gdf['Provider Number'].isin(total_hcris - matched_hcris)]"
   ]
  },
  {
   "cell_type": "code",
   "execution_count": null,
   "metadata": {},
   "outputs": [],
   "source": [
    "unmatched_hcris.to_csv(processed_data_path('hcris-unmatched-to-dh.csv'))"
   ]
  },
  {
   "cell_type": "markdown",
   "metadata": {},
   "source": [
    "#### Save merged facility data"
   ]
  },
  {
   "cell_type": "code",
   "execution_count": null,
   "metadata": {},
   "outputs": [],
   "source": [
    "full_df = joined_dh_hcris.merge(dh_gdf, on='OBJECTID').merge(hcris_gdf, how='left', on='Provider Number')\n",
    "full_df = full_df.drop(columns=['geometry_y'])\n",
    "full_df = full_df.rename({'geometry_x': 'geometry'}, axis=1)\n",
    "full_df = gpd.GeoDataFrame(full_df, crs=4326)"
   ]
  },
  {
   "cell_type": "code",
   "execution_count": null,
   "metadata": {},
   "outputs": [],
   "source": [
    "full_df.to_file(processed_data_path('dh_hcris_merged_facility_data.geojson'), \n",
    "                encoding='utf-8', \n",
    "                driver='GeoJSON')"
   ]
  },
  {
   "cell_type": "code",
   "execution_count": null,
   "metadata": {},
   "outputs": [],
   "source": []
  }
 ],
 "metadata": {
  "kernelspec": {
   "display_name": "Python 3",
   "language": "python",
   "name": "python3"
  },
  "language_info": {
   "codemirror_mode": {
    "name": "ipython",
    "version": 3
   },
   "file_extension": ".py",
   "mimetype": "text/x-python",
   "name": "python",
   "nbconvert_exporter": "python",
   "pygments_lexer": "ipython3",
   "version": "3.8.2"
  }
 },
 "nbformat": 4,
 "nbformat_minor": 4
}
