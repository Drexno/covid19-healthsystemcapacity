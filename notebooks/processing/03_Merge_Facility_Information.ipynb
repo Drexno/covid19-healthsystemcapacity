{
 "cells": [
  {
   "cell_type": "markdown",
   "metadata": {},
   "source": [
    "# Merge facility information\n",
    "\n",
    "Merge facility data from HCRIS (Healthcare Cost Reporting Information System) andDH (Definitive Healthcare) datasets."
   ]
  },
  {
   "cell_type": "code",
   "execution_count": 2,
   "metadata": {},
   "outputs": [
    {
     "name": "stdout",
     "output_type": "stream",
     "text": [
      "The autoreload extension is already loaded. To reload it, use:\n",
      "  %reload_ext autoreload\n"
     ]
    }
   ],
   "source": [
    "%load_ext autoreload\n",
    "%autoreload 2"
   ]
  },
  {
   "cell_type": "code",
   "execution_count": 3,
   "metadata": {},
   "outputs": [],
   "source": [
    "import pandas as pd\n",
    "import geopandas as gpd\n",
    "import numpy as np\n",
    "\n",
    "from covidcaremap.geo import spatial_join_facilities\n",
    "from covidcaremap.data import processed_data_path\n",
    "\n",
    "from covidcaremap.mapping import HospMap\n",
    "from covidcaremap.merge import Matcher"
   ]
  },
  {
   "cell_type": "code",
   "execution_count": 4,
   "metadata": {},
   "outputs": [],
   "source": [
    "hcris = gpd.read_file(processed_data_path('usa_hospital_beds_hcris2018.geojson'), encoding='utf-8')\n",
    "dh = gpd.read_file(processed_data_path('dh_geocoded_v1_0326202.geojson'), encoding='utf-8')"
   ]
  },
  {
   "cell_type": "code",
   "execution_count": 5,
   "metadata": {},
   "outputs": [],
   "source": [
    "hcris.rename(columns={\n",
    "    'State': 'STATE_NAME',\n",
    "    'County': 'COUNTY_NAME',\n",
    "    'City': 'CITY_NAME',\n",
    "    'Zip_Code': 'ZIP_CODE'\n",
    "}, inplace=True)\n",
    "\n",
    "dh['STATE_NAME'] = dh['ST_ABBR']"
   ]
  },
  {
   "cell_type": "code",
   "execution_count": 6,
   "metadata": {},
   "outputs": [
    {
     "name": "stdout",
     "output_type": "stream",
     "text": [
      "Matching facilities in AL\n",
      "Completed matching and deduping facilities, matched 109 of 136\n",
      "Matching facilities in AK\n",
      "Completed matching and deduping facilities, matched 24 of 26\n",
      "Matching facilities in AZ\n",
      "Completed matching and deduping facilities, matched 106 of 125\n",
      "Matching facilities in AR\n",
      "Completed matching and deduping facilities, matched 97 of 109\n",
      "Matching facilities in CA\n",
      "Completed [250] of 445 facilities, prelim matched 237\n",
      "Completed matching and deduping facilities, matched 403 of 445\n",
      "Matching facilities in CO\n",
      "Completed matching and deduping facilities, matched 101 of 110\n",
      "Matching facilities in CT\n",
      "Completed matching and deduping facilities, matched 40 of 43\n",
      "Matching facilities in DE\n",
      "Completed matching and deduping facilities, matched 14 of 16\n",
      "Matching facilities in DC\n",
      "Completed matching and deduping facilities, matched 13 of 13\n",
      "Matching facilities in FL\n",
      "Completed [250] of 273 facilities, prelim matched 239\n",
      "Completed matching and deduping facilities, matched 248 of 273\n",
      "Matching facilities in GA\n",
      "Completed matching and deduping facilities, matched 163 of 187\n",
      "Matching facilities in HI\n",
      "Completed matching and deduping facilities, matched 26 of 28\n",
      "Matching facilities in ID\n",
      "Completed matching and deduping facilities, matched 48 of 55\n",
      "Matching facilities in IL\n",
      "Completed matching and deduping facilities, matched 199 of 213\n",
      "Matching facilities in IN\n",
      "Completed matching and deduping facilities, matched 158 of 185\n",
      "Matching facilities in IA\n",
      "Completed matching and deduping facilities, matched 121 of 125\n",
      "Matching facilities in KS\n",
      "Completed matching and deduping facilities, matched 146 of 162\n",
      "Matching facilities in KY\n",
      "Completed matching and deduping facilities, matched 108 of 121\n",
      "Matching facilities in LA\n",
      "Completed matching and deduping facilities, matched 189 of 241\n",
      "Matching facilities in ME\n",
      "Completed matching and deduping facilities, matched 38 of 42\n",
      "Matching facilities in MD\n",
      "Completed matching and deduping facilities, matched 55 of 65\n",
      "Matching facilities in MA\n",
      "Completed matching and deduping facilities, matched 96 of 113\n",
      "Matching facilities in MI\n",
      "Completed matching and deduping facilities, matched 155 of 177\n",
      "Matching facilities in MN\n",
      "Completed matching and deduping facilities, matched 137 of 148\n",
      "Matching facilities in MS\n",
      "Completed matching and deduping facilities, matched 104 of 121\n",
      "Matching facilities in MO\n",
      "Completed matching and deduping facilities, matched 130 of 161\n",
      "Matching facilities in MT\n",
      "Completed matching and deduping facilities, matched 65 of 65\n",
      "Matching facilities in NE\n",
      "Completed matching and deduping facilities, matched 94 of 102\n",
      "Matching facilities in NV\n",
      "Completed matching and deduping facilities, matched 56 of 61\n",
      "Matching facilities in NH\n",
      "Completed matching and deduping facilities, matched 30 of 30\n",
      "Matching facilities in NJ\n",
      "Completed matching and deduping facilities, matched 90 of 99\n",
      "Matching facilities in NM\n",
      "Completed matching and deduping facilities, matched 53 of 57\n",
      "Matching facilities in NY\n",
      "Completed matching and deduping facilities, matched 197 of 230\n",
      "Matching facilities in NC\n",
      "Completed matching and deduping facilities, matched 127 of 146\n",
      "Matching facilities in ND\n",
      "Completed matching and deduping facilities, matched 49 of 49\n",
      "Matching facilities in OH\n",
      "Completed [250] of 257 facilities, prelim matched 230\n",
      "Completed matching and deduping facilities, matched 218 of 257\n",
      "Matching facilities in OK\n",
      "Completed matching and deduping facilities, matched 143 of 166\n",
      "Matching facilities in OR\n",
      "Completed matching and deduping facilities, matched 61 of 64\n",
      "Matching facilities in PA\n",
      "Completed matching and deduping facilities, matched 212 of 248\n",
      "Matching facilities in PR\n",
      "Completed matching and deduping facilities, matched 30 of 65\n",
      "Matching facilities in RI\n",
      "Completed matching and deduping facilities, matched 13 of 15\n",
      "Matching facilities in SC\n",
      "Completed matching and deduping facilities, matched 78 of 90\n",
      "Matching facilities in SD\n",
      "Completed matching and deduping facilities, matched 61 of 64\n",
      "Matching facilities in TN\n",
      "Completed matching and deduping facilities, matched 137 of 166\n",
      "Matching facilities in TX\n",
      "Completed [250] of 687 facilities, prelim matched 222\n",
      "Completed [500] of 687 facilities, prelim matched 456\n",
      "Completed matching and deduping facilities, matched 536 of 687\n",
      "Matching facilities in UT\n",
      "Completed matching and deduping facilities, matched 58 of 63\n",
      "Matching facilities in VT\n",
      "Completed matching and deduping facilities, matched 16 of 16\n",
      "Matching facilities in VI\n",
      "Completed matching and deduping facilities, matched 2 of 2\n",
      "Matching facilities in VA\n",
      "Completed matching and deduping facilities, matched 105 of 123\n",
      "Matching facilities in WA\n",
      "Completed matching and deduping facilities, matched 100 of 107\n",
      "Matching facilities in WV\n",
      "Completed matching and deduping facilities, matched 58 of 66\n",
      "Matching facilities in WI\n",
      "Completed matching and deduping facilities, matched 141 of 149\n",
      "Matching facilities in WY\n",
      "Completed matching and deduping facilities, matched 30 of 32\n",
      "Matching facilities in GU\n",
      "Completed matching and deduping facilities, matched 2 of 2\n",
      "Matching facilities in MP\n",
      "Completed matching and deduping facilities, matched 1 of 1\n"
     ]
    }
   ],
   "source": [
    "state_matches = {}\n",
    "for state in hcris['STATE_NAME'].unique():\n",
    "    print('Matching facilities in {}'.format(state))\n",
    "    if state not in state_matches.keys():\n",
    "        hcris_s = hcris[hcris['STATE_NAME'] == state].reset_index().copy()\n",
    "        dh_s = dh[dh['STATE_NAME'] == state].reset_index().copy()\n",
    "        m = Matcher(hcris_s, dh_s, 'Provider Number', 'OBJECTID')\n",
    "        m.match_point_set((100, 500), 10)\n",
    "        all_map = m.map_all(('HCRIS', 'DH'), ['match source', 'dist_apart'])\n",
    "        all_map.add_layer_selector()\n",
    "        all_map.save(processed_data_path('state_validation_maps/{}.html'.format(state)))\n",
    "        state_matches[state] = m"
   ]
  },
  {
   "cell_type": "code",
   "execution_count": null,
   "metadata": {},
   "outputs": [],
   "source": [
    "hcris_matched = []\n",
    "dh_matched = []\n",
    "hcris_unmatched = []\n",
    "dh_unmatched = []\n",
    "\n",
    "for _, v in state_matches.items():\n",
    "    hcris_matched.append(v.d1_matched)\n",
    "    dh_matched.append(v.d2_matched)\n",
    "    hcris_unmatched.append(v.d1_unmatched)\n",
    "    dh_unmatched.append(v.d2_unmatched)\n",
    "\n",
    "hcris_matched = pd.concat(hcris_matched).to_crs('epsg:4326')\n",
    "dh_matched = pd.concat(dh_matched).to_crs('epsg:4326')\n",
    "hcris_unmatched = pd.concat(hcris_unmatched).to_crs('epsg:4326')\n",
    "dh_unmatched = pd.concat(dh_unmatched).to_crs('epsg:4326')"
   ]
  },
  {
   "cell_type": "code",
   "execution_count": null,
   "metadata": {},
   "outputs": [],
   "source": [
    "m = HospMap()\n",
    "m.add_point_subset(hcris_matched, 'hcris - matched', 'blue', addl_labels=['match source', 'dist_apart'])\n",
    "m.add_point_subset(dh_matched, 'dh - matched', 'red', addl_labels=['match source', 'dist_apart'])\n",
    "m.add_point_subset(dh_unmatched, 'dh - unmatched', 'orange')\n",
    "m.add_point_subset(hcris_unmatched, 'hcris - unmatched', 'purple')\n",
    "m.add_connections(hcris_matched, dh_matched)"
   ]
  },
  {
   "cell_type": "markdown",
   "metadata": {},
   "source": [
    "#### Filter facilities with unusable data.\n"
   ]
  },
  {
   "cell_type": "code",
   "execution_count": null,
   "metadata": {},
   "outputs": [],
   "source": [
    "dh_gdf = dh_gdf[~dh_gdf['geometry'].isna()]\n",
    "dh_gdf = dh_gdf[~dh_gdf['NUM_LICENS'].isnull()]\n",
    "hcris_gdf = hcris_gdf[hcris_gdf['Total Staffed Beds'] > 0.0]"
   ]
  },
  {
   "cell_type": "markdown",
   "metadata": {},
   "source": [
    "Perform the matching on facilities based on a spatial join and similarity score between address and name columns."
   ]
  },
  {
   "cell_type": "code",
   "execution_count": null,
   "metadata": {},
   "outputs": [],
   "source": [
    "id_columns = {\n",
    "    'HCRIS': 'Provider Number',\n",
    "    'DH': 'OBJECTID'\n",
    "}\n",
    "\n",
    "similarity_columns = {\n",
    "    'HCRIS': ['HOSP10_Name', 'Street_Addr'],\n",
    "    'DH': ['HOSPITAL_N', 'HQ_ADDRESS']\n",
    "}"
   ]
  },
  {
   "cell_type": "code",
   "execution_count": null,
   "metadata": {},
   "outputs": [],
   "source": [
    "hcris_filtered_gdf = hcris_gdf[['geometry', id_columns['HCRIS']] + similarity_columns['HCRIS']]\n",
    "dh_filtered_gdf = dh_gdf[['geometry', id_columns['DH']] + similarity_columns['DH']]"
   ]
  },
  {
   "cell_type": "code",
   "execution_count": null,
   "metadata": {},
   "outputs": [],
   "source": [
    "joined_dh_hcris = spatial_join_facilities(left=dh_filtered_gdf,\n",
    "                        right=hcris_filtered_gdf,\n",
    "                        lid_property = id_columns['DH'],\n",
    "                        rid_property = id_columns['HCRIS'],\n",
    "                        lsimilarity_properties = similarity_columns['DH'],\n",
    "                        rsimilarity_properties = similarity_columns['HCRIS'],\n",
    "                        similarity_weights=[0.6, 0.4],                                                       \n",
    "                        distance=1000,\n",
    "                        merge_unmatched=False)"
   ]
  },
  {
   "cell_type": "markdown",
   "metadata": {},
   "source": [
    "#### Save off unmatched HCRIS data to be inspected "
   ]
  },
  {
   "cell_type": "code",
   "execution_count": null,
   "metadata": {},
   "outputs": [],
   "source": [
    "matched_hcris = set(set(joined_dh_hcris[~joined_dh_hcris['Provider Number'].isnull()]['Provider Number']))\n",
    "total_hcris = set(hcris_gdf['Provider Number'])\n",
    "unmatched_hcris = hcris_gdf[hcris_gdf['Provider Number'].isin(total_hcris - matched_hcris)]"
   ]
  },
  {
   "cell_type": "code",
   "execution_count": null,
   "metadata": {},
   "outputs": [],
   "source": [
    "unmatched_hcris.to_csv(processed_data_path('hcris-unmatched-to-dh.csv'))"
   ]
  },
  {
   "cell_type": "markdown",
   "metadata": {},
   "source": [
    "#### Save merged facility data"
   ]
  },
  {
   "cell_type": "code",
   "execution_count": null,
   "metadata": {},
   "outputs": [],
   "source": [
    "full_df = joined_dh_hcris.merge(dh_gdf, on='OBJECTID').merge(hcris_gdf, how='left', on='Provider Number')\n",
    "full_df = full_df.drop(columns=['geometry_y'])\n",
    "full_df = full_df.rename({'geometry_x': 'geometry'}, axis=1)\n",
    "full_df = gpd.GeoDataFrame(full_df, crs=4326)"
   ]
  },
  {
   "cell_type": "code",
   "execution_count": null,
   "metadata": {},
   "outputs": [],
   "source": [
    "full_df.to_file(processed_data_path('dh_hcris_merged_facility_data.geojson'), \n",
    "                encoding='utf-8', \n",
    "                driver='GeoJSON')"
   ]
  },
  {
   "cell_type": "code",
   "execution_count": null,
   "metadata": {},
   "outputs": [],
   "source": []
  }
 ],
 "metadata": {
  "kernelspec": {
   "display_name": "Python 3",
   "language": "python",
   "name": "python3"
  },
  "language_info": {
   "codemirror_mode": {
    "name": "ipython",
    "version": 3
   },
   "file_extension": ".py",
   "mimetype": "text/x-python",
   "name": "python",
   "nbconvert_exporter": "python",
   "pygments_lexer": "ipython3",
   "version": "3.8.2"
  }
 },
 "nbformat": 4,
 "nbformat_minor": 4
}
