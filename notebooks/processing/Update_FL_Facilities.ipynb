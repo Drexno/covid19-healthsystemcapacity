{
 "cells": [
  {
   "cell_type": "code",
   "execution_count": null,
   "metadata": {},
   "outputs": [],
   "source": [
    "%load_ext autoreload\n",
    "%autoreload 2"
   ]
  },
  {
   "cell_type": "code",
   "execution_count": null,
   "metadata": {},
   "outputs": [],
   "source": [
    "import os\n",
    "import json\n",
    "from os.path import join, isdir\n",
    "from pathlib import Path\n",
    "\n",
    "import pandas as pd\n",
    "import geopandas as gpd\n",
    "import numpy as np\n",
    "\n",
    "from covidcaremap.data import (processed_data_path, \n",
    "                               external_data_path,\n",
    "                               published_data_path,\n",
    "                               local_data_path)\n",
    "\n",
    "from rapidfuzz import fuzz, process"
   ]
  },
  {
   "cell_type": "code",
   "execution_count": null,
   "metadata": {},
   "outputs": [],
   "source": [
    "ccm_matching_df = pd.read_csv(external_data_path('covidcaremap_facility_matching_20200407.csv'))"
   ]
  },
  {
   "cell_type": "code",
   "execution_count": null,
   "metadata": {},
   "outputs": [],
   "source": [
    "ccm_matching_df.head()"
   ]
  },
  {
   "cell_type": "code",
   "execution_count": null,
   "metadata": {},
   "outputs": [],
   "source": [
    "ccm_csv_df = pd.read_csv(\n",
    "    published_data_path('us_healthcare_capacity-facility-CovidCareMap.csv'), \n",
    "    dtype={'HCRIS-Provider Number': object, \n",
    "           'DH-OBJECTID': object,\n",
    "           'CCM_ID': object\n",
    "          }\n",
    ")"
   ]
  },
  {
   "cell_type": "code",
   "execution_count": null,
   "metadata": {
    "scrolled": true
   },
   "outputs": [],
   "source": [
    "ccm_csv_df.head()"
   ]
  },
  {
   "cell_type": "code",
   "execution_count": null,
   "metadata": {},
   "outputs": [],
   "source": [
    "update_date = sorted([f.stem for f in Path(external_data_path('Florida/')).iterdir()], reverse=True)[0].split('_')[-1]\n",
    "update_date"
   ]
  },
  {
   "cell_type": "code",
   "execution_count": null,
   "metadata": {},
   "outputs": [],
   "source": [
    "fl_hosp = pd.read_csv(external_data_path(f'Florida/FL_Hospital_BedsHospital1_crosstab_{update_date}.csv'), encoding='utf-8')\n",
    "fl_icu = pd.read_csv(external_data_path(f'Florida/FL_ICU_BedsHospital1_crosstab_{update_date}.csv'), encoding='utf-8')"
   ]
  },
  {
   "cell_type": "code",
   "execution_count": null,
   "metadata": {},
   "outputs": [],
   "source": [
    "fl_hosp.drop(0,inplace=True), fl_icu.drop(0,inplace=True)"
   ]
  },
  {
   "cell_type": "code",
   "execution_count": null,
   "metadata": {},
   "outputs": [],
   "source": [
    "fl_hosp['Total Staffed Bed Capacity'] = fl_hosp['Total Staffed Bed Capacity'].apply(lambda x: int(x.replace(',','')))\n",
    "fl_icu['Total AdultICU Capacity'] = fl_icu['Total AdultICU Capacity'].apply(lambda x: int(x.replace(',','')))\n",
    "fl_hosp['Bed Census'] = fl_hosp['Bed Census'].apply(lambda x: int(x.replace(',','')))\n",
    "fl_icu['Adult ICU Census'] = fl_icu['Adult ICU Census'].apply(lambda x: int(x.replace(',','')))"
   ]
  },
  {
   "cell_type": "code",
   "execution_count": null,
   "metadata": {},
   "outputs": [],
   "source": [
    "fl_hosp.head()"
   ]
  },
  {
   "cell_type": "code",
   "execution_count": null,
   "metadata": {
    "scrolled": false
   },
   "outputs": [],
   "source": [
    "fl_icu.head()"
   ]
  },
  {
   "cell_type": "code",
   "execution_count": null,
   "metadata": {},
   "outputs": [],
   "source": [
    "ccm_matching_df.columns"
   ]
  },
  {
   "cell_type": "code",
   "execution_count": null,
   "metadata": {},
   "outputs": [],
   "source": [
    "ccm_fl = ccm_matching_df[ccm_matching_df['State'] == 'FL']\n",
    "ccm_fl.head()"
   ]
  },
  {
   "cell_type": "code",
   "execution_count": null,
   "metadata": {},
   "outputs": [],
   "source": [
    "search_ccm_fl = []\n",
    "for idx, row in ccm_fl.iterrows():\n",
    "    search_ccm_fl.append((', ').join(row[['Name', \n",
    "                                          'DH name lookup', \n",
    "                                          'HCRIS name lookup',\n",
    "#                                           'County'\n",
    "                                         ]].values.astype('str')).replace('nan',''))"
   ]
  },
  {
   "cell_type": "code",
   "execution_count": null,
   "metadata": {},
   "outputs": [],
   "source": [
    "search_ccm_fl_dict = {el:ccm_fl.iloc[idx]['CCM_ID'] for idx, el in enumerate(search_ccm_fl)}"
   ]
  },
  {
   "cell_type": "code",
   "execution_count": null,
   "metadata": {},
   "outputs": [],
   "source": [
    "fl_hosp.columns"
   ]
  },
  {
   "cell_type": "code",
   "execution_count": null,
   "metadata": {},
   "outputs": [],
   "source": [
    "county = ''\n",
    "for idx, row in fl_hosp.iterrows():\n",
    "    search_str = (', ').join(fl_hosp.loc[idx,\n",
    "                                        ['ProviderName',\n",
    "                                        ]].values.astype(str))\n",
    "\n",
    "    \n",
    "    if row['County'] != county:\n",
    "        search_ccm_county = []\n",
    "        for _, r in ccm_fl[ccm_fl['County'] == row['County']].iterrows():\n",
    "#             print(ccm_fl.loc[idx,['Name', 'Address', 'County','Zipcode']])\n",
    "            search_ccm_county.append((', ').join(r[['Name', \n",
    "                                                  'DH name lookup', \n",
    "                                                  'HCRIS name lookup',\n",
    "        #                                           'County'\n",
    "                                                 ]].values.astype('str')).replace('nan',''))    \n",
    "    county = row['County']\n",
    "    \n",
    "    result = process.extractOne(search_str, search_ccm_county)\n",
    "\n",
    "    if result != None:\n",
    "        \n",
    "        fl_hosp.loc[idx,'Matched Name'] = result[0]\n",
    "        fl_hosp.loc[idx,'Matched Score'] = result[1]\n",
    "        fl_hosp.loc[idx,'CCM_ID'] = search_ccm_fl_dict[result[0]]\n",
    "        fl_hosp.loc[idx,'CCM County'] = county\n"
   ]
  },
  {
   "cell_type": "code",
   "execution_count": null,
   "metadata": {},
   "outputs": [],
   "source": [
    "fl_hosp.shape"
   ]
  },
  {
   "cell_type": "code",
   "execution_count": null,
   "metadata": {},
   "outputs": [],
   "source": [
    "fl_hosp.head()"
   ]
  },
  {
   "cell_type": "code",
   "execution_count": null,
   "metadata": {
    "scrolled": false
   },
   "outputs": [],
   "source": [
    "fl_hosp[(fl_hosp['Matched Score'] > 90)][['ProviderName','Matched Name']]"
   ]
  },
  {
   "cell_type": "code",
   "execution_count": null,
   "metadata": {},
   "outputs": [],
   "source": [
    "# save to file to do manual check and matching\n",
    "fl_hosp.to_csv(processed_data_path('fl_facilitymatch_debug.csv'))"
   ]
  },
  {
   "cell_type": "code",
   "execution_count": null,
   "metadata": {},
   "outputs": [],
   "source": [
    "facility_matched_dict = {k:int(v) for k,v in fl_hosp[(fl_hosp['Matched Score'] >= 0)][['ProviderName','CCM_ID']].values}"
   ]
  },
  {
   "cell_type": "code",
   "execution_count": null,
   "metadata": {},
   "outputs": [],
   "source": [
    "# manual matching override\n",
    "\n",
    "# list of tuples as (ProviderName, CCM_ID)\n",
    "manual_matches = [\n",
    "    (\"BETHESDA HOSPITAL EAST\", 3333435),\n",
    "    (\"UF HEALTH SHANDS PSYCHIATRIC HOSPITAL\", 79632606),\n",
    "    (\"CIRCLES OF CARE, INC\", 6532901),\n",
    "    (\"MEMORIAL REGIONAL HOSPITAL\", 25933021),\n",
    "    (\"FLORIDA MEDICAL CENTER - A CAMPUS OF NORTH SHORE\", 28233313),\n",
    "    (\"PHYSICIANS REGIONAL MEDICAL CENTER - COLLIER\", 31534114),\n",
    "    (\"ST JOSEPHS HOSPITAL\", 38533607),\n",
    "    (\"TAMPA COMMUNITY HOSPITAL- A CAMPUS OF MEMORIAL HOSPITAL OF TAMPA\", 40433615),\n",
    "    (\"H LEE MOFFITT CANCER CENTER & RESEARCH INSTITUTE HOSPITAL\", 15033612),\n",
    "    (\"STEWARD SEBASTIAN RIVER MEDICAL CENTER\", 33932958),\n",
    "    (\"ENCOMPASS HEALTH REHAB HOSPITAL AN AFFILIATE OF MARTIN HEALTH\", 36634997),\n",
    "    (\"UNIVERSITY OF MIAMI HOSPITAL AND CLINICS-UHEALTH TOWER\", 41033136),\n",
    "    (\"UNIVERSITY OF MIAMI HOSPITAL AND CLINICS-SYLVESTER COMPREHENSIVE\", 41233136),\n",
    "    (\"MERCY HOSPITAL, A CAMPUS OF PLANTATION GENERAL HOSPITAL\", 26233133),\n",
    "    (\"VARIETY CHILDREN'S HOSPITAL\", 26633155),\n",
    "    (\"JACKSON SOUTH MEDICAL CENTER\",18733157),\n",
    "    (\"UNIVERSITY OF MIAMI HOSPITAL AND CLINICS-BASCOM PALMER EYE INST\", 433136),\n",
    "    (\"ST CATHERINE'S REHABILITATION HOSPITAL\",38133161),\n",
    "    (\"SELECT SPECIALTY HOSPITAL-MIAMI LAKES\", 36133016),\n",
    "    (\"ADVENTHEALTH EAST ORLANDO\", 11832822),\n",
    "    (\"ADVENTHEALTH WINTER PARK\", 43632792),\n",
    "    (\"ARNOLD PALMER MEDICAL CENTER\", 532806),\n",
    "    (\"ORLANDO HEALTH DR P PHILLIPS HOSPITAL\", 8632819),\n",
    "    (\"ADVENTHEALTH APOPKA\", 10832703),\n",
    "    (\"SELECT SPECIALTY HOSPITAL - ORLANDO (NORTH CAMPUS)\", 34232803),\n",
    "    (\"BETHESDA HOSPITAL EAST\", 3333435),\n",
    "    (\"MORTON PLANT NORTH BAY HOSPITAL\",27034652),\n",
    "    (\"ORLANDO HEALTH SOUTH SEMINOLE HOSPITAL\", 37332750),\n",
    "    (\"ADVENTHEALTH ALTAMONTE SPRINGS\", 10532701)\n",
    "]\n",
    "    \n",
    "for p, ccm_id in manual_matches:\n",
    "    facility_matched_dict[p] = ccm_id\n",
    "\n",
    "facility_to_add = [\n",
    "    (\"PALM POINT BEHAVIORAL HEALTH\", \"CCM-FL-0001\"),\n",
    "    (\"FORT LAUDERDALE BEHAVIORAL HEALTH CENTER\", \"CCM-FL-0002\"),\n",
    "    (\"ASCENSION SACRED HEART PENSACOLA\", \"CCM-FL-0003\"),\n",
    "    (\"UF HEALTH LEESBURG SENIOR BEHAVIORAL HEALTH CENTER\", \"CCM-FL-0004\"),\n",
    "    (\"CLEVELAND CLINIC MARTIN SOUTH HOSPITAL\", \"CCM-FL-0005\"),\n",
    "    (\"HALIFAX HEALTH UF HEALTH MEDICAL CENTER OF DELTONA\", \"CCM-FL-0006\")\n",
    "]\n",
    "\n",
    "for p, ccm_id in facility_to_add:\n",
    "    facility_matched_dict[p] = ccm_id"
   ]
  },
  {
   "cell_type": "code",
   "execution_count": null,
   "metadata": {},
   "outputs": [],
   "source": [
    "manual_override_data = pd.read_csv(\n",
    "    external_data_path('covidcaremap-ushcsc-facility-manual-override.csv'),\n",
    "    dtype={'HCRIS-Provider Number': object, \n",
    "           'DH-OBJECTID': object,\n",
    "           'CCM_ID': object}\n",
    ")"
   ]
  },
  {
   "cell_type": "code",
   "execution_count": null,
   "metadata": {},
   "outputs": [],
   "source": [
    "manual_override_cols = list(manual_override_data.columns)\n",
    "manual_override_cols"
   ]
  },
  {
   "cell_type": "code",
   "execution_count": null,
   "metadata": {},
   "outputs": [],
   "source": [
    "ccm_csv_df.columns"
   ]
  },
  {
   "cell_type": "code",
   "execution_count": null,
   "metadata": {},
   "outputs": [],
   "source": [
    "manual_override_cols"
   ]
  },
  {
   "cell_type": "code",
   "execution_count": null,
   "metadata": {},
   "outputs": [],
   "source": [
    "col_replace = {\n",
    "    'DH-OBJECTID': 'DH-ID',\n",
    "    'HCRIS-Provider Number': 'HCRIS-ID',\n",
    "    'HIFLD-ID': 'HIFLD-ID'\n",
    "}\n",
    "\n",
    "manual_override_cols = [col_replace.get(n, n) for n in manual_override_cols]"
   ]
  },
  {
   "cell_type": "code",
   "execution_count": null,
   "metadata": {},
   "outputs": [],
   "source": [
    "override_dict = {\n",
    "    'Staffed All Beds - SOURCE': f\"FL AHCA {update_date}\",\n",
    "    'Staffed ICU Beds - SOURCE': f\"FL AHCA {update_date}\",\n",
    "    'All Bed Occupancy Rate - SOURCE': f\"FL AHCA {update_date}\",\n",
    "    'ICU Bed Occupancy Rate - SOURCE': f\"FL AHCA {update_date}\",\n",
    "    \"Manual Override Reason\": f\"More recent data from {update_date}\",\n",
    "    \"Manual Override New Data Source\": \"FL AHCA\"\n",
    "}\n",
    "list(override_dict.keys())"
   ]
  },
  {
   "cell_type": "code",
   "execution_count": null,
   "metadata": {},
   "outputs": [],
   "source": [
    "fl_hosp['ProviderName']"
   ]
  },
  {
   "cell_type": "code",
   "execution_count": null,
   "metadata": {},
   "outputs": [],
   "source": [
    "manual_override_cols"
   ]
  },
  {
   "cell_type": "code",
   "execution_count": null,
   "metadata": {},
   "outputs": [],
   "source": [
    "l = []\n",
    "not_added = []\n",
    "for p in fl_hosp['ProviderName']:\n",
    "    \n",
    "    ccm_id = str(facility_matched_dict[p])\n",
    "    found_ccm_record = ccm_csv_df[ccm_csv_df['CCM_ID'] == ccm_id]\n",
    "#     if ccm_id == '41233136': print(found_ccm_record)\n",
    "    \n",
    "    # ignore adding new facilities for now, only update existing matched facilities\n",
    "    if len(ccm_csv_df[ccm_csv_df['CCM_ID'] == ccm_id]) > 0:\n",
    "        \n",
    "        total_staffed_beds = fl_hosp[fl_hosp['ProviderName'] == p]['Total Staffed Bed Capacity'].values[0]\n",
    "        icu_staffed_beds = fl_icu[fl_icu['ProviderName'] == p]['Total AdultICU Capacity'].values[0]\n",
    "        \n",
    "        if total_staffed_beds > 0:\n",
    "            hosp_occupancy = fl_hosp[fl_hosp['ProviderName'] == p]['Bed Census'].values[0]/total_staffed_beds\n",
    "#         elif total_staffed_beds == 0: hosp_occupancy = 0\n",
    "        else: hosp_occupancy = np.nan\n",
    "            \n",
    "        if icu_staffed_beds > 0:\n",
    "            icu_occupancy = fl_icu[fl_icu['ProviderName'] == p]['Adult ICU Census'].values[0]/icu_staffed_beds\n",
    "#         elif icu_staffed_beds == 0: icu_occupancy = 0\n",
    "        else: icu_occupancy = np.nan\n",
    "        \n",
    "        override_dict['Staffed All Beds'] = fl_hosp[fl_hosp['ProviderName'] == p]['Total Staffed Bed Capacity'].values[0]\n",
    "        override_dict['Staffed ICU Beds'] = fl_icu[fl_icu['ProviderName'] == p]['Total AdultICU Capacity'].values[0]\n",
    "        override_dict['All Bed Occupancy Rate'] = hosp_occupancy\n",
    "        override_dict['ICU Bed Occupancy Rate'] = icu_occupancy\n",
    "    \n",
    "        row_dict = {}\n",
    "\n",
    "        for col in list(manual_override_cols):\n",
    "#             print(col)\n",
    "            # update data for col fields from FL\n",
    "            if col in list(override_dict.keys()):\n",
    "                row_dict[col] = override_dict[col]\n",
    "            # add the other col fields unchanged\n",
    "            elif len(found_ccm_record[col].values)>0:\n",
    "                row_dict[col] = found_ccm_record[col].values[0]\n",
    "            else:\n",
    "                row_dict[col] = np.nan\n",
    "        l.append(row_dict)\n",
    "    else: not_added.append((p,ccm_id))"
   ]
  },
  {
   "cell_type": "code",
   "execution_count": null,
   "metadata": {},
   "outputs": [],
   "source": [
    " not_added"
   ]
  },
  {
   "cell_type": "code",
   "execution_count": null,
   "metadata": {},
   "outputs": [],
   "source": [
    "new_overrides_df = pd.DataFrame(l)"
   ]
  },
  {
   "cell_type": "code",
   "execution_count": null,
   "metadata": {},
   "outputs": [],
   "source": [
    "manual_override_data = pd.concat([manual_override_data, new_overrides_df]).drop_duplicates('CCM_ID' , keep='last')"
   ]
  },
  {
   "cell_type": "code",
   "execution_count": null,
   "metadata": {},
   "outputs": [],
   "source": [
    "manual_override_data.iloc[-1]"
   ]
  },
  {
   "cell_type": "code",
   "execution_count": null,
   "metadata": {},
   "outputs": [],
   "source": [
    "manual_override_data['DH-OBJECTID'] = manual_override_data['DH-OBJECTID'].combine_first(manual_override_data['DH-ID'])\n",
    "manual_override_data['HCRIS-Provider Number'] = manual_override_data['HCRIS-Provider Number'].combine_first(manual_override_data['HCRIS-ID'])"
   ]
  },
  {
   "cell_type": "code",
   "execution_count": null,
   "metadata": {},
   "outputs": [],
   "source": [
    "manual_override_data.drop(['DH-ID', 'HCRIS-ID'], inplace=True, axis=1)"
   ]
  },
  {
   "cell_type": "code",
   "execution_count": null,
   "metadata": {},
   "outputs": [],
   "source": [
    "manual_override_data.to_csv(external_data_path('covidcaremap-ushcsc-facility-manual-override.csv'), index=False)"
   ]
  },
  {
   "cell_type": "code",
   "execution_count": null,
   "metadata": {},
   "outputs": [],
   "source": []
  }
 ],
 "metadata": {
  "kernelspec": {
   "display_name": "Python 3",
   "language": "python",
   "name": "python3"
  },
  "language_info": {
   "codemirror_mode": {
    "name": "ipython",
    "version": 3
   },
   "file_extension": ".py",
   "mimetype": "text/x-python",
   "name": "python",
   "nbconvert_exporter": "python",
   "pygments_lexer": "ipython3",
   "version": "3.8.2"
  }
 },
 "nbformat": 4,
 "nbformat_minor": 4
}
