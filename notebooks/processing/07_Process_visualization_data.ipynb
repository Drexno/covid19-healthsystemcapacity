{
 "cells": [
  {
   "cell_type": "markdown",
   "metadata": {},
   "source": [
    "# Process visualization data\n",
    "\n",
    "This notebook processes the CovidCareMap US Healthcare System Capacity data into the format used with the `viz/heathcare-system-capacity` visualization.\n",
    "\n",
    "It also move the HGHI and ventilator into the `viz/hghi-vents` app."
   ]
  },
  {
   "cell_type": "code",
   "execution_count": null,
   "metadata": {},
   "outputs": [],
   "source": [
    "import shutil\n",
    "import os\n",
    "import json\n",
    "\n",
    "import numpy as np\n",
    "\n",
    "from covidcaremap.data import (PUBLISHED_DATA_DIR, \n",
    "                               DATA_DIR, \n",
    "                               PROCESSED_DATA_DIR, \n",
    "                               processed_data_path)"
   ]
  },
  {
   "cell_type": "markdown",
   "metadata": {},
   "source": [
    "### Data for US Health System Capacity app"
   ]
  },
  {
   "cell_type": "code",
   "execution_count": null,
   "metadata": {},
   "outputs": [],
   "source": [
    "viz_data_dir = os.path.join(DATA_DIR, '../viz/us-healthcare-system-capacity/data')\n",
    "\n",
    "viz_input_dir = os.path.join(viz_data_dir, 'input')\n",
    "viz_config_dir = os.path.join(viz_data_dir, 'config')\n",
    "\n",
    "!mkdir -p $viz_input_dir\n",
    "!mkdir -p $viz_config_dir\n",
    "\n",
    "data_paths = [\n",
    "    (os.path.join(PUBLISHED_DATA_DIR, x), os.path.join(viz_input_dir, x))\n",
    "    for x in [\n",
    "        'us_healthcare_capacity-county-CovidCareMap.geojson',\n",
    "        'us_healthcare_capacity-facility-CovidCareMap.geojson',\n",
    "        'us_healthcare_capacity-hrr-CovidCareMap.geojson',\n",
    "        'us_healthcare_capacity-state-CovidCareMap.geojson'\n",
    "    ]\n",
    "] + [\n",
    "    (os.path.join(PROCESSED_DATA_DIR, x), os.path.join(viz_config_dir, x))\n",
    "    for x in [\n",
    "        'ccm_county_breaks.json',\n",
    "        'ccm_state_breaks.json',\n",
    "        'ccm_hrr_breaks.json',\n",
    "        'ccm_facility_breaks.json'\n",
    "    ]\n",
    "]"
   ]
  },
  {
   "cell_type": "code",
   "execution_count": null,
   "metadata": {},
   "outputs": [],
   "source": [
    "for src, dst in data_paths:\n",
    "    print('Copying {} to {}'.format(src, dst))\n",
    "    # Tippecanoe doesn't read NaN values, so convert to nulls\n",
    "    if src.endswith('.geojson'):\n",
    "        with open(src) as f:\n",
    "            gj = json.loads(f.read())\n",
    "        for feat in gj['features']:\n",
    "            for prop in feat['properties']:\n",
    "                v = feat['properties'][prop]\n",
    "                if type(v) is float and np.isnan(v):\n",
    "                    feat['properties'][prop] = None\n",
    "        with open(dst, 'w') as f:\n",
    "            f.write(json.dumps(gj, indent=2))\n",
    "    else:\n",
    "        shutil.copy(src, dst)"
   ]
  },
  {
   "cell_type": "code",
   "execution_count": null,
   "metadata": {},
   "outputs": [],
   "source": [
    "!cd $viz_data_dir && ./process.sh"
   ]
  },
  {
   "cell_type": "markdown",
   "metadata": {},
   "source": [
    "### Data for Ventilator Supply and Healthcare Capacity Map, by State  app"
   ]
  },
  {
   "cell_type": "code",
   "execution_count": null,
   "metadata": {},
   "outputs": [],
   "source": [
    "hghi_vents_data_dir = os.path.join(DATA_DIR, '../viz/hghi-vents/public')"
   ]
  },
  {
   "cell_type": "code",
   "execution_count": null,
   "metadata": {},
   "outputs": [],
   "source": [
    "hghi_vents_data = processed_data_path('hghi_state_data_with_vents.geojson')"
   ]
  },
  {
   "cell_type": "code",
   "execution_count": null,
   "metadata": {},
   "outputs": [],
   "source": [
    "!cp $hghi_vents_data $hghi_vents_data_dir"
   ]
  },
  {
   "cell_type": "code",
   "execution_count": null,
   "metadata": {},
   "outputs": [],
   "source": []
  }
 ],
 "metadata": {
  "kernelspec": {
   "display_name": "Python 3",
   "language": "python",
   "name": "python3"
  },
  "language_info": {
   "codemirror_mode": {
    "name": "ipython",
    "version": 3
   },
   "file_extension": ".py",
   "mimetype": "text/x-python",
   "name": "python",
   "nbconvert_exporter": "python",
   "pygments_lexer": "ipython3",
   "version": "3.8.2"
  }
 },
 "nbformat": 4,
 "nbformat_minor": 4
}
