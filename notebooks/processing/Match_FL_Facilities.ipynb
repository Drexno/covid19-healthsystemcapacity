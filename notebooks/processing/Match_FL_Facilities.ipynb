{
 "cells": [
  {
   "cell_type": "code",
   "execution_count": null,
   "metadata": {},
   "outputs": [],
   "source": [
    "%load_ext autoreload\n",
    "%autoreload 2\n",
    "\n",
    "import os\n",
    "import json\n",
    "from os.path import join, isdir\n",
    "from pathlib import Path\n",
    "\n",
    "import pandas as pd\n",
    "import geopandas as gpd\n",
    "import numpy as np\n",
    "\n",
    "from covidcaremap.data import (processed_data_path, \n",
    "                               external_data_path,\n",
    "                               published_data_path,\n",
    "                               local_data_path)\n",
    "\n",
    "from rapidfuzz import fuzz, process"
   ]
  },
  {
   "cell_type": "code",
   "execution_count": null,
   "metadata": {},
   "outputs": [],
   "source": [
    "ccm_matching_df = pd.read_csv(external_data_path('covidcaremap_facility_matching_20200407.csv'))"
   ]
  },
  {
   "cell_type": "code",
   "execution_count": null,
   "metadata": {},
   "outputs": [],
   "source": [
    "ccm_matching_df.head()"
   ]
  },
  {
   "cell_type": "code",
   "execution_count": null,
   "metadata": {},
   "outputs": [],
   "source": [
    "ccm_csv_df = pd.read_csv(\n",
    "    published_data_path('us_healthcare_capacity-facility-CovidCareMap.csv'), \n",
    "    dtype={'HCRIS-Provider Number': object, \n",
    "           'DH-OBJECTID': object,\n",
    "           'CCM_ID': object\n",
    "          }\n",
    ")"
   ]
  },
  {
   "cell_type": "code",
   "execution_count": null,
   "metadata": {
    "scrolled": true
   },
   "outputs": [],
   "source": [
    "ccm_csv_df.head()"
   ]
  },
  {
   "cell_type": "code",
   "execution_count": null,
   "metadata": {},
   "outputs": [],
   "source": [
    "update_date = sorted([f.stem for f in Path(external_data_path('Florida/')).iterdir() if 'csv' in f.suffix], reverse=True)[0].split('_')[-1]\n",
    "update_date"
   ]
  },
  {
   "cell_type": "code",
   "execution_count": null,
   "metadata": {},
   "outputs": [],
   "source": [
    "fl_hosp = pd.read_csv(external_data_path(f'Florida/Hospital_BedsHospital1_crosstab_{update_date}.csv'), encoding='utf-16', sep='\\t')\n",
    "fl_icu = pd.read_csv(external_data_path(f'Florida/ICU_BedsHospital1_crosstab_{update_date}.csv'), encoding='utf-16', sep='\\t')"
   ]
  },
  {
   "cell_type": "code",
   "execution_count": null,
   "metadata": {},
   "outputs": [],
   "source": [
    "fl_icu.shape, fl_hosp.shape"
   ]
  },
  {
   "cell_type": "code",
   "execution_count": null,
   "metadata": {},
   "outputs": [],
   "source": [
    "fl_icu.head()"
   ]
  },
  {
   "cell_type": "code",
   "execution_count": null,
   "metadata": {},
   "outputs": [],
   "source": [
    "fl_hosp.drop(0,inplace=True), fl_icu.drop(0,inplace=True)"
   ]
  },
  {
   "cell_type": "code",
   "execution_count": null,
   "metadata": {},
   "outputs": [],
   "source": [
    "fl_hosp['Total Staffed Bed Capacity'] = fl_hosp['Total Staffed Bed Capacity'].apply(lambda x: int(x.replace(',','')))\n",
    "fl_icu['Total AdultICU Capacity'] = fl_icu['Total AdultICU Capacity'].apply(lambda x: int(x.replace(',','')))\n",
    "fl_hosp['Bed Census'] = fl_hosp['Bed Census'].apply(lambda x: int(x.replace(',','')))\n",
    "fl_icu['Adult ICU Census'] = fl_icu['Adult ICU Census'].apply(lambda x: int(x.replace(',','')))"
   ]
  },
  {
   "cell_type": "code",
   "execution_count": null,
   "metadata": {},
   "outputs": [],
   "source": [
    "fl_hosp.head()"
   ]
  },
  {
   "cell_type": "code",
   "execution_count": null,
   "metadata": {
    "scrolled": false
   },
   "outputs": [],
   "source": [
    "fl_icu.head()"
   ]
  },
  {
   "cell_type": "code",
   "execution_count": null,
   "metadata": {},
   "outputs": [],
   "source": [
    "ccm_matching_df.columns"
   ]
  },
  {
   "cell_type": "code",
   "execution_count": null,
   "metadata": {},
   "outputs": [],
   "source": [
    "ccm_fl = ccm_matching_df[ccm_matching_df['State'] == 'FL']\n",
    "ccm_fl.head()"
   ]
  },
  {
   "cell_type": "code",
   "execution_count": null,
   "metadata": {},
   "outputs": [],
   "source": [
    "search_ccm_fl = []\n",
    "for idx, row in ccm_fl.iterrows():\n",
    "    search_ccm_fl.append((', ').join(row[['Name', \n",
    "                                          'DH name lookup', \n",
    "                                          'HCRIS name lookup',\n",
    "#                                           'County'\n",
    "                                         ]].values.astype('str')).replace('nan',''))"
   ]
  },
  {
   "cell_type": "code",
   "execution_count": null,
   "metadata": {},
   "outputs": [],
   "source": [
    "search_ccm_fl_dict = {el:ccm_fl.iloc[idx]['CCM_ID'] for idx, el in enumerate(search_ccm_fl)}"
   ]
  },
  {
   "cell_type": "code",
   "execution_count": null,
   "metadata": {},
   "outputs": [],
   "source": [
    "fl_hosp.columns"
   ]
  },
  {
   "cell_type": "code",
   "execution_count": null,
   "metadata": {},
   "outputs": [],
   "source": [
    "county = ''\n",
    "for idx, row in fl_hosp.iterrows():\n",
    "    search_str = (', ').join(fl_hosp.loc[idx,\n",
    "                                        ['ProviderName',\n",
    "                                        ]].values.astype(str))\n",
    "\n",
    "    \n",
    "    if row['County'] != county:\n",
    "        search_ccm_county = []\n",
    "        for _, r in ccm_fl[ccm_fl['County'] == row['County']].iterrows():\n",
    "#             print(ccm_fl.loc[idx,['Name', 'Address', 'County','Zipcode']])\n",
    "            search_ccm_county.append((', ').join(r[['Name', \n",
    "                                                  'DH name lookup', \n",
    "                                                  'HCRIS name lookup',\n",
    "        #                                           'County'\n",
    "                                                 ]].values.astype('str')).replace('nan',''))    \n",
    "    county = row['County']\n",
    "    \n",
    "    result = process.extractOne(search_str, search_ccm_county)\n",
    "\n",
    "    if result != None:\n",
    "        \n",
    "        fl_hosp.loc[idx,'Matched Name'] = result[0]\n",
    "        fl_hosp.loc[idx,'Matched Score'] = result[1]\n",
    "        fl_hosp.loc[idx,'CCM_ID'] = search_ccm_fl_dict[result[0]]\n",
    "        fl_hosp.loc[idx,'CCM County'] = county\n"
   ]
  },
  {
   "cell_type": "code",
   "execution_count": null,
   "metadata": {},
   "outputs": [],
   "source": [
    "fl_hosp.shape"
   ]
  },
  {
   "cell_type": "code",
   "execution_count": null,
   "metadata": {},
   "outputs": [],
   "source": [
    "fl_hosp.head()"
   ]
  },
  {
   "cell_type": "code",
   "execution_count": null,
   "metadata": {
    "scrolled": false
   },
   "outputs": [],
   "source": [
    "fl_hosp[(fl_hosp['Matched Score'] > 90)][['ProviderName','Matched Name']]"
   ]
  },
  {
   "cell_type": "code",
   "execution_count": null,
   "metadata": {},
   "outputs": [],
   "source": [
    "# save to file to do manual check and matching\n",
    "fl_hosp.to_csv(processed_data_path(f'fl_facilitymatch_debug{update_date}.csv'))"
   ]
  }
 ],
 "metadata": {
  "kernelspec": {
   "display_name": "Python 3",
   "language": "python",
   "name": "python3"
  },
  "language_info": {
   "codemirror_mode": {
    "name": "ipython",
    "version": 3
   },
   "file_extension": ".py",
   "mimetype": "text/x-python",
   "name": "python",
   "nbconvert_exporter": "python",
   "pygments_lexer": "ipython3",
   "version": "3.8.2"
  }
 },
 "nbformat": 4,
 "nbformat_minor": 4
}
