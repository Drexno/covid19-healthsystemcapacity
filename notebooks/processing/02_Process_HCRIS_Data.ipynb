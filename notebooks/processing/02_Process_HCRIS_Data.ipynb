{
 "cells": [
  {
   "cell_type": "code",
   "execution_count": null,
   "metadata": {},
   "outputs": [],
   "source": [
    "import os\n",
    "import json\n",
    "from copy import copy\n",
    "\n",
    "import pandas as pd\n",
    "import numpy as np\n",
    "import geopandas as gpd\n",
    "\n",
    "from covidcaremap.data import external_data_path, processed_data_path"
   ]
  },
  {
   "cell_type": "markdown",
   "metadata": {},
   "source": [
    "# Get total & ICU staffed bed counts for every acute hospital facility in USA\n",
    "\n",
    "Following methodology from this paper: https://www.ncbi.nlm.nih.gov/pmc/articles/PMC5514420/\n",
    "\n",
    "> Study Design and Data Sources\n",
    "\n",
    "> We performed a repeated-measures time series analysis of US ICU bed supply during the 16-year period between 1996 and 2011. We obtained data on hospital characteristics and intensive care occupancy from the Centers for Medicare and Medicaid Services Hospital Cost Report Information System (HCRIS), a publicly available hospital-level database with detailed information on structural, organizational and cost data for all US hospitals. We excluded skilled nursing facilities, long term acute care hospitals, hospitals located in US territories and stand-alone pediatric hospitals (1, 2). We augmented the HCRIS data with data from the US Census Bureau’s 2010 urban-rural classification file which we used to designate hospitals as urban or rural by ZIP code (5).\n",
    "\n",
    "> Variables\n",
    "\n",
    "> The primary dependent variable was each hospital’s number of ICU beds compared to the previous year. We defined total ICU beds using the summed counts of four HCRIS bed categories that were available throughout the study interval: intensive care beds, surgical intensive care beds, cardiac intensive care beds and burn intensive care beds \n",
    "\n",
    "## Useful References & Links:\n",
    "\n",
    "CMS Healthcare Cost Report Information System (HCRIS):\n",
    "https://www.cms.gov/Research-Statistics-Data-and-Systems/Downloadable-Public-Use-Files/Cost-Reports/Hospital-2010-form\n",
    "\n",
    "Hospital Facilities: \n",
    "- http://downloads.cms.gov/files/hcris/hosp10-reports.zip\n",
    "\n",
    "Public Use File (annual, from 2015): \n",
    "- https://data.cms.gov/api/views/absp-nd3x/files/e0ca9126-8fd6-42ca-82bf-c2fe40bd4c0e?download=true&filename=CostReport_Documentation_2015_Final_Oct2019.xlsx\n",
    "- https://www.cms.gov/files/zip/hospital-cost-report-public-use-file-2015.zip\n",
    "\n",
    "![](https://www.resdac.org/sites/resdac.umn.edu/files/kb-images/Figure%204_2.png)\n",
    "\n",
    "Direct link to 2018 reporting from hospitals: http://downloads.cms.gov/Files/hcris/HOSP10FY2018.zip\n",
    "\n",
    "\n",
    "## Specific guidance for what we're doing here:\n",
    "from CMS data research guide: https://www.resdac.org/articles/medicare-cost-report-data-structure\n",
    "\n",
    "![alt text](https://www.resdac.org/sites/resdac.umn.edu/files/kb-images/Figure%205.PNG)\n",
    "\n",
    "> In summary, the number of beds will be located in the numeric file. \n",
    "\n",
    "> To identify the number of beds for every report in numeric file, filter the records where the second column (Worksheet Indicator) is “S300001,” the third column (Line Number) is “01400”, and the fourth column (Column Number) is “00200”. \n",
    "\n",
    "> To identify the number of beds for a specific report submitted by a specific facility, filter the records by the “Record Report Number,” which is reported in Column 1. The Report Record Number for a specific facility can be found in the Report data file.\n",
    "\n",
    "## Official Worksheet Definitions\n",
    "\n",
    "from Provider Reimbursement Manual (https://www.cms.gov/Regulations-and-Guidance/Guidance/Manuals/Paper-Based-Manuals-Items/CMS021935):\n",
    "\n",
    "Column 2--Refer to 42 CFR 412.105(b) and 69 FR 49093-49098 (August 11, 2004) to determine the facility bed count. Indicate the number of beds available for use by patients at the end of the cost reporting period.\n",
    "\n",
    "A bed means an adult bed, pediatric bed, portion of inpatient labor/delivery/postpartum (LDP) room (also referred to as birthing room) bed when used for services other than labor and delivery, or newborn ICU bed (excluding newborn bassinets) maintained in a patient care area for lodging patients in acute, long term, or domiciliary areas of the hospital. Beds in post-anesthesia, post- operative recovery rooms, outpatient areas, emergency rooms, ancillary departments (however, see exception for labor and delivery department), nurses' and other staff residences, and other such areas that are regularly maintained and utilized for only a portion of the stay of patients (primarily for special procedures or not for inpatient lodging) are not termed a bed for these purposes. (See CMS Pub. 15-1, chapter 22, §2205.)\n",
    "\n",
    "For cost reporting periods beginning prior to October 1, 2012, beds in distinct ancillary labor and delivery rooms and the proportion of LDP room (birthing room) beds used for labor and delivery services are not a bed for these purposes. (See 68 FR 45420 (August 1, 2003).)\n",
    "\n",
    "For cost reporting periods beginning on or after October 1, 2012, in accordance with 77 FR 53411- 53413 (August 31, 2012), beds in distinct labor and delivery rooms, when occupied by an inpatient receiving IPPS-level acute care hospital services or when unoccupied, are considered to be part of a hospital’s inpatient available bed count in accordance with 42 CFR 412.105(b) and are to be reported on line 32. Furthermore, the proportion of the inpatient LDP room (birthing room) beds used for ancillary labor and delivery services is considered part of the hospital’s available bed count.\n",
    "\n",
    "Column 8--Enter the number of inpatient days for all classes of patients for each component. Include organ acquisition and HMO days in this column. This amount will not equal the sum of columns 5 through 7, when the provider renders services to other than titles V, XVIII, or XIX patients.\n",
    "\n",
    "Line 1--For cost reporting periods beginning before October 1, 2012, exclude from column 2 the portion of LDP room (birthing room) beds used for ancillary labor and delivery services, but include on this line beds used for routine adult and pediatric services (postpartum). In accordance with the instructions in 68 FR 45420 (August 1, 2003), compute this proportion (off the cost report) by multiplying the total number of occupied and unoccupied available beds in the LDP room by the percentage of time these beds were used for ancillary labor and delivery services. An example of how to calculate the “percentage of time” would be for a hospital to determine the number of hours for the cost reporting period during which each LDP room maternity patient received labor and delivery services and divide the sum of those hours for all such patients by the sum of the total hours (for both, ancillary labor and delivery services and for routine postpartum services) that all maternity patients spent in the LDP room during that cost reporting period. Alternatively, a hospital could calculate an average percentage of time maternity patients received ancillary labor and delivery services in an LDP room during a typical month.\n",
    "For cost reporting periods beginning on or after October 1, 2012, include all the available LDP room (birthing room) beds in the available bed count in column 2. (See 77 FR 53411-53413 (August 31, 2012).) The proportion of available LDP room beds related to the ancillary labor and delivery services must not be excluded from column 2 for those cost reporting periods.\n",
    "In columns 5, 6, 7 and 8, enter the number of adult and pediatric hospital days excluding the SNF and NF swing-bed, observation bed, and hospice days. In columns 6 and 7, also exclude HMO days. Do not include in column 6 Medicare Secondary Payer/Lesser of Reasonable Cost (MSP/LCC) days. Include these days only in column 8. However, do not include employee discount days in column 8.\n",
    "\n",
    "Line 7--Enter the sum of lines 1, 5, and 6.\n",
    "Lines 8 through 13--Enter the appropriate statistic applicable to each discipline for all programs.\n",
    "Line 14--Enter the sum of lines 7 through 13 for columns 2 through 8, and for columns 12 through 15, enter the amount from line 1. For columns 9 through 11, enter the total for each from your records. Labor and delivery days (as defined in the instructions for Worksheet S-3, Part I, line 32) must not be included on this line.\n",
    "\n",
    "\n"
   ]
  },
  {
   "cell_type": "markdown",
   "metadata": {},
   "source": [
    "## Methods\n",
    "\n",
    "This notebook gathers the HCRIS information based on the following inputs:\n",
    "\n",
    "- The hospital data at http://downloads.cms.gov/files/hcris/hosp10-reports.zip \n",
    "  - HOSPITAL10_PROVIDER_ID_INFO.CSV (`HOSPITAL10`): Provides facility level IDs, names and addresses\n",
    "- The 2018 reporting data from http://downloads.cms.gov/Files/hcris/HOSP10FY2018.zip\n",
    "  - hosp10_2018_RPT.CSV (`HOSP10_RPT`): Provides facility report information.\n",
    "  - hosp10_2018_NMRC.CSV (`HOSP10_NMRC`): Contains the numeric column values that are linked back to the report data from above.\n",
    "- A data dictionary at https://www.cms.gov/files/zip/hospital2010-documentation.zip\n",
    "  - HCRIS_DataDictionary.csv: provides report column codes with titles.\n",
    "\n",
    "It then takes the following steps:\n",
    "\n",
    "- Join the `HOSPITAL10` data and `HOSP10_RPT` to get all information about a facility per report.\n",
    "- Filter the `HOSP10_NMRC` to only those line numbers and columns we care about\n",
    "  - Filter `Line Number` to keep information about Staffed Beds, Staffed Bed Days, and Inpatient Days AND\n",
    "  - Filter `Column Number` to keep information concerning the numeric counts related to: \n",
    "    - Hospital Adult and Peds\n",
    "    - Intensive Care Unit \n",
    "    - Coronary Care Unit\n",
    "    - Burn ICU\n",
    "    - Surgical ICU \n",
    "    - Total\n",
    "- Join the filtered `HOSP10_NMRC` data to the previously joined `HOSPITAL10` and `HOSP10_RPT` data.\n",
    "- Aggregate counts for 'Intensive Care Unit', 'Coronary Care Unit', 'Burn ICU', 'Surgical ICU' into 'ICU Total Staffed Beds',  'ICU Total Bed Days Available', 'ICU Total Inpatient Days'.\n",
    "- Calculate 'ICU Occupancy Rate' and 'Total Bed Occupancy Rate' using the ratio of Inpatient Days to Bed Day Available for ICU and over all totals. If the '* Bed Days' columns are not available, then compute them by using the number of staffed bed multiplied by the number of days between the report's Fiscal Year Begin Date and Fiscal Year End Date\n",
    "- The resulting dataset will have information per Record per Facility. Some facility have multiple records. Choose the record with the 'Fiscal Year End Date' being the most recent.\n",
    "- Any facilities that do not have report records are dropped.\n",
    "- Drop problematic facilities, e.g. PARKVIEW MEDICAL CENTER which reports 2,290,239,239 total beds. \n",
    "- Join with the `usa_hospital_beds_hcris2018_geocoded.geojson` dataset based on 'Provider Number', generate a new GeoJSON file that contains all aggregated counts and other relevant HCRIS information with this joined data.\n"
   ]
  },
  {
   "cell_type": "markdown",
   "metadata": {},
   "source": [
    "### Load the HCRIS Facility data"
   ]
  },
  {
   "cell_type": "code",
   "execution_count": null,
   "metadata": {},
   "outputs": [],
   "source": [
    "hosp_df = pd.read_csv(external_data_path('HCRIS-HOSPITAL10_PROVIDER_ID_INFO.CSV'))\n",
    "hosp_df.head()"
   ]
  },
  {
   "cell_type": "code",
   "execution_count": null,
   "metadata": {},
   "outputs": [],
   "source": [
    "# provider num should be 6 char so need to zfill\n",
    "hosp_df['PROVIDER_NUMBER'] = hosp_df['PROVIDER_NUMBER'].apply(lambda x: str(x).zfill(6))\n",
    "\n",
    "# Rename this column to match up with reports\n",
    "hosp_df = hosp_df.rename(columns={'PROVIDER_NUMBER': 'Provider Number'})"
   ]
  },
  {
   "cell_type": "code",
   "execution_count": null,
   "metadata": {},
   "outputs": [],
   "source": [
    "# Show all providers in San Francisco county\n",
    "hosp_df[hosp_df['County'] == 'SAN FRANCISCO']"
   ]
  },
  {
   "cell_type": "markdown",
   "metadata": {},
   "source": [
    "### Use the HCRIS data dictionary to generate data mappings"
   ]
  },
  {
   "cell_type": "code",
   "execution_count": null,
   "metadata": {},
   "outputs": [],
   "source": [
    "hcris_dict = pd.read_csv(external_data_path('HCRIS-HCRIS_DataDictionary.csv'))\n",
    "hcris_dict.head()"
   ]
  },
  {
   "cell_type": "code",
   "execution_count": null,
   "metadata": {},
   "outputs": [],
   "source": [
    "data_dict = {c:t for c,t in zip(hcris_dict['Column Code'],hcris_dict['Title'])}\n",
    "data_dict"
   ]
  },
  {
   "cell_type": "code",
   "execution_count": null,
   "metadata": {},
   "outputs": [],
   "source": [
    "# Report Table file columns\n",
    "rpt_columns = [\n",
    "               'RPT_REC_NUM',\n",
    "               'PRVDR_CTRL_TYPE_CD',\n",
    "               'PRVDR_NUM',\n",
    "               'NPI',\n",
    "               'RPT_STUS_CD',\n",
    "               'FY_BGN_DT',\n",
    "               'FY_END_DT',\n",
    "               'PROC_DT',\n",
    "               'INITL_RPT_SW',\n",
    "               'LAST_RPT_SW',\n",
    "               'TRNSMTL_NUM',\n",
    "               'FI_NUM',\n",
    "               'ADR_VNDR_CD',\n",
    "               'FI_CREAT_DT',\n",
    "               'UTIL_CD',\n",
    "               'NPR_DT',\n",
    "               'SPEC_IND',\n",
    "               'FI_RCPT_DT'\n",
    "]\n",
    "[data_dict[col] for col in rpt_columns]"
   ]
  },
  {
   "cell_type": "code",
   "execution_count": null,
   "metadata": {},
   "outputs": [],
   "source": [
    "# Numerical Table file columns\n",
    "nmrc_columns = [\n",
    "             'RPT_REC_NUM',\n",
    "             'WKSHT_CD',\n",
    "             'LINE_NUM',\n",
    "             'CLMN_NUM',\n",
    "             'ITM_VAL_NUM'\n",
    "]\n",
    "[data_dict[col] for col in nmrc_columns]"
   ]
  },
  {
   "cell_type": "code",
   "execution_count": null,
   "metadata": {},
   "outputs": [],
   "source": [
    "# Maps to 'Line Number' in the numeric report\n",
    "beds_dict = {\n",
    "    'Hospital Adult and Peds': '00100',\n",
    "    'Intensive Care Unit': '00800',\n",
    "    'Coronary Care Unit': '00900',\n",
    "    'Burn ICU': '01000',\n",
    "    'Surgical ICU': '01100',\n",
    "    'Total': '01400'\n",
    "}\n",
    "\n",
    "# Maps to 'Column Number' in numeric report\n",
    "value_count_dict = {\n",
    "    'Staffed Beds': '00200',\n",
    "    'Bed Days Available': '00300',\n",
    "    'Inpatient Days': '00800'\n",
    "}\n",
    "\n",
    "icu_beds = ['Intensive Care Unit', 'Coronary Care Unit', 'Burn ICU', 'Surgical ICU']\n",
    "icu_staffed_beds_columns = ['{} Staffed Beds'.format(x) for x in icu_beds]\n",
    "icu_bed_days_columns = ['{} Bed Days Available'.format(x) for x in icu_beds]\n",
    "icu_inpatient_days_columns = ['{} Inpatient Days'.format(x) for x in icu_beds]\n",
    "\n",
    "all_count_columns = [\n",
    "    'ICU Total Staffed Beds', \n",
    "    'ICU Total Bed Days Available',\n",
    "    'ICU Total Inpatient Days',\n",
    "    'ICU Occupancy Rate',\n",
    "    'Total Bed Occupancy Rate'\n",
    "]\n",
    "\n",
    "for bed_desc in beds_dict:\n",
    "    for value_desc in value_count_dict:\n",
    "        column_name = '{} {}'.format(bed_desc, value_desc)\n",
    "        all_count_columns.append(column_name)"
   ]
  },
  {
   "cell_type": "code",
   "execution_count": null,
   "metadata": {},
   "outputs": [],
   "source": [
    "beds_dict_flip = {v:k for k,v in beds_dict.items()}\n",
    "bedtype_list = list(beds_dict_flip.keys())\n",
    "\n",
    "value_count_dict_flip = {v:k for k,v in value_count_dict.items()}\n",
    "value_count_list = list(value_count_dict_flip.keys())"
   ]
  },
  {
   "cell_type": "markdown",
   "metadata": {},
   "source": [
    "### Load the HCRIS report file"
   ]
  },
  {
   "cell_type": "code",
   "execution_count": null,
   "metadata": {},
   "outputs": [],
   "source": [
    "hosp10_rpt_df = pd.read_csv(external_data_path('HCRIS-hosp10_2018_RPT.CSV'), \n",
    "                            names=[data_dict[col] for col in rpt_columns], \n",
    "                            dtype={'Provider Number':object})\n",
    "hosp10_nmrc_df = pd.read_csv(external_data_path('HCRIS-hosp10_2018_NMRC.CSV'),  \n",
    "                             names=[data_dict[col] for col in nmrc_columns], \n",
    "                             dtype={'Line Number':object, 'Column Number':object})    "
   ]
  },
  {
   "cell_type": "code",
   "execution_count": null,
   "metadata": {},
   "outputs": [],
   "source": [
    "hosp10_rpt_df[hosp10_rpt_df['Provider Number'] == '010032']"
   ]
  },
  {
   "cell_type": "code",
   "execution_count": null,
   "metadata": {},
   "outputs": [],
   "source": [
    "hosp_df[hosp_df['Provider Number'] == '010032']"
   ]
  },
  {
   "cell_type": "code",
   "execution_count": null,
   "metadata": {},
   "outputs": [],
   "source": [
    "hosp10_nmrc_df[hosp10_nmrc_df['Report Record Number'] == 623132] "
   ]
  },
  {
   "cell_type": "markdown",
   "metadata": {},
   "source": [
    "### Join the data and format into counts"
   ]
  },
  {
   "cell_type": "markdown",
   "metadata": {},
   "source": [
    "#### Filter hosp10_2018_nmrc_df records to just what we care about and index by report number."
   ]
  },
  {
   "cell_type": "code",
   "execution_count": null,
   "metadata": {},
   "outputs": [],
   "source": [
    "filter_condition = (hosp10_nmrc_df['Worksheet Identifier'] == 'S300001') & \\\n",
    "                   (hosp10_nmrc_df['Column Number'].isin(value_count_list)) & \\\n",
    "                   (hosp10_nmrc_df['Line Number'].isin(bedtype_list))\n",
    "filtered_record_df = hosp10_nmrc_df[filter_condition].set_index('Report Record Number')\n",
    "filtered_record_df.count()\n"
   ]
  },
  {
   "cell_type": "markdown",
   "metadata": {},
   "source": [
    "#### Join filtered numeric records, HOSP10_RPT, and HOSPITAL10 data"
   ]
  },
  {
   "cell_type": "code",
   "execution_count": null,
   "metadata": {},
   "outputs": [],
   "source": [
    "hosp_and_rpt = hosp10_rpt_df.join(hosp_df.set_index('Provider Number'), \n",
    "                                 on='Provider Number')\n",
    "hosp_and_rpt_and_records = hosp_and_rpt.join(filtered_record_df, on='Report Record Number')\n"
   ]
  },
  {
   "cell_type": "code",
   "execution_count": null,
   "metadata": {},
   "outputs": [],
   "source": [
    "hosp_and_rpt_and_records[['Provider Number', 'Process Date', 'Report Record Number', 'Line Number', 'Column Number', 'Item Value Number']].head()"
   ]
  },
  {
   "cell_type": "markdown",
   "metadata": {},
   "source": [
    "#### Group the data, creating columns that contain the count values we are interested in\n",
    "\n",
    "This step creates columns that have a 0 value for all rows in the dataframe except those that match the Line Number and Column Number for the target counts; for these rows, the value will be the count value in 'Item Number Value'.\n",
    "We then perform a \"groupby\" operation that will sum lines up per Report Record Number and Provider Number, so that we end up with a row per report that has all the counts of interest."
   ]
  },
  {
   "cell_type": "code",
   "execution_count": null,
   "metadata": {},
   "outputs": [],
   "source": [
    "report_cells_to_be_grouped = hosp_and_rpt_and_records.copy()"
   ]
  },
  {
   "cell_type": "code",
   "execution_count": null,
   "metadata": {},
   "outputs": [],
   "source": [
    "count_columns = []\n",
    "for bed_desc, bed_key in beds_dict.items():\n",
    "    for value_desc, value_key in value_count_dict.items():\n",
    "        column_name = '{} {}'.format(bed_desc, value_desc)\n",
    "        count_columns.append(column_name)\n",
    "        def column_mapper(row):            \n",
    "            if row['Line Number'] == bed_key and row['Column Number'] == value_key:\n",
    "                return row['Item Value Number']\n",
    "            else:\n",
    "                return 0\n",
    "        report_cells_to_be_grouped[column_name] = report_cells_to_be_grouped.apply(column_mapper, axis=1)"
   ]
  },
  {
   "cell_type": "code",
   "execution_count": null,
   "metadata": {},
   "outputs": [],
   "source": [
    "report_cells_to_be_grouped"
   ]
  },
  {
   "cell_type": "code",
   "execution_count": null,
   "metadata": {},
   "outputs": [],
   "source": [
    "record_sum_columns = ['Provider Number', 'Report Record Number'] + count_columns\n",
    "provider_record_sums = report_cells_to_be_grouped[record_sum_columns].groupby(\n",
    "    ['Provider Number', 'Report Record Number']).sum()\n",
    "\n",
    "# Merge in report dates to use in case bed days available is missing\n",
    "provider_record_sums = provider_record_sums.reset_index().merge(\n",
    "    report_cells_to_be_grouped[['Report Record Number', \n",
    "                                'Fiscal Year Begin Date',\n",
    "                                'Fiscal Year End Date']], on='Report Record Number'\n",
    ")"
   ]
  },
  {
   "cell_type": "markdown",
   "metadata": {},
   "source": [
    "### Calculate ICU totals and Occupancy rates\n",
    "\n",
    "In the case where Bed Days are 0, they are computed using the staffed bed counts and the duration of the reporting periods."
   ]
  },
  {
   "cell_type": "code",
   "execution_count": null,
   "metadata": {},
   "outputs": [],
   "source": [
    "provider_record_sums['ICU Total Staffed Beds'] = provider_record_sums[icu_staffed_beds_columns].sum(axis=1)\n",
    "provider_record_sums['ICU Total Bed Days Available'] = provider_record_sums[icu_bed_days_columns].sum(axis=1)\n",
    "provider_record_sums['ICU Total Inpatient Days'] = provider_record_sums[icu_inpatient_days_columns].sum(axis=1)\n",
    "\n",
    "provider_record_sums['beg_date'] = pd.to_datetime(provider_record_sums['Fiscal Year Begin Date'])\n",
    "provider_record_sums['end_date'] = pd.to_datetime(provider_record_sums['Fiscal Year End Date'])\n",
    "provider_record_sums['days'] = (provider_record_sums['end_date'] -\n",
    "                                provider_record_sums['beg_date']).dt.days\n",
    "\n",
    "provider_record_sums.loc[provider_record_sums['ICU Total Bed Days Available'] == 0,\n",
    "                         'ICU Total Bed Days Available'] = \\\n",
    "    provider_record_sums['days'] * provider_record_sums['ICU Total Staffed Beds']\n",
    "provider_record_sums.loc[provider_record_sums['Total Bed Days Available'] == 0,\n",
    "                         'Total Bed Days Available'] = \\\n",
    "    provider_record_sums['days'] * provider_record_sums['Total Staffed Beds']\n",
    "\n",
    "provider_record_sums = provider_record_sums.drop(columns=['Fiscal Year Begin Date',\n",
    "                                       'Fiscal Year End Date',\n",
    "                                       'beg_date',\n",
    "                                       'end_date',\n",
    "                                       'days'])\n",
    "\n",
    "provider_record_sums['ICU Occupancy Rate'] = provider_record_sums['ICU Total Inpatient Days']/provider_record_sums['ICU Total Bed Days Available']\n",
    "provider_record_sums.loc[provider_record_sums['ICU Total Bed Days Available'] == 0, \n",
    "                         'ICU Occupancy Rate'] = 0.0\n",
    "\n",
    "provider_record_sums['Total Bed Occupancy Rate'] = provider_record_sums['Total Inpatient Days']/provider_record_sums['Total Bed Days Available']\n",
    "provider_record_sums.loc[provider_record_sums['Total Bed Days Available'] == 0, \n",
    "                         'Total Bed Occupancy Rate'] = 0.0\n"
   ]
  },
  {
   "cell_type": "markdown",
   "metadata": {},
   "source": [
    "### Join with full report data"
   ]
  },
  {
   "cell_type": "code",
   "execution_count": null,
   "metadata": {},
   "outputs": [],
   "source": [
    "provider_record_sums = provider_record_sums.set_index(['Provider Number', 'Report Record Number'])\n",
    "full_df = hosp_and_rpt.set_index(['Provider Number', 'Report Record Number']).join(provider_record_sums)\n"
   ]
  },
  {
   "cell_type": "markdown",
   "metadata": {},
   "source": [
    "### Filter to a single report by dropping all reports besides one with latest fiscal year end date"
   ]
  },
  {
   "cell_type": "code",
   "execution_count": null,
   "metadata": {},
   "outputs": [],
   "source": [
    "full_df = full_df.reset_index()\n",
    "full_df['Fiscal Year End Date'] = pd.to_datetime(full_df['Fiscal Year End Date'])\n",
    "full_df = full_df.sort_values('Fiscal Year End Date', ascending=False)"
   ]
  },
  {
   "cell_type": "code",
   "execution_count": null,
   "metadata": {},
   "outputs": [],
   "source": [
    "# check that duplicates are dropped by Fiscal Year End Date correctly\n",
    "dup_provider_nums = full_df[full_df.duplicated('Provider Number')]['Provider Number'].values\n",
    "full_df.loc[full_df['Provider Number'].isin(dup_provider_nums)].sort_values('Provider Number')"
   ]
  },
  {
   "cell_type": "code",
   "execution_count": null,
   "metadata": {},
   "outputs": [],
   "source": [
    "full_df = full_df.drop_duplicates('Provider Number')"
   ]
  },
  {
   "cell_type": "code",
   "execution_count": null,
   "metadata": {},
   "outputs": [],
   "source": [
    "# check that duplicates are dropped by Fiscal Year End Date correctly\n",
    "full_df.loc[full_df['Provider Number'].isin(dup_provider_nums)].sort_values('Provider Number')"
   ]
  },
  {
   "cell_type": "markdown",
   "metadata": {},
   "source": [
    "### Generate final dataframe of provider information"
   ]
  },
  {
   "cell_type": "code",
   "execution_count": null,
   "metadata": {},
   "outputs": [],
   "source": [
    "final_columns = list(hosp_df.columns.values) + list(provider_record_sums.columns.values)"
   ]
  },
  {
   "cell_type": "code",
   "execution_count": null,
   "metadata": {},
   "outputs": [],
   "source": [
    "final_df = full_df[final_columns]"
   ]
  },
  {
   "cell_type": "code",
   "execution_count": null,
   "metadata": {},
   "outputs": [],
   "source": [
    "final_df.head()"
   ]
  },
  {
   "cell_type": "markdown",
   "metadata": {},
   "source": [
    "### Drop bad facility data"
   ]
  },
  {
   "cell_type": "code",
   "execution_count": null,
   "metadata": {},
   "outputs": [],
   "source": [
    "# Drop PARKVIEW MEDICAL CENTER which reports over 2 million staffed beds.\n",
    "# final_df = final_df[final_df['Provider Number'] != '060020']"
   ]
  },
  {
   "cell_type": "markdown",
   "metadata": {},
   "source": [
    "### Match data to geocoded facility information\n",
    "\n",
    "These points are geocoded from the origina v1 notebook `usa_hcris2018_facilitybedcounts_20200313_v1.ipynb`.\n",
    "\n",
    "Notes from original GeoCoding:\n",
    "\n",
    "- geocoding first with google maps which gave best results, fall back to mapbox geocode and then search_str without street address\n",
    "- TODO: figure out why geocoder with gmaps stopped sending requests halfway through, temp switch to directly using gmaps api"
   ]
  },
  {
   "cell_type": "code",
   "execution_count": null,
   "metadata": {},
   "outputs": [],
   "source": [
    "geojson = json.loads(open(processed_data_path('usa_facilities_hcris_geocoded.geojson')).read())"
   ]
  },
  {
   "cell_type": "code",
   "execution_count": null,
   "metadata": {},
   "outputs": [],
   "source": [
    "## Key our data by Provider Number\n",
    "final_feature_data = final_df.to_dict(orient='records')\n",
    "final_feature_data_keyed = dict((r['Provider Number'], r) for r in final_feature_data)\n"
   ]
  },
  {
   "cell_type": "markdown",
   "metadata": {},
   "source": [
    "#### Create empty facility information for facilities without HCRIS records"
   ]
  },
  {
   "cell_type": "code",
   "execution_count": null,
   "metadata": {},
   "outputs": [],
   "source": [
    "nodata_properties = copy(final_feature_data[0])\n",
    "for key in nodata_properties:\n",
    "    if type(nodata_properties[key]) is int:\n",
    "        nodata_properties[key] = 0\n",
    "    elif type(nodata_properties[key]) is float:\n",
    "        nodata_properties[key] = 0.0\n",
    "    else:\n",
    "        nodata_properties[key] = 'NoData'"
   ]
  },
  {
   "cell_type": "code",
   "execution_count": null,
   "metadata": {},
   "outputs": [],
   "source": [
    "def generate_properties(provider_number):\n",
    "    if provider_number in final_feature_data_keyed:\n",
    "        new_properties = final_feature_data_keyed[provider_number]\n",
    "        return new_properties\n",
    "    return None"
   ]
  },
  {
   "cell_type": "markdown",
   "metadata": {},
   "source": [
    "#### Replace properties from geocoded facilities with calculated HRCIS properties"
   ]
  },
  {
   "cell_type": "code",
   "execution_count": null,
   "metadata": {},
   "outputs": [],
   "source": [
    "facilities_with_data = 0\n",
    "facilities_without_data = 0\n",
    "new_features = []\n",
    "for feature in geojson['features']:\n",
    "    provider_number = feature['properties']['Provider Number']\n",
    "    new_props = generate_properties(provider_number)\n",
    "    if new_props is not None:\n",
    "        facilities_with_data += 1\n",
    "        feature['properties'] = new_props\n",
    "        new_features.append(feature)\n",
    "    else:\n",
    "        facilities_without_data += 1\n",
    "        \n",
    "    \n",
    "geojson['features'] = new_features\n",
    "print('{} Found, {} not found'.format(facilities_with_data, facilities_without_data))"
   ]
  },
  {
   "cell_type": "code",
   "execution_count": null,
   "metadata": {},
   "outputs": [],
   "source": [
    "geojson['features'][0]"
   ]
  },
  {
   "cell_type": "markdown",
   "metadata": {},
   "source": [
    "### Write usa_hospital_beds_hcris2018 GeoJSON"
   ]
  },
  {
   "cell_type": "code",
   "execution_count": null,
   "metadata": {},
   "outputs": [],
   "source": [
    "with open(processed_data_path('usa_hospital_beds_hcris2018.geojson'), 'w') as f:\n",
    "    f.write(json.dumps(geojson, indent=4))"
   ]
  },
  {
   "cell_type": "markdown",
   "metadata": {},
   "source": [
    "# Update HCRIS facility reports with work by Jacob Fenton (jsfenfen)\n",
    "\n",
    "Here, we incorporate the excellent, open-source work by Jacob who pulled together more HCRIS reporting data from multiple years (2017-2019) at https://github.com/jsfenfen/covid_hospitals_demographics\n",
    "\n",
    "Comparison of data sources: https://docs.google.com/spreadsheets/d/1ew9i4BZJoJuKLXDqUDnxXzasSroi9cQX3TZkbQVO-HA/edit?usp=sharing\n",
    "\n",
    "\n",
    "Wherever the facility in `usa_hospital_beds_hcris2018.geojson` matches the provider number, we'll replace the ICU and all bed counts and occupancy rates with `jsfenfen`. Since that source does not give the bed days or inpt days, we'll replace those fields with `NaN`s. The updated rows will be indicated by a new `Source` column showing either `jsfenfen` or `HCRIS 2018`.\n",
    "\n",
    "**Note** that jsfenfen includes other specialty adult \"0899\" ICU beds in the calculatation of the ICU Occupancy Rate \n"
   ]
  },
  {
   "cell_type": "code",
   "execution_count": null,
   "metadata": {},
   "outputs": [],
   "source": [
    "hospdata_jsf_df = pd.read_csv(external_data_path('hospital_data_jsfenfen20200406.csv'))"
   ]
  },
  {
   "cell_type": "code",
   "execution_count": null,
   "metadata": {},
   "outputs": [],
   "source": [
    "hospdata_jsf_df.head()"
   ]
  },
  {
   "cell_type": "code",
   "execution_count": null,
   "metadata": {},
   "outputs": [],
   "source": [
    "hcris2018_gdf = gpd.read_file(processed_data_path('usa_hospital_beds_hcris2018.geojson'))"
   ]
  },
  {
   "cell_type": "code",
   "execution_count": null,
   "metadata": {},
   "outputs": [],
   "source": [
    "hcris2018_gdf.shape, hospdata_jsf_df.shape"
   ]
  },
  {
   "cell_type": "code",
   "execution_count": null,
   "metadata": {},
   "outputs": [],
   "source": [
    "hcris2jsf_cols_dict = {\n",
    "    'Hospital Adult and Peds Staffed Beds': 'acute_beds_0700',\n",
    "    'Intensive Care Unit Staffed Beds': 'icu_beds_0800',\n",
    "    'Coronary Care Unit Staffed Beds': 'coronary_beds_0900',\n",
    "    'Burn ICU Staffed Beds': 'burn_beds_1000',\n",
    "    'Surgical ICU Staffed Beds': 'surg_icu_beds_1100',\n",
    "    'Total Staffed Beds': 'subtotal_acute_beds_1400',\n",
    "    'ICU Occupancy Rate': 'all_adult_icu_utilization',\n",
    "    'Total Bed Occupancy Rate': 'subtotal_acute_utilization'\n",
    "}\n",
    "\n",
    "jsf2hcris_cols_dict = {v:k for k,v in hcris2jsf_cols_dict.items()}\n",
    "\n",
    "jsf2hcris_cols_dict"
   ]
  },
  {
   "cell_type": "code",
   "execution_count": null,
   "metadata": {},
   "outputs": [],
   "source": [
    "hcris2018_gdf.index"
   ]
  },
  {
   "cell_type": "code",
   "execution_count": null,
   "metadata": {},
   "outputs": [],
   "source": [
    "hcris2018_gdf2 = hcris2018_gdf.set_index('Provider Number')"
   ]
  },
  {
   "cell_type": "code",
   "execution_count": null,
   "metadata": {},
   "outputs": [],
   "source": [
    "hcris2018_gdf2['Source'] = 'HCRIS 2018'"
   ]
  },
  {
   "cell_type": "code",
   "execution_count": null,
   "metadata": {},
   "outputs": [],
   "source": [
    "days_cols = [col for col in hcris2018_gdf2.columns if 'Days' in col]\n",
    "days_cols"
   ]
  },
  {
   "cell_type": "code",
   "execution_count": null,
   "metadata": {},
   "outputs": [],
   "source": [
    "hcris2018_gdf2.index"
   ]
  },
  {
   "cell_type": "code",
   "execution_count": null,
   "metadata": {},
   "outputs": [],
   "source": [
    "jsf2hcris_cols_dict[col]"
   ]
  },
  {
   "cell_type": "code",
   "execution_count": null,
   "metadata": {},
   "outputs": [],
   "source": [
    "for i, row in hospdata_jsf_df.iterrows():\n",
    "    provider_num_str = str(row['provider_id_int']).zfill(6)\n",
    "    \n",
    "    for col in list(jsf2hcris_cols_dict.keys()):\n",
    "        if 'utilization' in col: hcris2018_gdf2.loc[provider_num_str, jsf2hcris_cols_dict[col]] = row[col]/100\n",
    "        else: hcris2018_gdf2.loc[provider_num_str, jsf2hcris_cols_dict[col]] = row[col]\n",
    "    \n",
    "    hcris2018_gdf2.loc[provider_num_str, list(days_cols)] = np.nan\n",
    "\n",
    "    all_icu_beds = row[['icu_beds_0800', 'coronary_beds_0900', 'burn_beds_1000', 'surg_icu_beds_1100']].sum(min_count=1, skipna=True)\n",
    "\n",
    "    hcris2018_gdf2.loc[provider_num_str, 'ICU Total Staffed Beds'] = all_icu_beds\n",
    "    hcris2018_gdf2.loc[provider_num_str, 'Source'] = 'jsfenfen'"
   ]
  },
  {
   "cell_type": "code",
   "execution_count": null,
   "metadata": {},
   "outputs": [],
   "source": [
    "hcris2018_gdf2['Total Staffed Beds'].sum(), hcris2018_gdf2['ICU Total Staffed Beds'].sum()"
   ]
  },
  {
   "cell_type": "code",
   "execution_count": null,
   "metadata": {},
   "outputs": [],
   "source": [
    "# find the facilities that are present in jsf but not in hcris2018 (probably because it didn't report in 2018)\n",
    "hcris2018_gdf2[hcris2018_gdf2['HOSP10_Name'].isna()].index"
   ]
  },
  {
   "cell_type": "code",
   "execution_count": null,
   "metadata": {},
   "outputs": [],
   "source": [
    "# TODO: how to handle adding in non-2018 reports, dropping these ~200 records for now\n",
    "hcris2018_gdf2.drop(hcris2018_gdf2[hcris2018_gdf2['HOSP10_Name'].isna()].index, inplace=True)"
   ]
  },
  {
   "cell_type": "code",
   "execution_count": null,
   "metadata": {},
   "outputs": [],
   "source": [
    "hcris2018_gdf2.sort_values('Total Staffed Beds', ascending=False)"
   ]
  },
  {
   "cell_type": "code",
   "execution_count": null,
   "metadata": {},
   "outputs": [],
   "source": [
    "hcris2018_gdf2.sort_values('ICU Total Staffed Beds', ascending=False)"
   ]
  },
  {
   "cell_type": "code",
   "execution_count": null,
   "metadata": {},
   "outputs": [],
   "source": [
    "hcris2018_gdf2.to_file(processed_data_path('usa_hospital_beds_hcris2018_jsf.geojson'), driver='GeoJSON', encoding='utf-8')"
   ]
  },
  {
   "cell_type": "code",
   "execution_count": null,
   "metadata": {},
   "outputs": [],
   "source": []
  }
 ],
 "metadata": {
  "kernelspec": {
   "display_name": "Python 3",
   "language": "python",
   "name": "python3"
  },
  "language_info": {
   "codemirror_mode": {
    "name": "ipython",
    "version": 3
   },
   "file_extension": ".py",
   "mimetype": "text/x-python",
   "name": "python",
   "nbconvert_exporter": "python",
   "pygments_lexer": "ipython3",
   "version": "3.8.2"
  }
 },
 "nbformat": 4,
 "nbformat_minor": 4
}
