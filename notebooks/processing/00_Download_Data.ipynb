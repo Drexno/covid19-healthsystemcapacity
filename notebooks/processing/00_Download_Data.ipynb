{
 "cells": [
  {
   "cell_type": "markdown",
   "metadata": {},
   "source": [
    "# Downloading external datasets\n",
    "\n",
    "This notebook downloads datasets that are not committed to the repositoro due to their size.\n",
    "You must run this notebook in order for all the data processing notebooks to work."
   ]
  },
  {
   "cell_type": "code",
   "execution_count": null,
   "metadata": {},
   "outputs": [],
   "source": [
    "import os\n",
    "import shutil\n",
    "\n",
    "from covidcaremap.data import EXTERNAL_DATA_DIR, external_data_path\n",
    "\n",
    "DATA_DIRECTORY = EXTERNAL_DATA_DIR\n",
    "DOWNLOAD_CACHE = external_data_path('download_cache')\n",
    "\n",
    "if not os.path.exists(DOWNLOAD_CACHE):\n",
    "    os.makedirs(DOWNLOAD_CACHE)"
   ]
  },
  {
   "cell_type": "markdown",
   "metadata": {},
   "source": [
    "## Download HCRIS Data\n"
   ]
  },
  {
   "cell_type": "code",
   "execution_count": null,
   "metadata": {},
   "outputs": [],
   "source": [
    "# HCRIS-HOSPITAL10_PROVIDER_ID_INFO.CSV\n",
    "hcris_hosp10_zip_path = external_data_path('download_cache/hosp10-reports.zip')\n",
    "!wget -O $hcris_hosp10_zip_path http://downloads.cms.gov/files/hcris/hosp10-reports.zip\n",
    "hcris_hosp10_zip_path = external_data_path('download_cache/hosp10-reports.zip')      \n",
    "!cd $DOWNLOAD_CACHE && unzip -o hosp10-reports.zip\n",
    "!cd $DOWNLOAD_CACHE && mv HOSPITAL10_PROVIDER_ID_INFO.CSV  ../HCRIS-HOSPITAL10_PROVIDER_ID_INFO.CSV\n",
    "\n",
    "# HCRIS-HCRIS_DataDictionary.csv \n",
    "hcris_dd_zip_path = external_data_path('download_cache/hospital2010-documentation.zip')\n",
    "!wget -O $hcris_dd_zip_path https://www.cms.gov/files/zip/hospital2010-documentation.zip\n",
    "!cd $DOWNLOAD_CACHE && unzip -o hospital2010-documentation.zip    \n",
    "!cd $DOWNLOAD_CACHE && mv HCRIS_DataDictionary.CSV  ../HCRIS-HCRIS_DataDictionary.csv \n",
    "\n",
    "# HCRIS-hosp10_2018_RPT.CSV and HCRIS-hosp10_2018_NMRC.CSV\n",
    "hcris_rpt_zip_path = external_data_path('download_cache/HOSP10FY2018.zip')\n",
    "!wget -O $hcris_rpt_zip_path http://downloads.cms.gov/Files/hcris/HOSP10FY2018.zip\n",
    "!cd $DOWNLOAD_CACHE && unzip -o HOSP10FY2018.zip\n",
    "!cd $DOWNLOAD_CACHE && mv hosp10_2018_RPT.CSV  ../HCRIS-hosp10_2018_RPT.CSV \n",
    "!cd $DOWNLOAD_CACHE && mv hosp10_2018_NMRC.CSV  ../HCRIS-hosp10_2018_NMRC.CSV \n"
   ]
  },
  {
   "cell_type": "markdown",
   "metadata": {},
   "source": [
    "## Download US Census data by county."
   ]
  },
  {
   "cell_type": "code",
   "execution_count": null,
   "metadata": {},
   "outputs": [],
   "source": [
    "# cc-est2018-alldata.csv\n",
    "census_path = external_data_path('us-census-cc-est2018-alldata.csv')\n",
    "!wget -O $census_path https://www2.census.gov/programs-surveys/popest/datasets/2010-2018/counties/asrh/cc-est2018-alldata.csv\n",
    "    "
   ]
  },
  {
   "cell_type": "code",
   "execution_count": null,
   "metadata": {},
   "outputs": [],
   "source": []
  }
 ],
 "metadata": {
  "kernelspec": {
   "display_name": "Python 3",
   "language": "python",
   "name": "python3"
  },
  "language_info": {
   "codemirror_mode": {
    "name": "ipython",
    "version": 3
   },
   "file_extension": ".py",
   "mimetype": "text/x-python",
   "name": "python",
   "nbconvert_exporter": "python",
   "pygments_lexer": "ipython3",
   "version": "3.8.2"
  }
 },
 "nbformat": 4,
 "nbformat_minor": 4
}
