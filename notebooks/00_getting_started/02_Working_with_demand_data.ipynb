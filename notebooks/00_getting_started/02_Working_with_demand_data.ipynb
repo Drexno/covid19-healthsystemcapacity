{
 "cells": [
  {
   "cell_type": "markdown",
   "metadata": {},
   "source": [
    "# Working with demand data\n",
    "\n"
   ]
  },
  {
   "cell_type": "code",
   "execution_count": null,
   "metadata": {},
   "outputs": [],
   "source": [
    "import pandas as pd\n",
    "import geopandas as gpd\n",
    "\n",
    "from covidcaremap.data import (PUBLISHED_DATA_DIR, published_data_path, \n",
    "                                  PROCESSED_DATA_DIR, processed_data_path,\n",
    "                                  EXTERNAL_DATA_DIR, external_data_path)"
   ]
  },
  {
   "cell_type": "markdown",
   "metadata": {},
   "source": [
    "## Cases (actuals)\n",
    "\n",
    "There are open, updated datasets of confirmed cases and deaths from two sources: USAFacts and NYTtimes."
   ]
  },
  {
   "cell_type": "markdown",
   "metadata": {},
   "source": [
    "### NY Times Data\n",
    "\n",
    "The NY Times data shows cumulative cases and deaths per state or county per day.\n",
    "\n",
    "This data is pulled from their GitHub repository dynamically via these `covidcaremap.data` package methods:"
   ]
  },
  {
   "cell_type": "code",
   "execution_count": null,
   "metadata": {},
   "outputs": [],
   "source": [
    "from covidcaremap.cases import get_nytimes_cases_by_county, get_nytimes_cases_by_state\n",
    "\n",
    "nytimes_county_cases = get_nytimes_cases_by_county()\n",
    "nytimes_state_cases = get_nytimes_cases_by_state()"
   ]
  },
  {
   "cell_type": "code",
   "execution_count": null,
   "metadata": {},
   "outputs": [],
   "source": [
    "nytimes_county_cases"
   ]
  },
  {
   "cell_type": "markdown",
   "metadata": {},
   "source": [
    "### USAFacts Data\n",
    "\n",
    "The USAFacts data is by county, and is a different format than the NYTimes data. It shown total accumulated counts of death per date. It also seperates out the cases and deaths into separate files:"
   ]
  },
  {
   "cell_type": "code",
   "execution_count": null,
   "metadata": {},
   "outputs": [],
   "source": [
    "from covidcaremap.cases import get_usafacts_cases_by_county, get_usafacts_deaths_by_county\n",
    "\n",
    "usafacts_cases_df = get_usafacts_cases_by_county()\n",
    "usafacts_deaths_df = get_usafacts_deaths_by_county()"
   ]
  },
  {
   "cell_type": "code",
   "execution_count": null,
   "metadata": {},
   "outputs": [],
   "source": [
    "usafacts_cases_df"
   ]
  },
  {
   "cell_type": "markdown",
   "metadata": {},
   "source": [
    "We can begin to compare the datasets, e.g. to determine the total counts of Philadelphia County on 3/20:"
   ]
  },
  {
   "cell_type": "code",
   "execution_count": null,
   "metadata": {},
   "outputs": [],
   "source": [
    "usafacts_cases_df[usafacts_cases_df['County Name'] == 'Philadelphia County'].loc[:,'3/20/2020'].to_frame()"
   ]
  },
  {
   "cell_type": "code",
   "execution_count": null,
   "metadata": {},
   "outputs": [],
   "source": [
    "nytimes_county_cases[\n",
    "    (nytimes_county_cases['county'] == 'Philadelphia') &\n",
    "    (nytimes_county_cases['date'] == '2020-03-20')]\n"
   ]
  },
  {
   "cell_type": "markdown",
   "metadata": {},
   "source": [
    "## Forecasts\n",
    "\n",
    "Forecasting demand on the healthcare system is an essential part of identifying the capacity gap. We rely on groups exprienced in epidemiological modeling to produce models we can integrate and data we can ingest."
   ]
  },
  {
   "cell_type": "markdown",
   "metadata": {},
   "source": [
    "### IHME - by State\n",
    "\n",
    "The Institute for Health Metric and Evaluation, University of Washington (IHME) produced a fantastic [report](http://www.healthdata.org/research-article/forecasting-covid-19-impact-hospital-bed-days-icu-days-ventilator-days-and-deaths) along with a [data explorer](http://covid19.healthdata.org/projections). They are releasing new data every Monday, with predictions around bed needs per day.\n",
    "\n",
    "Data dictionary taken from the 2020_03_27 data release:\n",
    "\n",
    "- **location_name**: Name of the state\n",
    "- **date_reported**:Date\n",
    "- **allbed_mean**: Mean covid beds needed by day\n",
    "- **allbed_lower**: Lower uncertainty bound of covid beds needed by day\n",
    "- **allbed_upper**: Upper uncertainty bound of covid beds needed by day \n",
    "- **ICUbed_mean**: Mean ICU covid beds needed by day\n",
    "- **ICUbed_lower**: Lower uncertainty bound of ICU covid beds needed by day \n",
    "- **ICUbed_upper**: Upper uncertainty bound of ICU covid beds needed by day\n",
    "- **InvVen_mean**: Mean invasive ventilation needed by day\n",
    "- **InvVen_lower**: Lower uncertainty bound of invasive ventilation needed by day\n",
    "- **InvVen_upper**: Upper uncertainty bound of invasive ventilation needed by day\n",
    "- **deaths_mean**: Mean daily covid deaths\n",
    "- **deaths_lower**: Lower uncertainty bound of daily covid deaths\n",
    "- **deaths_upper**: Upper uncertainty bound of daily covid deaths\n",
    "- **admis_mean**: Mean hospital admissions by day\n",
    "- **admis_lower**: Lower uncertainty bound of hospital admissions by day\n",
    "- **admis_upper**: Upper uncertainty bound of hospital admissions by day\n",
    "- **newICU_mean**: Mean number of new people going to the ICU by day\n",
    "- **newICU_lower**: Lower uncertainty bound of the number of new people going to the ICU by day\n",
    "- **newICU_upper**: Upper uncertainty bound of the number of new people going to the ICU by day\n",
    "- **totdea_mean**: Mean cumulative covid deaths\n",
    "- **totdea_lower**: Lower uncertainty bound of cumulative covid deaths\n",
    "- **totdea_upper**: Upper uncertainty bound of cumulative covid deaths\n",
    "- **bedover_mean**: `covid all beds needed` - (`total bed capacity` - `average all bed usage`)\n",
    "- **bedover_lower**: Lower uncertainty bound of bedover (above)\n",
    "- **bedover_upper**: Upper uncertainty bound of bedover (above)\n",
    "- **icuover_mean**: `covid ICU beds needed` - (`total ICU capacity` - `average ICU bed usage`)\n",
    "- **icuover_lower**: Lower uncertainty bound of icuover (above)\n",
    "- **icuover_upper**: Upper uncertainty bound of icuover (above)"
   ]
  },
  {
   "cell_type": "code",
   "execution_count": null,
   "metadata": {},
   "outputs": [],
   "source": [
    "from covidcaremap.data import get_ihme_forecast\n",
    "\n",
    "ihme_df = get_ihme_forecast()"
   ]
  },
  {
   "cell_type": "code",
   "execution_count": null,
   "metadata": {},
   "outputs": [],
   "source": [
    "list(ihme_df.columns)"
   ]
  },
  {
   "cell_type": "code",
   "execution_count": null,
   "metadata": {},
   "outputs": [],
   "source": [
    "# Join in case data and compare projected total deaths for NY on 2020-03-26\n",
    "nytimes_state_df = get_nytimes_cases_by_state()\n",
    "\n",
    "forecast_and_cases = ihme_df.rename(columns={\n",
    "    'location_name': 'state', 'date_reported': 'date'\n",
    "}).merge(nytimes_state_df, on=['state', 'date'])\n",
    "\n",
    "forecast_and_cases[(forecast_and_cases['state'] == 'New York') &\n",
    "                    (forecast_and_cases['date'] == '2020-03-26')][['totdea_mean', 'deaths']]"
   ]
  },
  {
   "cell_type": "markdown",
   "metadata": {},
   "source": [
    "### CHIME\n",
    "\n",
    "[CHIME](https://github.com/CodeForPhilly/chime) is a tool was developed by the Predictive Healthcare team at Penn Medicine. It [implements a SIR model](https://code-for-philly.gitbook.io/chime/what-is-chime/sir-modeling) that takes a set of parameters, population, and current confirmed cases to produce a several week estimate of hospitalized, ICU, and ventilated patients. The parameters with their default values can be found in the `covidcaremap.chime` package:"
   ]
  },
  {
   "cell_type": "code",
   "execution_count": null,
   "metadata": {},
   "outputs": [],
   "source": [
    "import covidcaremap.chime as ccm_chime\n",
    "\n",
    "ccm_chime.DEFAULT_PARAMS"
   ]
  },
  {
   "cell_type": "markdown",
   "metadata": {},
   "source": [
    "The parameters are documented in `covidcaremap/chime.py`:\n",
    "\n",
    "```\n",
    "DEFAULT_PARAMS = {\n",
    "\n",
    "    # Detection Probability: Used to infer infected population from confirmed cases.\n",
    "    \"detection_probability\": 0.14,\n",
    "\n",
    "    # Doubling time before social distancing (days)\n",
    "    \"doubling_time\" : 4,\n",
    "\n",
    "    # Social Distancing Reduction Rate: 0.0 - 1.0\n",
    "    \"relative_contact_rate\": 0.3,\n",
    "\n",
    "    # Hospitalized Rate: 0.00001 - 1.0\n",
    "    \"hospitalized_rate\": 0.025,\n",
    "\n",
    "    # Hospitalized Length of Stay (days)\n",
    "    \"hospitalized_los\": 7,\n",
    "\n",
    "    # ICU Length of Stay (days)\n",
    "    \"icu_rate\": 0.0075,\n",
    "\n",
    "    # ICU Rate: 0.0 - 1.0\n",
    "    \"icu_los\": 9,\n",
    "\n",
    "    # Ventilated Rate: 0.0 - 1.0\n",
    "    \"ventilated_rate\": 0.005,\n",
    "\n",
    "    #Ventilated Length of Stay (days)\n",
    "    \"ventilated_los\": 10,\n",
    "\n",
    "    \"recovery_days\": 14\n",
    "\n",
    "}\n",
    "```"
   ]
  },
  {
   "cell_type": "markdown",
   "metadata": {},
   "source": [
    "This package also has a method to run CHIME over a region:"
   ]
  },
  {
   "cell_type": "code",
   "execution_count": null,
   "metadata": {},
   "outputs": [],
   "source": [
    "help(ccm_chime.get_regional_predictions)"
   ]
  },
  {
   "cell_type": "markdown",
   "metadata": {},
   "source": [
    "We can use this to create predictions over every county in the US:"
   ]
  },
  {
   "cell_type": "code",
   "execution_count": null,
   "metadata": {},
   "outputs": [],
   "source": [
    "from covidcaremap.cases import get_county_case_info\n",
    "\n",
    "# Gets confirmed cases from USA Facts per county for date.\n",
    "cases_by_county = get_county_case_info('3/26/2020') \n",
    "chime_county_df = ccm_chime.get_regional_predictions(cases_by_county,\n",
    "                                       region_id_column='County Name')\n",
    "chime_county_df"
   ]
  },
  {
   "cell_type": "markdown",
   "metadata": {},
   "source": [
    "### HGHI\n",
    "\n",
    "The data from the [Harvard Global Health Institute (HGHI)](https://globalepidemics.org/2020-03-17-caring-for-covid-19-patients/) study also includes forecasts. The columns for projections are:\n",
    "\n",
    "- **Projected Infected Individuals** – How many individuals over the age of 18 are expected to get infected with COVID-19 over the entire course of the pandemic\n",
    "- **Projected Hospitalized Individuals** – How many individuals over the age of 18 are expected to need hospitalization due to COVID-19 over the entire course of the pandemic        \n",
    "- **Projected Individuals Needing ICU Care** – How many individuals over the age of 18 are expected to need ICU care due to COVID-19 over the entire course of the pandemic            \n",
    "\n",
    "These numbers are based on rough percentages of infected population and hospitalization rates.\n",
    "\n",
    "See their [data dictionary](https://globalepidemics.org/2020-03-17-caring-for-covid-19-patients/#dictionary) for more column descriptions."
   ]
  },
  {
   "cell_type": "code",
   "execution_count": null,
   "metadata": {},
   "outputs": [],
   "source": [
    "hghi_state_gdf = gpd.read_file(processed_data_path('hghi_state_data.geojson'))\n",
    "hghi_state_gdf[[\n",
    "    'State Name',\n",
    "    'Projected Infected Individuals',\n",
    "    'Projected Hospitalized Individuals',\n",
    "    'Projected Individuals Needing ICU Care'\n",
    "]]"
   ]
  },
  {
   "cell_type": "markdown",
   "metadata": {},
   "source": [
    "Here we can roughly compare of HGHI and IHME total ICU patients per state."
   ]
  },
  {
   "cell_type": "code",
   "execution_count": null,
   "metadata": {},
   "outputs": [],
   "source": [
    "# Sum up all the mean new ICU patient forecasts per day for a state to get the\n",
    "# total number of patients needing ICU care.\n",
    "ihme_hghi_df = ihme_df.rename(columns={'location_name': 'State Name'}) \\\n",
    "        .groupby('State Name')[['newICU_mean',\n",
    "                               'newICU_lower',\n",
    "                               'newICU_upper']].sum() \\\n",
    "        .merge(hghi_state_gdf, on='State Name')\n",
    "\n",
    "ihme_hghi_df['Difference (Mean)'] = (ihme_hghi_df['newICU_mean'] - \n",
    "                              ihme_hghi_df['Projected Individuals Needing ICU Care'])\n",
    "ihme_hghi_df[['State Name', \n",
    "              'newICU_mean',\n",
    "              'newICU_lower',\n",
    "              'newICU_upper',\n",
    "              'Projected Individuals Needing ICU Care', \n",
    "              'Difference (Mean)']]"
   ]
  },
  {
   "cell_type": "code",
   "execution_count": null,
   "metadata": {},
   "outputs": [],
   "source": []
  }
 ],
 "metadata": {
  "kernelspec": {
   "display_name": "Python 3",
   "language": "python",
   "name": "python3"
  },
  "language_info": {
   "codemirror_mode": {
    "name": "ipython",
    "version": 3
   },
   "file_extension": ".py",
   "mimetype": "text/x-python",
   "name": "python",
   "nbconvert_exporter": "python",
   "pygments_lexer": "ipython3",
   "version": "3.8.2"
  }
 },
 "nbformat": 4,
 "nbformat_minor": 4
}
