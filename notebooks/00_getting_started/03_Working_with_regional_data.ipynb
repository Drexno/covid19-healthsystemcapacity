{
 "cells": [
  {
   "cell_type": "markdown",
   "metadata": {},
   "source": [
    "# Working with regional data\n",
    "\n",
    "We've merged 2018 US Census estimates with county and state regions. This data can be used whenever you need the spatial data; it can also be used as a pure DataFrame to get population numbers for the region based off of name or [FIPS code](https://en.wikipedia.org/wiki/FIPS_county_code).\n",
    "\n",
    "We've included convenience methods in `covidcaremap.data` to return this data as GeoDataFrames."
   ]
  },
  {
   "cell_type": "code",
   "execution_count": null,
   "metadata": {},
   "outputs": [],
   "source": [
    "from covidcaremap.data import (read_us_counties_gdf, read_us_states_gdf)"
   ]
  },
  {
   "cell_type": "markdown",
   "metadata": {},
   "source": [
    "## Counties"
   ]
  },
  {
   "cell_type": "code",
   "execution_count": null,
   "metadata": {},
   "outputs": [],
   "source": [
    "county_gdf = read_us_counties_gdf()"
   ]
  },
  {
   "cell_type": "code",
   "execution_count": null,
   "metadata": {},
   "outputs": [],
   "source": [
    "county_gdf"
   ]
  },
  {
   "cell_type": "code",
   "execution_count": null,
   "metadata": {},
   "outputs": [],
   "source": [
    "county_gdf[.plot()"
   ]
  },
  {
   "cell_type": "markdown",
   "metadata": {},
   "source": [
    "Notice the map plots with wide X axis - this is because of how Hawaii, Alaska and Puerto Rico are being rendered on the axis.\n",
    "\n",
    "We can make this look better by performing a spatial join on a polygon roughly around the continental US that I made by hand on [geojson.io](http://geojson.io/)"
   ]
  },
  {
   "cell_type": "code",
   "execution_count": null,
   "metadata": {},
   "outputs": [],
   "source": [
    "rough_conus_gdf = gpd.read_file('https://gist.githubusercontent.com/lossyrob/'\n",
    "                                '40205660b94d40c43d9a08afca08ef10/raw/'\n",
    "                                'dae80b4ce0e4bbb172abf4f31c0b3670488fc820/rough-polygon-continental-us')\n",
    "# Do a spatial join\n",
    "gpd.sjoin(county_gdf, rough_conus_gdf).plot()"
   ]
  },
  {
   "cell_type": "markdown",
   "metadata": {},
   "source": [
    "## States\n",
    "\n",
    "States are read in and can be used in the same way as counties."
   ]
  },
  {
   "cell_type": "code",
   "execution_count": null,
   "metadata": {},
   "outputs": [],
   "source": [
    "state_gdf = read_us_states_gdf()"
   ]
  },
  {
   "cell_type": "code",
   "execution_count": null,
   "metadata": {},
   "outputs": [],
   "source": [
    "state_gdf"
   ]
  },
  {
   "cell_type": "code",
   "execution_count": null,
   "metadata": {},
   "outputs": [],
   "source": []
  }
 ],
 "metadata": {
  "kernelspec": {
   "display_name": "Python 3",
   "language": "python",
   "name": "python3"
  },
  "language_info": {
   "codemirror_mode": {
    "name": "ipython",
    "version": 3
   },
   "file_extension": ".py",
   "mimetype": "text/x-python",
   "name": "python",
   "nbconvert_exporter": "python",
   "pygments_lexer": "ipython3",
   "version": "3.8.2"
  }
 },
 "nbformat": 4,
 "nbformat_minor": 4
}
