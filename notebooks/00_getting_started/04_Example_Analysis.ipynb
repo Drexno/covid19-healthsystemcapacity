{
 "cells": [
  {
   "cell_type": "markdown",
   "metadata": {},
   "source": [
    "# Example Analysis\n",
    "\n",
    "This notebook provides some example analysis that can be done when combining the supply, demand, and regional datasets from the previous notebooks."
   ]
  },
  {
   "cell_type": "markdown",
   "metadata": {},
   "source": [
    "## Calculate per capita ICU capacity for SF vs Bay Area counties\n",
    "\n",
    "This calculuation will compute per capita numbers for ICU capacity for San Francisco and counties in the Bay Area."
   ]
  },
  {
   "cell_type": "code",
   "execution_count": null,
   "metadata": {},
   "outputs": [],
   "source": [
    "import os\n",
    "\n",
    "import pandas as pd\n",
    "from geopandas import gpd\n",
    "\n",
    "from covidcaremap.data import published_data_path, processed_data_path\n",
    "from covidcaremap.geo import sum_per_region"
   ]
  },
  {
   "cell_type": "markdown",
   "metadata": {},
   "source": [
    "Read in the facility CCM data and county polygons."
   ]
  },
  {
   "cell_type": "code",
   "execution_count": null,
   "metadata": {},
   "outputs": [],
   "source": [
    "ccm_facility_data_gpd = gpd.read_file(published_data_path(\n",
    "    'us_healthcare_capacity-facility-CovidCareMap.geojson'))\n",
    "\n",
    "county_gdf = gpd.read_file(processed_data_path('us_counties_with_pop.geojson'))"
   ]
  },
  {
   "cell_type": "markdown",
   "metadata": {},
   "source": [
    "Filter the counties down to the regions of interest."
   ]
  },
  {
   "cell_type": "code",
   "execution_count": null,
   "metadata": {},
   "outputs": [],
   "source": [
    "counties_of_interest = ['Alamedac County',\n",
    "                        'Marin County', \n",
    "                        'Sonoma County', \n",
    "                        'Napa County', \n",
    "                        'Solano County', \n",
    "                        'Contra Costa County',\n",
    "                        'Santa Cruz County']\n",
    "\n",
    "filtered_county_gdf = county_gdf\n",
    "filtered_county_gdf['Region Name'] = filtered_county_gdf['County Name'] + ' County'\n",
    "filtered_county_gdf = filtered_county_gdf[filtered_county_gdf['Region Name'].isin(counties_of_interest)]\n",
    "filtered_county_gdf = filtered_county_gdf[['Region Name', 'Population', 'geometry']]\n",
    "filtered_county_gdf"
   ]
  },
  {
   "cell_type": "markdown",
   "metadata": {},
   "source": [
    "Fetch the SF polygon and set population and a region id to match the county level data, and then merge it in with the county data."
   ]
  },
  {
   "cell_type": "code",
   "execution_count": null,
   "metadata": {},
   "outputs": [],
   "source": [
    "# Get san francisco GeoJSON        \n",
    "sf_neighborhoods_gdf = gpd.read_file('https://raw.githubusercontent.com/codeforamerica/click_that_hood/master/public/data/san-francisco.geojson')\n",
    "\n",
    "sf_neighborhoods_gdf['region_id'] = 1\n",
    "\n",
    "# This data is a set of neighborhood polygons.\n",
    "# Use the 'dissolve' method to merge them into a single polygon.\n",
    "sf_gdf = sf_neighborhoods_gdf.dissolve(by='region_id')[['geometry']]\n",
    "\n",
    "# Source: 2017 Census data\n",
    "sf_gdf['Region Name'] = 'San Francisco'\n",
    "sf_gdf['Population'] = 884363\n",
    "\n",
    "counties_and_sf_gdf = pd.concat([filtered_county_gdf,sf_gdf])\n"
   ]
  },
  {
   "cell_type": "markdown",
   "metadata": {},
   "source": [
    "Run the `sum_per_region` which takes facility-level data and creates a summary DF for the regions."
   ]
  },
  {
   "cell_type": "code",
   "execution_count": null,
   "metadata": {},
   "outputs": [],
   "source": [
    "result_gdf = sum_per_region(ccm_facility_data_gpd,\n",
    "                   counties_and_sf_gdf,\n",
    "                   groupby_columns='Region Name',\n",
    "                   region_id_column='Region Name',\n",
    "                   population_columns={'People': 'Population'})\n",
    "result_df = result_gdf[['Region Name',\n",
    "                        'Staffed ICU Beds',\n",
    "                        'Staffed All Beds',\n",
    "                        'Licensed All Beds',\n",
    "                        'All Bed Occupancy Rate',\n",
    "                        'ICU Bed Occupancy Rate',\n",
    "                        'Staffed ICU Beds [Per 1000 People]',\n",
    "                        'Staffed All Beds [Per 1000 People]',\n",
    "                        'Licensed All Beds [Per 1000 People]']]\n",
    "result_df"
   ]
  },
  {
   "cell_type": "markdown",
   "metadata": {},
   "source": [
    "## Comparing CHIME and IHME forecasts\n",
    "\n",
    "Here we make a comparison between the CHIME and IHME forecasts."
   ]
  },
  {
   "cell_type": "code",
   "execution_count": null,
   "metadata": {},
   "outputs": [],
   "source": [
    "from datetime import datetime, timedelta\n",
    "\n",
    "from covidcaremap.data import read_us_states_gdf, get_ihme_forecast\n",
    "from covidcaremap.cases import get_nytimes_cases_by_state\n",
    "import covidcaremap.chime as ccm_chime"
   ]
  },
  {
   "cell_type": "markdown",
   "metadata": {},
   "source": [
    "Take the cases from 2020-03-25 as a starting point and run chime for 30 days."
   ]
  },
  {
   "cell_type": "code",
   "execution_count": null,
   "metadata": {},
   "outputs": [],
   "source": [
    "states_df = read_us_states_gdf()\n",
    "states_df"
   ]
  },
  {
   "cell_type": "code",
   "execution_count": null,
   "metadata": {},
   "outputs": [],
   "source": [
    "cases_by_state = get_nytimes_cases_by_state()\n",
    "cases_by_state = cases_by_state[cases_by_state['date'] == '2020-03-25'].merge(\n",
    "    states_df, left_on='state', right_on='State Name'\n",
    ")"
   ]
  },
  {
   "cell_type": "markdown",
   "metadata": {},
   "source": [
    "Run chime against the states. Chime seems to need to run for more days than you want, so set to 40"
   ]
  },
  {
   "cell_type": "code",
   "execution_count": null,
   "metadata": {},
   "outputs": [],
   "source": [
    "chime_predictions = ccm_chime.get_regional_predictions(\n",
    "    cases_by_state,\n",
    "    'State Name',\n",
    "    cases_column='cases',\n",
    "    num_days=40\n",
    ")"
   ]
  },
  {
   "cell_type": "code",
   "execution_count": null,
   "metadata": {},
   "outputs": [],
   "source": [
    "chime_on_date = chime_predictions[chime_predictions['day'] == 30]\n",
    "chime_on_date"
   ]
  },
  {
   "cell_type": "markdown",
   "metadata": {},
   "source": [
    "Load the IHME data and filter to our compare date"
   ]
  },
  {
   "cell_type": "code",
   "execution_count": null,
   "metadata": {},
   "outputs": [],
   "source": [
    "ihme_df = get_ihme_forecast()"
   ]
  },
  {
   "cell_type": "code",
   "execution_count": null,
   "metadata": {},
   "outputs": [],
   "source": [
    "target_date = (datetime(2020,3,25) + timedelta(days=30)).strftime('%Y-%m-%d')\n",
    "ihme_on_date = ihme_df[ihme_df['date_reported'] == target_date]\n",
    "ihme_on_date"
   ]
  },
  {
   "cell_type": "markdown",
   "metadata": {},
   "source": [
    "Merge the ihme and chime data, then select some comparable columns."
   ]
  },
  {
   "cell_type": "code",
   "execution_count": null,
   "metadata": {},
   "outputs": [],
   "source": [
    "ihme_chime = ihme_on_date.rename(columns={'location_name': 'State Name'}) \\\n",
    "                         .merge(chime_on_date, on='State Name')\n",
    "\n",
    "ihme_chime_subset = ihme_chime[[\n",
    "    'State Name',\n",
    "    'admis_lower',\n",
    "    'admis_mean',\n",
    "    'admis_upper',\n",
    "    'hospitalized_admitted'\n",
    "]]\n",
    "ihme_chime_subset"
   ]
  },
  {
   "cell_type": "markdown",
   "metadata": {},
   "source": [
    "## Comparing HGHI and CovidCareMap.org occupancy rates\n",
    "\n",
    "Left as an exercise to the reader!"
   ]
  },
  {
   "cell_type": "code",
   "execution_count": null,
   "metadata": {},
   "outputs": [],
   "source": []
  },
  {
   "cell_type": "markdown",
   "metadata": {},
   "source": [
    "## Calculate ICU capacity gap metric\n",
    "\n",
    "Another exercise!\n",
    "\n",
    "Calculate the difference between available ICU beds (Staffed ICU Beds minus those occupied, determined by the ICU Bed Occupancy Rate) and `ICUbed_mean` projections from IHME\n",
    "per state. Use this to determine if there is a date at which the projected ICU demands\n",
    "outstrip the capacity."
   ]
  },
  {
   "cell_type": "code",
   "execution_count": null,
   "metadata": {},
   "outputs": [],
   "source": []
  }
 ],
 "metadata": {
  "kernelspec": {
   "display_name": "Python 3",
   "language": "python",
   "name": "python3"
  },
  "language_info": {
   "codemirror_mode": {
    "name": "ipython",
    "version": 3
   },
   "file_extension": ".py",
   "mimetype": "text/x-python",
   "name": "python",
   "nbconvert_exporter": "python",
   "pygments_lexer": "ipython3",
   "version": "3.8.2"
  }
 },
 "nbformat": 4,
 "nbformat_minor": 4
}
