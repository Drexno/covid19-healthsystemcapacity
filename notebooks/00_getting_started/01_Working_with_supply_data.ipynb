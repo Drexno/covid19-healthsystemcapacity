{
 "cells": [
  {
   "cell_type": "markdown",
   "metadata": {},
   "source": [
    "# Working with supply data\n",
    "\n",
    "COVID Care Map has collected information about the US healthcare system supply, including information about hospital bed capacity and occupancy, ventilator supply, and models that estimate staffing needs and PPE burn rates.\n",
    "\n",
    "**Table of Contents**\n",
    "- [Hospital Bed Capacity and Occupancy](#Hospital-Bed-Capacity-and-Occupancy)\n",
    "  - [CovidCareMap.org Data](#CovidCareMap.org-Data---by-facility,-state,-county-and-HRR)\n",
    "  - [HGHI Data](#HGHI---by-state-and-HRR)\n",
    "  - [HIFLD Data](#HGHI---by-state-and-HRR)\n",
    "- [Ventilator Data](#Ventilators---2010-estimates-by-state)\n",
    "- [Staffing Model](#Staffing-model)\n",
    "- [PPE burn rate model](#PPE-burn-rate-model)"
   ]
  },
  {
   "cell_type": "code",
   "execution_count": null,
   "metadata": {},
   "outputs": [],
   "source": [
    "import pandas as pd\n",
    "import geopandas as gpd\n",
    "\n",
    "from covidcaremap.data import (PUBLISHED_DATA_DIR, published_data_path, \n",
    "                                  PROCESSED_DATA_DIR, processed_data_path,\n",
    "                                  EXTERNAL_DATA_DIR, external_data_path)"
   ]
  },
  {
   "cell_type": "markdown",
   "metadata": {},
   "source": [
    "## Hospital Bed Capacity and Occupancy\n",
    "\n",
    "The amount of hospitals beds that a facility has to service the surge of COVID-19 patients is determined by the counts of beds in that facility as well as the availability of those beds. In normal operation hospitals have a bed occupancy rate that describes how many beds are occupied by non-COVID-19 patients and therefore not available to handle the surge of patients as a result of the pandemic. Furthermore, not all hospital beds are the same: we also need to know the counts and occupancy rates of ICU (Intensive Care Unit) beds, which are required to service patients in critical condition.\n",
    "\n",
    "The values related to bed counts are defined as follows:\n",
    "\n",
    "- **Staffed All Beds** - Number of hospital beds of all types typically set up and staffed for inpatient care as reported/estimated in selected facility or area\n",
    "\n",
    "- **Staffed ICU Beds** - Number of ICU beds typically set up and staffed for intensive inpatient care as reported/estimated in selected facility or area\n",
    "\n",
    "- **Licensed All Beds** - Number of hospital beds of all types licensed for potential use in selected facility or area\n",
    "\n",
    "- **All Bed Occupancy Rate** - % of hospital beds of all types typically occupied by patients in selected facility or area\n",
    "\n",
    "- **ICU Bed Occupancy Rate** - % of ICU beds typically occupied by patients in selected facility or area\n",
    "\n",
    "We have a few data sources that describe bed information at different spatial levels:"
   ]
  },
  {
   "cell_type": "markdown",
   "metadata": {},
   "source": [
    "### CovidCareMap.org Data - by facility, state, county and HRR"
   ]
  },
  {
   "cell_type": "markdown",
   "metadata": {},
   "source": [
    "The CovidCareMap.org data utilizes [Healthcare Cost Report Information System (HCRIS) data](https://github.com/covidcaremap/covid19-healthsystemcapacity/tree/master/data#healthcare-cost-report-information-system-hcris-data) and [Definitive Health (DH) data](https://github.com/covidcaremap/covid19-healthsystemcapacity/tree/master/data#healthcare-cost-report-information-system-hcris-data) in a processing pipeline that determines merges the two datasets and rolls them up to the county, state, and HRR (Hospital Referral Region) level. See the notebooks at [../processing] to see the steps to generate this data if you're interested; however you can just start consuming the data for analysis via the CSV and GeoJSON files we produce.\n",
    "\n",
    "This is the data that powers the [US healthcare system capacity map](https://www.covidcaremap.org/maps/us-healthcare-system-capacity).\n",
    "\n",
    "This data is in the `PUBLISHED_DATA_DIR`:"
   ]
  },
  {
   "cell_type": "code",
   "execution_count": null,
   "metadata": {},
   "outputs": [],
   "source": [
    "!ls $PUBLISHED_DATA_DIR"
   ]
  },
  {
   "cell_type": "markdown",
   "metadata": {},
   "source": [
    "We can read in read in the CSV with pandas as well as the GeoJSON with GeoPandas:"
   ]
  },
  {
   "cell_type": "code",
   "execution_count": null,
   "metadata": {},
   "outputs": [],
   "source": [
    "ccm_facilities_df = pd.read_csv(published_data_path('us_healthcare_capacity-facility-CovidCareMap.csv'))\n",
    "ccm_facilities_df.columns"
   ]
  },
  {
   "cell_type": "code",
   "execution_count": null,
   "metadata": {},
   "outputs": [],
   "source": [
    "ccm_facilities_gdf = gpd.read_file(published_data_path('us_healthcare_capacity-facility-CovidCareMap.geojson'))\n",
    "ccm_facilities_gdf.plot()"
   ]
  },
  {
   "cell_type": "markdown",
   "metadata": {},
   "source": [
    "We can read in the county, state, or HRR level information the same way:"
   ]
  },
  {
   "cell_type": "code",
   "execution_count": null,
   "metadata": {},
   "outputs": [],
   "source": [
    "ccm_states_gdf = gpd.read_file(published_data_path('us_healthcare_capacity-state-CovidCareMap.geojson'))\n",
    "# Remove Hawaii and Alaska to make the plot nicer looking - no shade\n",
    "ccm_states_gdf[~ccm_states_gdf['State Name'].isin(['Hawaii', 'Alaska'])].plot()"
   ]
  },
  {
   "cell_type": "markdown",
   "metadata": {},
   "source": [
    "The facility, county, state, and HRR data will have the same sort of bed information, but each can have their own columns available. See the [data dictionary](https://github.com/covidcaremap/covid19-healthsystemcapacity/tree/master/data#covidcaremap-capacity-data-dictionary) or explore the DataFrames to see what information is available for what level of detail. For instance, regional levels all have per-capita numbers, broken down in to age groups:"
   ]
  },
  {
   "cell_type": "code",
   "execution_count": null,
   "metadata": {},
   "outputs": [],
   "source": [
    "per_capita_columns = [x for x in ccm_states_gdf.columns if 'Per ' in x]\n",
    "per_capita_columns"
   ]
  },
  {
   "cell_type": "code",
   "execution_count": null,
   "metadata": {},
   "outputs": [],
   "source": [
    "ccm_states_gdf[['State Name', 'Population'] + per_capita_columns]"
   ]
  },
  {
   "cell_type": "markdown",
   "metadata": {},
   "source": [
    "### HGHI - by state and HRR\n",
    "\n",
    "This is data that is taken from a study by the [Harvard Global Health Institute (HGHI)](https://globalepidemics.org/2020-03-17-caring-for-covid-19-patients/). It describes bed counts sourced from a different set of sources than what the CovidCareMap.org data uses. It also includes data about projected bed needs based on forecasted patient numbers.\n",
    "\n",
    "See their [data dictionary](https://globalepidemics.org/2020-03-17-caring-for-covid-19-patients/#dictionary) for column descriptions.\n",
    "\n",
    "The original datasets are in the `EXTERNAL_DATA_DIR`:"
   ]
  },
  {
   "cell_type": "code",
   "execution_count": null,
   "metadata": {},
   "outputs": [],
   "source": [
    "!ls $EXTERNAL_DATA_DIR/HGHI*"
   ]
  },
  {
   "cell_type": "markdown",
   "metadata": {},
   "source": [
    "We've processed this data GeoJSON format, and have a version for states that combines ventilator data - this is what's used to power the [hghi-vents map](https://www.covidcaremap.org/maps/hghi-vents)."
   ]
  },
  {
   "cell_type": "code",
   "execution_count": null,
   "metadata": {},
   "outputs": [],
   "source": [
    "!ls $PROCESSED_DATA_DIR/hghi_state*"
   ]
  },
  {
   "cell_type": "markdown",
   "metadata": {},
   "source": [
    "Here we read in the state data and inspect the columns:"
   ]
  },
  {
   "cell_type": "code",
   "execution_count": null,
   "metadata": {},
   "outputs": [],
   "source": [
    "hghi_state_gdf = gpd.read_file(processed_data_path('hghi_state_data.geojson'))\n",
    "list(hghi_state_gdf.columns)"
   ]
  },
  {
   "cell_type": "markdown",
   "metadata": {},
   "source": [
    "### HIFLD - by facility\n",
    "\n",
    "The Homeland Infrastructure Foundation-Level Data (HIFLD) dataset includes information about hospital facilities similar to the HCRIS and DH data. We plan to merge in this facility information to the CovidCareMap.org data; this work is pending [Issue #70](https://github.com/covidcaremap/covid19-healthsystemcapacity/issues/70).\n",
    "\n",
    "See https://hifld-geoplatform.opendata.arcgis.com/datasets/hospitals for more information."
   ]
  },
  {
   "cell_type": "code",
   "execution_count": null,
   "metadata": {},
   "outputs": [],
   "source": [
    "!ls $EXTERNAL_DATA_DIR/hifld*"
   ]
  },
  {
   "cell_type": "code",
   "execution_count": null,
   "metadata": {},
   "outputs": [],
   "source": [
    "hifld_facility_df = pd.read_csv(external_data_path('hifld-hospitals.csv'))\n",
    "list(hifld_facility_df.columns)"
   ]
  },
  {
   "cell_type": "markdown",
   "metadata": {},
   "source": [
    "## Ventilators - 2010 estimates by state\n",
    "\n",
    "The latest published ventilator estimates we could find were from [a 2010 study](https://www.cambridge.org/core/journals/disaster-medicine-and-public-health-preparedness/article/mechanical-ventilators-in-us-acute-care-hospitals/F1FDBACA53531F2A150D6AD8E96F144D). This is old and not ideal data, of course, but it is currently the best estimates we have right now for analysis. It includes per capita numbers (per 100,000) that are based on a 2008 population estimate."
   ]
  },
  {
   "cell_type": "code",
   "execution_count": null,
   "metadata": {},
   "outputs": [],
   "source": [
    "!ls $EXTERNAL_DATA_DIR/vent*"
   ]
  },
  {
   "cell_type": "code",
   "execution_count": null,
   "metadata": {},
   "outputs": [],
   "source": [
    "vents_df = pd.read_csv(external_data_path('ventilators_by_state.csv'))\n",
    "list(vents_df.columns)"
   ]
  },
  {
   "cell_type": "markdown",
   "metadata": {},
   "source": [
    "## Staffing model\n",
    "\n",
    "**Note: This is work in progress. See [Generate_CCM_CareModel_Facility_Data.ipynb](../processing/Generate_CCM_CareModel_Facility_Data.ipynb) and [Generate_CareModel_Regional_Data.ipynb](../processing/Generate_CareModel_Regional_Data.ipynb) to see current work. Help wanted!**\n"
   ]
  },
  {
   "cell_type": "markdown",
   "metadata": {},
   "source": [
    "##  PPE burn rate model\n",
    "\n",
    "**Note: This is work in progress. See [PPE_needs_for_confirmed_covid-19_at_county_level.ipynb](../processing/PPE_needs_for_confirmed_covid-19_at_county_level.ipynb) to see current work. Help wanted!**"
   ]
  }
 ],
 "metadata": {
  "kernelspec": {
   "display_name": "Python 3",
   "language": "python",
   "name": "python3"
  },
  "language_info": {
   "codemirror_mode": {
    "name": "ipython",
    "version": 3
   },
   "file_extension": ".py",
   "mimetype": "text/x-python",
   "name": "python",
   "nbconvert_exporter": "python",
   "pygments_lexer": "ipython3",
   "version": "3.8.2"
  }
 },
 "nbformat": 4,
 "nbformat_minor": 4
}
