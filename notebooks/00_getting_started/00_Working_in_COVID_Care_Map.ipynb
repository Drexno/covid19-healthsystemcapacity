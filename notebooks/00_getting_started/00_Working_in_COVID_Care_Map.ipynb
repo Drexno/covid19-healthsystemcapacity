{
 "cells": [
  {
   "cell_type": "markdown",
   "metadata": {},
   "source": [
    "# Working in COVID Care map\n",
    "\n",
    "This notebook is meant to give more general information that will help you navigate the notebooks and use the patterns and practices of the project."
   ]
  },
  {
   "cell_type": "markdown",
   "metadata": {},
   "source": [
    "## Working with the `covidcaremap` package\n",
    "\n",
    "The CovidCareMap.org data science environment, which these notebooks run inside,\n",
    "consists of a Docker container running Jupyter with all dependenices pre-installed. It also includes a python module `covidcaremap` which hosts reusable code that can be used in any notebook. This notebook will give some examples of how we use the `covidcaremap` package in the project."
   ]
  },
  {
   "cell_type": "markdown",
   "metadata": {},
   "source": [
    "### Data paths"
   ]
  },
  {
   "cell_type": "code",
   "execution_count": null,
   "metadata": {},
   "outputs": [],
   "source": [
    "from covidcaremap.data import (PUBLISHED_DATA_DIR, \n",
    "                               PROCESSED_DATA_DIR, \n",
    "                               EXTERNAL_DATA_DIR)"
   ]
  },
  {
   "cell_type": "markdown",
   "metadata": {},
   "source": [
    "These three methods describe the data paths where our data files live, as described in the [data folder README](https://github.com/covidcaremap/covid19-healthsystemcapacity/tree/master/data). If you want to see what's data files are available, you can use `!ls` on these paths:"
   ]
  },
  {
   "cell_type": "code",
   "execution_count": null,
   "metadata": {},
   "outputs": [],
   "source": [
    "!ls $PUBLISHED_DATA_DIR"
   ]
  },
  {
   "cell_type": "markdown",
   "metadata": {},
   "source": [
    "We also have methods to return the correct file path given the file name:"
   ]
  },
  {
   "cell_type": "code",
   "execution_count": null,
   "metadata": {},
   "outputs": [],
   "source": [
    "from covidcaremap.data import (published_data_path, \n",
    "                              processed_data_path, \n",
    "                              external_data_path)\n",
    "\n",
    "published_data_path('us_healthcare_capacity-county-CovidCareMap.csv')"
   ]
  },
  {
   "cell_type": "markdown",
   "metadata": {},
   "source": [
    "### Loading realtime data\n",
    "\n",
    "There's also some functionaliy to pull information from updated files or live APIs in the package. For example, we use the `covidcaremap.cases` subpackage to pull in USAFacts case data per county with their latest updated data. this example pulls from the data to get the most recent number of cases (as updated by USAFacts) for Philadelphia County:"
   ]
  },
  {
   "cell_type": "code",
   "execution_count": null,
   "metadata": {},
   "outputs": [],
   "source": [
    "from covidcaremap.cases import get_usafacts_cases_by_county\n",
    "\n",
    "# Downloads the file and converts to a dataframe\n",
    "df = get_usafacts_cases_by_county()\n",
    "df[(df['County Name'] == 'Philadelphia County')].iloc[:,-1].values[0]"
   ]
  },
  {
   "cell_type": "markdown",
   "metadata": {},
   "source": [
    "## GeoPandas\n",
    "\n",
    "We use [GeoPandas](https://geopandas.org/) to read and write [GeoJSON](https://geojson.org/) files and perform spatial operations. This includes joining facility level date into thier appropriate region utilizing a spatial join.\n",
    "\n",
    "You can treat a GeoDataFrame just like a DataFrame for the most part. "
   ]
  }
 ],
 "metadata": {
  "kernelspec": {
   "display_name": "Python 3",
   "language": "python",
   "name": "python3"
  },
  "language_info": {
   "codemirror_mode": {
    "name": "ipython",
    "version": 3
   },
   "file_extension": ".py",
   "mimetype": "text/x-python",
   "name": "python",
   "nbconvert_exporter": "python",
   "pygments_lexer": "ipython3",
   "version": "3.8.2"
  }
 },
 "nbformat": 4,
 "nbformat_minor": 4
}
